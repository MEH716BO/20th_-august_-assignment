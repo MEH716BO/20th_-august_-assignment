{
 "cells": [
  {
   "cell_type": "markdown",
   "id": "21c20e3d-d19e-4377-a065-bb9b42256d04",
   "metadata": {},
   "source": [
    "20TH AUGUST 2023 PYTHON BASICS ASSIGNMENT"
   ]
  },
  {
   "cell_type": "raw",
   "id": "4c8797cb-31ea-4b99-90e6-6f822d575717",
   "metadata": {},
   "source": [
    "string based assignment"
   ]
  },
  {
   "cell_type": "code",
   "execution_count": null,
   "id": "c3c9af1e-d966-40c9-98a1-2141a6914445",
   "metadata": {},
   "outputs": [],
   "source": [
    "#1. Write a program to reverse a string."
   ]
  },
  {
   "cell_type": "code",
   "execution_count": 1,
   "id": "cbfe82a2-b352-4e13-b781-cc7816871031",
   "metadata": {},
   "outputs": [
    {
     "name": "stdin",
     "output_type": "stream",
     "text": [
      "Enter a string:  MEHBOOB MANSURI\n"
     ]
    },
    {
     "name": "stdout",
     "output_type": "stream",
     "text": [
      "Reversed string: IRUSNAM BOOBHEM\n"
     ]
    }
   ],
   "source": [
    "def reverse_string(input_string):\n",
    "    # Use slicing to reverse the string\n",
    "    reversed_string = input_string[::-1]\n",
    "    return reversed_string\n",
    "\n",
    "# Input string\n",
    "input_str = input(\"Enter a string: \")\n",
    "\n",
    "# Call the function to reverse the string\n",
    "result = reverse_string(input_str)\n",
    "\n",
    "# Print the reversed string\n",
    "print(\"Reversed string:\", result)\n"
   ]
  },
  {
   "cell_type": "code",
   "execution_count": 2,
   "id": "586b8e78-72a4-48ad-ac08-7880f7caac22",
   "metadata": {},
   "outputs": [],
   "source": [
    "#2. Check if a string is a palindrome."
   ]
  },
  {
   "cell_type": "code",
   "execution_count": 3,
   "id": "b0169e74-25ef-4685-9fcc-285809770473",
   "metadata": {},
   "outputs": [
    {
     "name": "stdin",
     "output_type": "stream",
     "text": [
      "Enter a string:  PWSKILLS\n"
     ]
    },
    {
     "name": "stdout",
     "output_type": "stream",
     "text": [
      "It's not a palindrome.\n"
     ]
    }
   ],
   "source": [
    "def is_palindrome(input_string):\n",
    "    # Remove spaces and convert to lowercase for a case-insensitive check\n",
    "    cleaned_string = input_string.replace(\" \", \"\").lower()\n",
    "    # Check if the cleaned string is equal to its reverse\n",
    "    return cleaned_string == cleaned_string[::-1]\n",
    "\n",
    "# Input string\n",
    "input_str = input(\"Enter a string: \")\n",
    "\n",
    "# Call the function to check if it's a palindrome\n",
    "if is_palindrome(input_str):\n",
    "    print(\"It's a palindrome!\")\n",
    "else:\n",
    "    print(\"It's not a palindrome.\")\n"
   ]
  },
  {
   "cell_type": "code",
   "execution_count": 4,
   "id": "1bf48c2d-5d60-4f11-bc53-af8deac55e97",
   "metadata": {},
   "outputs": [],
   "source": [
    "#3. Convert a string to uppercase."
   ]
  },
  {
   "cell_type": "code",
   "execution_count": 5,
   "id": "9ec52fa6-0aed-45b0-943f-b8b6ab319af8",
   "metadata": {},
   "outputs": [
    {
     "name": "stdin",
     "output_type": "stream",
     "text": [
      "Enter a string:  pwskills\n"
     ]
    },
    {
     "name": "stdout",
     "output_type": "stream",
     "text": [
      "Uppercase string: PWSKILLS\n"
     ]
    }
   ],
   "source": [
    "# Input string\n",
    "input_str = input(\"Enter a string: \")\n",
    "\n",
    "# Convert the string to uppercase\n",
    "uppercase_str = input_str.upper()\n",
    "\n",
    "# Print the uppercase string\n",
    "print(\"Uppercase string:\", uppercase_str)\n"
   ]
  },
  {
   "cell_type": "code",
   "execution_count": 6,
   "id": "97d5eea0-b2f3-4884-a319-c944907b65ef",
   "metadata": {},
   "outputs": [],
   "source": [
    "#4. Convert a string to lowercase."
   ]
  },
  {
   "cell_type": "code",
   "execution_count": 7,
   "id": "ae4113dc-795a-486c-9835-8a4e10534ddd",
   "metadata": {},
   "outputs": [
    {
     "name": "stdin",
     "output_type": "stream",
     "text": [
      "Enter a string:  PWSKILLS\n"
     ]
    },
    {
     "name": "stdout",
     "output_type": "stream",
     "text": [
      "Lowercase string: pwskills\n"
     ]
    }
   ],
   "source": [
    "# Input string\n",
    "input_str = input(\"Enter a string: \")\n",
    "\n",
    "# Convert the string to lowercase\n",
    "lowercase_str = input_str.lower()\n",
    "\n",
    "# Print the lowercase string\n",
    "print(\"Lowercase string:\", lowercase_str)\n"
   ]
  },
  {
   "cell_type": "code",
   "execution_count": 8,
   "id": "3d094bdd-166e-487d-8005-102828e6258f",
   "metadata": {},
   "outputs": [],
   "source": [
    "#5. Count the number of vowels in a string."
   ]
  },
  {
   "cell_type": "code",
   "execution_count": 9,
   "id": "0812238f-5992-402d-95d5-be61b0f4bd17",
   "metadata": {},
   "outputs": [
    {
     "name": "stdin",
     "output_type": "stream",
     "text": [
      "Enter a string:  my  name. is mehboob mansuri\n"
     ]
    },
    {
     "name": "stdout",
     "output_type": "stream",
     "text": [
      "Number of vowels: 9\n"
     ]
    }
   ],
   "source": [
    "# Function to count vowels in a string\n",
    "def count_vowels(input_string):\n",
    "    # Define a set of vowels (both lowercase and uppercase)\n",
    "    vowels = set(\"AEIOUaeiou\")\n",
    "    \n",
    "    # Initialize a variable to store the count\n",
    "    vowel_count = 0\n",
    "    \n",
    "    # Iterate through the characters in the string\n",
    "    for char in input_string:\n",
    "        # Check if the character is in the set of vowels\n",
    "        if char in vowels:\n",
    "            vowel_count += 1\n",
    "    \n",
    "    return vowel_count\n",
    "\n",
    "# Input string\n",
    "input_str = input(\"Enter a string: \")\n",
    "\n",
    "# Call the function to count vowels\n",
    "vowel_count = count_vowels(input_str)\n",
    "\n",
    "# Print the number of vowels in the string\n",
    "print(\"Number of vowels:\", vowel_count)\n"
   ]
  },
  {
   "cell_type": "code",
   "execution_count": 10,
   "id": "ffd538fc-fa1e-4b18-8de8-fabb27f131f0",
   "metadata": {},
   "outputs": [],
   "source": [
    "#6. Count the number of consonants in a string."
   ]
  },
  {
   "cell_type": "code",
   "execution_count": 11,
   "id": "b1a84d7a-731e-4307-b3fc-9a9749d3cc28",
   "metadata": {},
   "outputs": [
    {
     "name": "stdin",
     "output_type": "stream",
     "text": [
      "Enter a string:  my name is mehboob mansuri and your name is what\n"
     ]
    },
    {
     "name": "stdout",
     "output_type": "stream",
     "text": [
      "Number of consonants: 23\n"
     ]
    }
   ],
   "source": [
    "# Function to count consonants in a string\n",
    "def count_consonants(input_string):\n",
    "    # Define a set of vowels (both lowercase and uppercase)\n",
    "    vowels = set(\"AEIOUaeiou\")\n",
    "    \n",
    "    # Initialize a variable to store the count\n",
    "    consonant_count = 0\n",
    "    \n",
    "    # Iterate through the characters in the string\n",
    "    for char in input_string:\n",
    "        # Check if the character is an alphabet and not in the set of vowels\n",
    "        if char.isalpha() and char not in vowels:\n",
    "            consonant_count += 1\n",
    "    \n",
    "    return consonant_count\n",
    "\n",
    "# Input string\n",
    "input_str = input(\"Enter a string: \")\n",
    "\n",
    "# Call the function to count consonants\n",
    "consonant_count = count_consonants(input_str)\n",
    "\n",
    "# Print the number of consonants in the string\n",
    "print(\"Number of consonants:\", consonant_count)\n"
   ]
  },
  {
   "cell_type": "code",
   "execution_count": 12,
   "id": "7274e6cc-85d6-4715-b752-ea85e5b24871",
   "metadata": {},
   "outputs": [],
   "source": [
    "#7. Remove all whitespaces from a string."
   ]
  },
  {
   "cell_type": "code",
   "execution_count": 13,
   "id": "548abd57-0a25-4e60-9ed3-bc612575fb04",
   "metadata": {},
   "outputs": [
    {
     "name": "stdin",
     "output_type": "stream",
     "text": [
      "Enter a string:  my name. is mebhoob mansuri\n"
     ]
    },
    {
     "name": "stdout",
     "output_type": "stream",
     "text": [
      "String with whitespaces removed: myname.ismebhoobmansuri\n"
     ]
    }
   ],
   "source": [
    "# Input string\n",
    "input_str = input(\"Enter a string: \")\n",
    "\n",
    "# Remove whitespaces using the replace() method\n",
    "no_whitespace_str = input_str.replace(\" \", \"\")\n",
    "\n",
    "# Print the string with whitespaces removed\n",
    "print(\"String with whitespaces removed:\", no_whitespace_str)\n"
   ]
  },
  {
   "cell_type": "code",
   "execution_count": 14,
   "id": "18c0b046-365f-4d06-b41f-bfccd59c754b",
   "metadata": {},
   "outputs": [],
   "source": [
    "#8. Find the length of a string without using the `len()` function."
   ]
  },
  {
   "cell_type": "code",
   "execution_count": 15,
   "id": "a7cf0398-24dd-431f-8496-1d784ba34081",
   "metadata": {},
   "outputs": [
    {
     "name": "stdin",
     "output_type": "stream",
     "text": [
      "Enter a string:  mehboob mansuri\n"
     ]
    },
    {
     "name": "stdout",
     "output_type": "stream",
     "text": [
      "Length of the string: 15\n"
     ]
    }
   ],
   "source": [
    "# Input string\n",
    "input_str = input(\"Enter a string: \")\n",
    "\n",
    "# Initialize a variable to store the length\n",
    "length = 0\n",
    "\n",
    "# Iterate through the characters in the string\n",
    "for char in input_str:\n",
    "    length += 1\n",
    "\n",
    "# Print the length of the string\n",
    "print(\"Length of the string:\", length)\n"
   ]
  },
  {
   "cell_type": "code",
   "execution_count": 16,
   "id": "3d90ba37-3cc2-461e-8935-ad4e134a0f0f",
   "metadata": {},
   "outputs": [],
   "source": [
    "#9. Check if a string contains a specific word."
   ]
  },
  {
   "cell_type": "code",
   "execution_count": 17,
   "id": "68c00d07-0598-4013-b108-335759753faa",
   "metadata": {},
   "outputs": [
    {
     "name": "stdin",
     "output_type": "stream",
     "text": [
      "Enter a string:  my name is mehboob mansuri\n",
      "Enter the word to search for:  is\n"
     ]
    },
    {
     "name": "stdout",
     "output_type": "stream",
     "text": [
      "The string contains the word 'is'.\n"
     ]
    }
   ],
   "source": [
    "# Input string\n",
    "input_str = input(\"Enter a string: \")\n",
    "\n",
    "# Word to search for\n",
    "search_word = input(\"Enter the word to search for: \")\n",
    "\n",
    "# Check if the word is in the string\n",
    "if search_word in input_str:\n",
    "    print(f\"The string contains the word '{search_word}'.\")\n",
    "else:\n",
    "    print(f\"The string does not contain the word '{search_word}'.\")\n"
   ]
  },
  {
   "cell_type": "code",
   "execution_count": 18,
   "id": "e3d3f8f3-bedf-4d6d-b879-c39903f2869b",
   "metadata": {},
   "outputs": [],
   "source": [
    "#10. Replace a word in a string with another word."
   ]
  },
  {
   "cell_type": "code",
   "execution_count": 19,
   "id": "23aa3a7d-5a13-47c8-bf50-5ad0e78a6ce9",
   "metadata": {},
   "outputs": [
    {
     "name": "stdin",
     "output_type": "stream",
     "text": [
      "Enter a string:  my name is mehboob. mansuri and my. age is 29 year\n",
      "Enter the word to find:  age\n",
      "Enter the word to replace it with:  age\n"
     ]
    },
    {
     "name": "stdout",
     "output_type": "stream",
     "text": [
      "Modified string: my name is mehboob. mansuri and my. age is 29 year\n"
     ]
    }
   ],
   "source": [
    "# Input string\n",
    "input_str = input(\"Enter a string: \")\n",
    "\n",
    "# Word to find and replace\n",
    "find_word = input(\"Enter the word to find: \")\n",
    "replace_word = input(\"Enter the word to replace it with: \")\n",
    "\n",
    "# Replace the word in the string\n",
    "new_str = input_str.replace(find_word, replace_word)\n",
    "\n",
    "# Print the string with the word replaced\n",
    "print(\"Modified string:\", new_str)\n"
   ]
  },
  {
   "cell_type": "code",
   "execution_count": 20,
   "id": "4914e5bd-c6a1-4635-81a5-163a2cb27d2d",
   "metadata": {},
   "outputs": [],
   "source": [
    "#11. Count the occurrences of a word in a string."
   ]
  },
  {
   "cell_type": "code",
   "execution_count": 21,
   "id": "b7fa7b2f-5c35-4052-9d88-b85e44127226",
   "metadata": {},
   "outputs": [
    {
     "name": "stdin",
     "output_type": "stream",
     "text": [
      "Enter a string:  what are you doing today \n",
      "Enter the word to count:  doing\n"
     ]
    },
    {
     "name": "stdout",
     "output_type": "stream",
     "text": [
      "The word 'doing' appears 1 times in the string.\n"
     ]
    }
   ],
   "source": [
    "# Function to count occurrences of a word in a string\n",
    "def count_word_occurrences(input_string, target_word):\n",
    "    # Split the input string into words\n",
    "    words = input_string.split()\n",
    "    \n",
    "    # Initialize a variable to store the count\n",
    "    count = 0\n",
    "    \n",
    "    # Iterate through the words and count occurrences of the target word\n",
    "    for word in words:\n",
    "        if word == target_word:\n",
    "            count += 1\n",
    "    \n",
    "    return count\n",
    "\n",
    "# Input string\n",
    "input_str = input(\"Enter a string: \")\n",
    "\n",
    "# Word to count\n",
    "target_word = input(\"Enter the word to count: \")\n",
    "\n",
    "# Call the function to count occurrences\n",
    "occurrence_count = count_word_occurrences(input_str, target_word)\n",
    "\n",
    "# Print the number of occurrences\n",
    "print(f\"The word '{target_word}' appears {occurrence_count} times in the string.\")\n"
   ]
  },
  {
   "cell_type": "code",
   "execution_count": 22,
   "id": "cf5f4c74-39ed-418f-9bae-31fb731d0354",
   "metadata": {},
   "outputs": [],
   "source": [
    "#12. Find the first occurrence of a word in a string."
   ]
  },
  {
   "cell_type": "code",
   "execution_count": 23,
   "id": "85de6d52-22c9-4982-8418-50c2b738208b",
   "metadata": {},
   "outputs": [
    {
     "name": "stdin",
     "output_type": "stream",
     "text": [
      "Enter a string:  my name is mehboob mansuri\n",
      "Enter the word to find:  name\n"
     ]
    },
    {
     "name": "stdout",
     "output_type": "stream",
     "text": [
      "The first occurrence of 'name' is at index 3.\n"
     ]
    }
   ],
   "source": [
    "# Input string\n",
    "input_str = input(\"Enter a string: \")\n",
    "\n",
    "# Word to find\n",
    "target_word = input(\"Enter the word to find: \")\n",
    "\n",
    "# Find the first occurrence of the word in the string\n",
    "index = input_str.find(target_word)\n",
    "\n",
    "# Check if the word was found (index is not -1)\n",
    "if index != -1:\n",
    "    print(f\"The first occurrence of '{target_word}' is at index {index}.\")\n",
    "else:\n",
    "    print(f\"'{target_word}' was not found in the string.\")\n"
   ]
  },
  {
   "cell_type": "code",
   "execution_count": 24,
   "id": "49bb617d-bb33-4977-84d2-121f5842b01d",
   "metadata": {},
   "outputs": [],
   "source": [
    "#13. Find the last occurrence of a word in a string."
   ]
  },
  {
   "cell_type": "code",
   "execution_count": 25,
   "id": "a5818dea-7c5e-4214-9528-37412c92a8b6",
   "metadata": {},
   "outputs": [
    {
     "name": "stdin",
     "output_type": "stream",
     "text": [
      "Enter a string:  my name. is joker and your name. is what \n",
      "Enter the word to find:  joker\n"
     ]
    },
    {
     "name": "stdout",
     "output_type": "stream",
     "text": [
      "The last occurrence of 'joker' is at index 12.\n"
     ]
    }
   ],
   "source": [
    "# Input string\n",
    "input_str = input(\"Enter a string: \")\n",
    "\n",
    "# Word to find\n",
    "target_word = input(\"Enter the word to find: \")\n",
    "\n",
    "# Initialize a variable to store the index of the last occurrence\n",
    "last_index = -1\n",
    "\n",
    "# Find the last occurrence of the word in the string using a loop\n",
    "while True:\n",
    "    index = input_str.find(target_word, last_index + 1)\n",
    "    if index == -1:\n",
    "        break\n",
    "    last_index = index\n",
    "\n",
    "# Check if the word was found\n",
    "if last_index != -1:\n",
    "    print(f\"The last occurrence of '{target_word}' is at index {last_index}.\")\n",
    "else:\n",
    "    print(f\"'{target_word}' was not found in the string.\")\n"
   ]
  },
  {
   "cell_type": "code",
   "execution_count": 26,
   "id": "e0122849-5923-4dab-a69a-8736bb54db9e",
   "metadata": {},
   "outputs": [],
   "source": [
    "#14. Split a string into a list of words."
   ]
  },
  {
   "cell_type": "code",
   "execution_count": null,
   "id": "8b42abae-5a40-4c03-a4dd-510b850671cb",
   "metadata": {},
   "outputs": [],
   "source": [
    "# Input string\n",
    "input_str = input(\"Enter a string: \")\n",
    "\n",
    "# Split the string into a list of words (default delimiter is space)\n",
    "words_list = input_str.split()\n",
    "\n",
    "# Print the list of words\n",
    "print(\"List of words:\", words_list)\n"
   ]
  },
  {
   "cell_type": "code",
   "execution_count": 1,
   "id": "d926cce5-c57a-45c0-9f9f-247950e3f425",
   "metadata": {},
   "outputs": [],
   "source": [
    "#15. Join a list of words into a string."
   ]
  },
  {
   "cell_type": "code",
   "execution_count": 2,
   "id": "656ce58f-e2b3-4867-b69e-2cdeb84966ce",
   "metadata": {},
   "outputs": [
    {
     "name": "stdout",
     "output_type": "stream",
     "text": [
      "Joined string: Hello, World!\n"
     ]
    }
   ],
   "source": [
    "# List of words\n",
    "words_list = ['Hello,', 'World!']\n",
    "\n",
    "# Join the list of words into a string\n",
    "output_str = ' '.join(words_list)\n",
    "\n",
    "# Print the resulting string\n",
    "print(\"Joined string:\", output_str)\n"
   ]
  },
  {
   "cell_type": "code",
   "execution_count": 5,
   "id": "9a62fb18-2b12-4d07-9235-80e5b101c7ed",
   "metadata": {},
   "outputs": [
    {
     "data": {
      "text/plain": [
       "' 16. Convert a string where words are separated by spaces to one where words\\nare separated by underscores. '"
      ]
     },
     "execution_count": 5,
     "metadata": {},
     "output_type": "execute_result"
    }
   ],
   "source": [
    "''' 16. Convert a string where words are separated by spaces to one where words\n",
    "are separated by underscores. '''"
   ]
  },
  {
   "cell_type": "code",
   "execution_count": 6,
   "id": "e0c9eb56-1d58-4070-b06e-60f055197b96",
   "metadata": {},
   "outputs": [
    {
     "name": "stdin",
     "output_type": "stream",
     "text": [
      "Enter a string with spaces:  my   name v.  veera.   \n"
     ]
    },
    {
     "name": "stdout",
     "output_type": "stream",
     "text": [
      "Converted string: my___name_v.__veera.___\n"
     ]
    }
   ],
   "source": [
    "# Input string with spaces\n",
    "input_str = input(\"Enter a string with spaces: \")\n",
    "\n",
    "# Replace spaces with underscores\n",
    "output_str = input_str.replace(\" \", \"_\")\n",
    "\n",
    "# Print the converted string\n",
    "print(\"Converted string:\", output_str)\n"
   ]
  },
  {
   "cell_type": "code",
   "execution_count": 7,
   "id": "69742e7d-bc62-493e-80ac-573692b16796",
   "metadata": {},
   "outputs": [],
   "source": [
    "#17. Check if a string starts with a specific word or phrase."
   ]
  },
  {
   "cell_type": "code",
   "execution_count": 9,
   "id": "39d25098-b815-408c-bf9b-0bd64bacf9a4",
   "metadata": {},
   "outputs": [
    {
     "name": "stdin",
     "output_type": "stream",
     "text": [
      "Enter a string:  my name is kumar \n",
      "Enter the word or phrase to check for:  kumar\n"
     ]
    },
    {
     "name": "stdout",
     "output_type": "stream",
     "text": [
      "The string does not start with 'kumar'.\n"
     ]
    }
   ],
   "source": [
    "# Input string\n",
    "input_str = input(\"Enter a string: \")\n",
    "\n",
    "# Word or phrase to check for\n",
    "prefix = input(\"Enter the word or phrase to check for: \")\n",
    "\n",
    "# Check if the string starts with the specified word or phrase\n",
    "if input_str.startswith(prefix):\n",
    "    print(f\"The string starts with '{prefix}'.\")\n",
    "else:\n",
    "    print(f\"The string does not start with '{prefix}'.\")\n"
   ]
  },
  {
   "cell_type": "code",
   "execution_count": 10,
   "id": "9e37780a-169e-493d-b900-ea2c770784cd",
   "metadata": {},
   "outputs": [],
   "source": [
    "#18. Check if a string ends with a specific word or phrase."
   ]
  },
  {
   "cell_type": "code",
   "execution_count": 11,
   "id": "2daf8e72-d126-43ad-a31b-8d11a3272b17",
   "metadata": {},
   "outputs": [
    {
     "name": "stdin",
     "output_type": "stream",
     "text": [
      "Enter a string:  my name is mehboob mansuri\n",
      "Enter the word or phrase to check for at the end:  mansuri\n"
     ]
    },
    {
     "name": "stdout",
     "output_type": "stream",
     "text": [
      "The string ends with 'mansuri'.\n"
     ]
    }
   ],
   "source": [
    "# Input string\n",
    "input_str = input(\"Enter a string: \")\n",
    "\n",
    "# Word or phrase to check for\n",
    "suffix = input(\"Enter the word or phrase to check for at the end: \")\n",
    "\n",
    "# Check if the string ends with the specified word or phrase\n",
    "if input_str.endswith(suffix):\n",
    "    print(f\"The string ends with '{suffix}'.\")\n",
    "else:\n",
    "    print(f\"The string does not end with '{suffix}'.\")\n"
   ]
  },
  {
   "cell_type": "code",
   "execution_count": 12,
   "id": "74e671c7-c00e-42f5-8a36-aec68592479f",
   "metadata": {},
   "outputs": [],
   "source": [
    "#19. Convert a string to title case (e.g., \"hello world\" to \"Hello World\")."
   ]
  },
  {
   "cell_type": "code",
   "execution_count": 13,
   "id": "abaeae02-958a-4a69-b320-297b148bb685",
   "metadata": {},
   "outputs": [
    {
     "name": "stdin",
     "output_type": "stream",
     "text": [
      "Enter a string:  my name is mehboob mansuri and i am 29 year old\n"
     ]
    },
    {
     "name": "stdout",
     "output_type": "stream",
     "text": [
      "Title case string: My Name Is Mehboob Mansuri And I Am 29 Year Old\n"
     ]
    }
   ],
   "source": [
    "# Input string\n",
    "input_str = input(\"Enter a string: \")\n",
    "\n",
    "# Convert the string to title case\n",
    "title_case_str = input_str.title()\n",
    "\n",
    "# Print the string in title case\n",
    "print(\"Title case string:\", title_case_str)\n"
   ]
  },
  {
   "cell_type": "code",
   "execution_count": 14,
   "id": "cc361120-7e83-4719-8ffb-a5a131f94ee7",
   "metadata": {},
   "outputs": [],
   "source": [
    "#20. Find the longest word in a string."
   ]
  },
  {
   "cell_type": "code",
   "execution_count": 15,
   "id": "eb534be1-a6e9-4f2c-8532-c9e53c53bc95",
   "metadata": {},
   "outputs": [
    {
     "name": "stdin",
     "output_type": "stream",
     "text": [
      "Enter a string:  my name is mehboob mansuri and. i am 29 year old and i was doing data science pro batch\n"
     ]
    },
    {
     "name": "stdout",
     "output_type": "stream",
     "text": [
      "The longest word is 'mehboob' with a length of 7 characters.\n"
     ]
    }
   ],
   "source": [
    "# Input string\n",
    "input_str = input(\"Enter a string: \")\n",
    "\n",
    "# Split the string into words\n",
    "words = input_str.split()\n",
    "\n",
    "# Initialize variables to store the longest word and its length\n",
    "longest_word = \"\"\n",
    "max_length = 0\n",
    "\n",
    "# Iterate through the words to find the longest one\n",
    "for word in words:\n",
    "    # Remove any punctuation characters (optional)\n",
    "    word = ''.join(filter(str.isalnum, word))\n",
    "    \n",
    "    if len(word) > max_length:\n",
    "        max_length = len(word)\n",
    "        longest_word = word\n",
    "\n",
    "# Print the longest word and its length\n",
    "print(f\"The longest word is '{longest_word}' with a length of {max_length} characters.\")\n"
   ]
  },
  {
   "cell_type": "code",
   "execution_count": 16,
   "id": "451433b2-77e1-44c7-ad52-6381d90a62ff",
   "metadata": {},
   "outputs": [],
   "source": [
    "#21. Find the shortest word in a string."
   ]
  },
  {
   "cell_type": "code",
   "execution_count": 17,
   "id": "c09a496c-c778-49b8-a205-2891db202c7c",
   "metadata": {},
   "outputs": [
    {
     "name": "stdin",
     "output_type": "stream",
     "text": [
      "Enter a string:  my name. is mehboob mansuri and. i was 30 year old\n"
     ]
    },
    {
     "name": "stdout",
     "output_type": "stream",
     "text": [
      "The shortest word is 'i' with a length of 1 characters.\n"
     ]
    }
   ],
   "source": [
    "# Input string\n",
    "input_str = input(\"Enter a string: \")\n",
    "\n",
    "# Split the string into words\n",
    "words = input_str.split()\n",
    "\n",
    "# Initialize variables to store the shortest word and its length\n",
    "shortest_word = None\n",
    "min_length = float('inf')\n",
    "\n",
    "# Iterate through the words to find the shortest one\n",
    "for word in words:\n",
    "    # Remove any punctuation characters (optional)\n",
    "    word = ''.join(filter(str.isalnum, word))\n",
    "    \n",
    "    if len(word) < min_length:\n",
    "        min_length = len(word)\n",
    "        shortest_word = word\n",
    "\n",
    "# Check if any words were found\n",
    "if shortest_word is not None:\n",
    "    # Print the shortest word and its length\n",
    "    print(f\"The shortest word is '{shortest_word}' with a length of {min_length} characters.\")\n",
    "else:\n",
    "    print(\"No valid words found in the string.\")\n"
   ]
  },
  {
   "cell_type": "code",
   "execution_count": 18,
   "id": "7e94f30a-54ad-4c0c-8620-b18dce133b56",
   "metadata": {},
   "outputs": [],
   "source": [
    "#22. Reverse the order of words in a string."
   ]
  },
  {
   "cell_type": "code",
   "execution_count": 19,
   "id": "3823861d-1bed-4d99-9c96-953058d2aa05",
   "metadata": {},
   "outputs": [
    {
     "name": "stdin",
     "output_type": "stream",
     "text": [
      "Enter a string:  my name is kaali and i am the 4th largest drug. dealer of. the. world\n"
     ]
    },
    {
     "name": "stdout",
     "output_type": "stream",
     "text": [
      "Reversed string: world the. of. dealer drug. largest 4th the am i and kaali is name my\n"
     ]
    }
   ],
   "source": [
    "# Input string\n",
    "input_str = input(\"Enter a string: \")\n",
    "\n",
    "# Split the string into words\n",
    "words = input_str.split()\n",
    "\n",
    "# Reverse the order of words\n",
    "reversed_words = words[::-1]\n",
    "\n",
    "# Join the reversed words back into a string\n",
    "reversed_str = ' '.join(reversed_words)\n",
    "\n",
    "# Print the reversed string\n",
    "print(\"Reversed string:\", reversed_str)\n"
   ]
  },
  {
   "cell_type": "code",
   "execution_count": 20,
   "id": "1aecf1cb-f555-495b-a334-80fcfd05f7bf",
   "metadata": {},
   "outputs": [],
   "source": [
    "#23. Check if a string is alphanumeric."
   ]
  },
  {
   "cell_type": "code",
   "execution_count": 22,
   "id": "d3942e8d-c640-4070-b644-5471c042a068",
   "metadata": {},
   "outputs": [
    {
     "name": "stdin",
     "output_type": "stream",
     "text": [
      "Enter a string:  my. name. is kali 21734\n"
     ]
    },
    {
     "name": "stdout",
     "output_type": "stream",
     "text": [
      "The string is not alphanumeric.\n"
     ]
    }
   ],
   "source": [
    "# Input string\n",
    "input_str = input(\"Enter a string: \")\n",
    "\n",
    "# Check if the string is alphanumeric\n",
    "if input_str.isalnum():\n",
    "    print(\"The string is alphanumeric.\")\n",
    "else:\n",
    "    print(\"The string is not alphanumeric.\")\n"
   ]
  },
  {
   "cell_type": "code",
   "execution_count": 23,
   "id": "14368fb4-3780-445a-a299-394da27e524d",
   "metadata": {},
   "outputs": [],
   "source": [
    "#24. Extract all digits from a string."
   ]
  },
  {
   "cell_type": "code",
   "execution_count": 25,
   "id": "c2ab4b94-a691-42cc-85c4-406dd2963054",
   "metadata": {},
   "outputs": [
    {
     "name": "stdin",
     "output_type": "stream",
     "text": [
      "Enter a string:  i am kal 45 nd9bv\n"
     ]
    },
    {
     "name": "stdout",
     "output_type": "stream",
     "text": [
      "Extracted digits: 459\n"
     ]
    }
   ],
   "source": [
    "import re\n",
    "\n",
    "# Input string\n",
    "input_str = input(\"Enter a string: \")\n",
    "\n",
    "# Use regular expression to extract digits\n",
    "digits_list = re.findall(r'\\d', input_str)\n",
    "\n",
    "# Join the extracted digits into a single string\n",
    "extracted_digits = ''.join(digits_list)\n",
    "\n",
    "# Print the extracted digits\n",
    "print(\"Extracted digits:\", extracted_digits)\n"
   ]
  },
  {
   "cell_type": "code",
   "execution_count": 26,
   "id": "6c40de20-6e0d-4546-858b-c0b2566e4945",
   "metadata": {},
   "outputs": [],
   "source": [
    "#25. Extract all alphabets from a string."
   ]
  },
  {
   "cell_type": "code",
   "execution_count": 27,
   "id": "a13686b4-4e10-4ef5-a971-c142a1a9345d",
   "metadata": {},
   "outputs": [
    {
     "name": "stdin",
     "output_type": "stream",
     "text": [
      "Enter a string:  hello123world4675\n"
     ]
    },
    {
     "name": "stdout",
     "output_type": "stream",
     "text": [
      "Extracted alphabets: helloworld\n"
     ]
    }
   ],
   "source": [
    "import re\n",
    "\n",
    "# Input string\n",
    "input_str = input(\"Enter a string: \")\n",
    "\n",
    "# Use regular expression to extract alphabets\n",
    "alphabets_list = re.findall(r'[a-zA-Z]', input_str)\n",
    "\n",
    "# Join the extracted alphabets into a single string\n",
    "extracted_alphabets = ''.join(alphabets_list)\n",
    "\n",
    "# Print the extracted alphabets\n",
    "print(\"Extracted alphabets:\", extracted_alphabets)\n"
   ]
  },
  {
   "cell_type": "code",
   "execution_count": 28,
   "id": "e763880d-6288-4cb7-8d4a-c0b98b9cb9f4",
   "metadata": {},
   "outputs": [],
   "source": [
    "#26. Count the number of uppercase letters in a string."
   ]
  },
  {
   "cell_type": "code",
   "execution_count": 29,
   "id": "856b60ff-b073-402a-b36f-7efcee1f693f",
   "metadata": {},
   "outputs": [
    {
     "name": "stdin",
     "output_type": "stream",
     "text": [
      "Enter a string:  MEERHjfjfejdMEJFNSEHJFJjfffghgfdfghj\n"
     ]
    },
    {
     "name": "stdout",
     "output_type": "stream",
     "text": [
      "Number of uppercase letters: 16\n"
     ]
    }
   ],
   "source": [
    "# Input string\n",
    "input_str = input(\"Enter a string: \")\n",
    "\n",
    "# Initialize a variable to store the count of uppercase letters\n",
    "uppercase_count = 0\n",
    "\n",
    "# Iterate through the characters in the string\n",
    "for char in input_str:\n",
    "    if char.isupper():\n",
    "        uppercase_count += 1\n",
    "\n",
    "# Print the number of uppercase letters\n",
    "print(\"Number of uppercase letters:\", uppercase_count)\n"
   ]
  },
  {
   "cell_type": "code",
   "execution_count": 30,
   "id": "321ee461-3de8-4d18-bed8-5c8b886cd6c9",
   "metadata": {},
   "outputs": [],
   "source": [
    "#27. Count the number of lowercase letters in a string."
   ]
  },
  {
   "cell_type": "code",
   "execution_count": 31,
   "id": "f10d49e2-8aeb-4e23-85c2-5f991894fafc",
   "metadata": {},
   "outputs": [
    {
     "name": "stdin",
     "output_type": "stream",
     "text": [
      "Enter a string:  my name is MEHDboob andfjjIS FOR\n"
     ]
    },
    {
     "name": "stdout",
     "output_type": "stream",
     "text": [
      "Number of lowercase letters: 18\n"
     ]
    }
   ],
   "source": [
    "# Input string\n",
    "input_str = input(\"Enter a string: \")\n",
    "\n",
    "# Initialize a variable to store the count of lowercase letters\n",
    "lowercase_count = 0\n",
    "\n",
    "# Iterate through the characters in the string\n",
    "for char in input_str:\n",
    "    if char.islower():\n",
    "        lowercase_count += 1\n",
    "\n",
    "# Print the number of lowercase letters\n",
    "print(\"Number of lowercase letters:\", lowercase_count)\n"
   ]
  },
  {
   "cell_type": "code",
   "execution_count": 32,
   "id": "f185be7a-5f3b-473a-9ccc-aad6151e18e8",
   "metadata": {},
   "outputs": [],
   "source": [
    "#28. Swap the case of each character in a string."
   ]
  },
  {
   "cell_type": "code",
   "execution_count": 33,
   "id": "1fd6eb92-b212-4ef6-8d19-6a0d18ea0fc5",
   "metadata": {},
   "outputs": [
    {
     "name": "stdin",
     "output_type": "stream",
     "text": [
      "Enter a string:  hello WORLd\n"
     ]
    },
    {
     "name": "stdout",
     "output_type": "stream",
     "text": [
      "String with swapped case: HELLO worlD\n"
     ]
    }
   ],
   "source": [
    "# Input string\n",
    "input_str = input(\"Enter a string: \")\n",
    "\n",
    "# Swap the case of each character\n",
    "swapped_str = input_str.swapcase()\n",
    "\n",
    "# Print the string with swapped case\n",
    "print(\"String with swapped case:\", swapped_str)\n"
   ]
  },
  {
   "cell_type": "code",
   "execution_count": 34,
   "id": "613da1f3-7326-493e-8be5-0ad7722aaed5",
   "metadata": {},
   "outputs": [],
   "source": [
    "#29. Remove a specific word from a string."
   ]
  },
  {
   "cell_type": "code",
   "execution_count": 35,
   "id": "dc8c0ea4-7e14-4730-a571-43d2cb9634ca",
   "metadata": {},
   "outputs": [
    {
     "name": "stdin",
     "output_type": "stream",
     "text": [
      "Enter a string:  my name. is mehboob mansuri\n",
      "Enter the word to remove:  mansuri\n"
     ]
    },
    {
     "name": "stdout",
     "output_type": "stream",
     "text": [
      "String with the word removed: my name. is mehboob \n"
     ]
    }
   ],
   "source": [
    "# Input string\n",
    "input_str = input(\"Enter a string: \")\n",
    "\n",
    "# Word to remove\n",
    "word_to_remove = input(\"Enter the word to remove: \")\n",
    "\n",
    "# Remove the word using the replace() method\n",
    "new_str = input_str.replace(word_to_remove, '')\n",
    "\n",
    "# Print the string with the word removed\n",
    "print(\"String with the word removed:\", new_str)\n"
   ]
  },
  {
   "cell_type": "code",
   "execution_count": 36,
   "id": "3a5cf877-f07d-4681-a2e1-cd3dae7829f3",
   "metadata": {},
   "outputs": [],
   "source": [
    "#30. Check if a string is a valid email address."
   ]
  },
  {
   "cell_type": "code",
   "execution_count": 37,
   "id": "55f7b80b-cee8-41b0-9672-245affda6e95",
   "metadata": {},
   "outputs": [
    {
     "name": "stdin",
     "output_type": "stream",
     "text": [
      "Enter an email address:  mansurim716@gmail.com\n"
     ]
    },
    {
     "name": "stdout",
     "output_type": "stream",
     "text": [
      "'mansurim716@gmail.com' is a valid email address.\n"
     ]
    }
   ],
   "source": [
    "import re\n",
    "\n",
    "# Function to check if a string is a valid email address\n",
    "def is_valid_email(email):\n",
    "    # Regular expression pattern for a basic email validation\n",
    "    pattern = r'^[\\w\\.-]+@[\\w\\.-]+\\.\\w+$'\n",
    "    \n",
    "    # Use re.match() to check if the email matches the pattern\n",
    "    if re.match(pattern, email):\n",
    "        return True\n",
    "    else:\n",
    "        return False\n",
    "\n",
    "# Input email address\n",
    "email_address = input(\"Enter an email address: \")\n",
    "\n",
    "# Check if the input is a valid email address\n",
    "if is_valid_email(email_address):\n",
    "    print(f\"'{email_address}' is a valid email address.\")\n",
    "else:\n",
    "    print(f\"'{email_address}' is not a valid email address.\")\n"
   ]
  },
  {
   "cell_type": "code",
   "execution_count": 38,
   "id": "f92cf520-8183-45b1-97f8-bab53d1c6ac2",
   "metadata": {},
   "outputs": [],
   "source": [
    "#31. Extract the username from an email address string."
   ]
  },
  {
   "cell_type": "code",
   "execution_count": 39,
   "id": "06c97d7b-18a9-4cc5-a6c5-b48c326c9d79",
   "metadata": {},
   "outputs": [
    {
     "name": "stdin",
     "output_type": "stream",
     "text": [
      "Enter an email address:  mansurim716@gmail.com\n"
     ]
    },
    {
     "name": "stdout",
     "output_type": "stream",
     "text": [
      "Username: mansurim716\n"
     ]
    }
   ],
   "source": [
    "import re\n",
    "\n",
    "# Function to extract the username from an email address\n",
    "def extract_username(email):\n",
    "    # Regular expression pattern to match the username part of an email address\n",
    "    pattern = r'^([\\w\\.-]+)@[\\w\\.-]+\\.\\w+$'\n",
    "    \n",
    "    # Use re.match() to find the match and extract the username\n",
    "    match = re.match(pattern, email)\n",
    "    \n",
    "    if match:\n",
    "        username = match.group(1)\n",
    "        return username\n",
    "    else:\n",
    "        return None\n",
    "\n",
    "# Input email address\n",
    "email_address = input(\"Enter an email address: \")\n",
    "\n",
    "# Extract the username from the email address\n",
    "username = extract_username(email_address)\n",
    "\n",
    "if username:\n",
    "    print(\"Username:\", username)\n",
    "else:\n",
    "    print(\"Invalid email address format.\")\n"
   ]
  },
  {
   "cell_type": "code",
   "execution_count": 40,
   "id": "a2e6549e-8ab4-4d63-a4c3-1a2fe5936dc4",
   "metadata": {},
   "outputs": [],
   "source": [
    "#32. Extract the domain name from an email address string."
   ]
  },
  {
   "cell_type": "code",
   "execution_count": 41,
   "id": "a1178295-2e43-452a-8d9b-fe91d9a283ed",
   "metadata": {},
   "outputs": [
    {
     "name": "stdin",
     "output_type": "stream",
     "text": [
      "Enter an email address:  mansurim716@gmail.com\n"
     ]
    },
    {
     "name": "stdout",
     "output_type": "stream",
     "text": [
      "Domain: gmail.com\n"
     ]
    }
   ],
   "source": [
    "# Input email address\n",
    "email_address = input(\"Enter an email address: \")\n",
    "\n",
    "# Split the email address at the \"@\" symbol\n",
    "parts = email_address.split('@')\n",
    "\n",
    "# Check if there are two parts (username and domain)\n",
    "if len(parts) == 2:\n",
    "    domain = parts[1]\n",
    "    print(\"Domain:\", domain)\n",
    "else:\n",
    "    print(\"Invalid email address format.\")\n"
   ]
  },
  {
   "cell_type": "code",
   "execution_count": 42,
   "id": "0a41b414-c662-4440-b696-36c416d7f736",
   "metadata": {},
   "outputs": [],
   "source": [
    "#33. Replace multiple spaces in a string with a single space."
   ]
  },
  {
   "cell_type": "code",
   "execution_count": 43,
   "id": "69375405-b655-4896-9bbc-52b06990da6c",
   "metadata": {},
   "outputs": [
    {
     "name": "stdin",
     "output_type": "stream",
     "text": [
      "Enter a string with multiple spaces:  hello     world\n"
     ]
    },
    {
     "name": "stdout",
     "output_type": "stream",
     "text": [
      "String with multiple spaces replaced: hello world\n"
     ]
    }
   ],
   "source": [
    "import re\n",
    "\n",
    "# Input string with multiple spaces\n",
    "input_str = input(\"Enter a string with multiple spaces: \")\n",
    "\n",
    "# Use regular expression to replace multiple spaces with a single space\n",
    "updated_str = re.sub(r'\\s+', ' ', input_str)\n",
    "\n",
    "# Print the updated string\n",
    "print(\"String with multiple spaces replaced:\", updated_str)\n"
   ]
  },
  {
   "cell_type": "code",
   "execution_count": 44,
   "id": "ebcdb871-5fc5-4f79-a5c8-7335562fe7c2",
   "metadata": {},
   "outputs": [],
   "source": [
    "#34. Check if a string is a valid URL."
   ]
  },
  {
   "cell_type": "code",
   "execution_count": 46,
   "id": "35c206e1-d5b7-4cf7-8e6e-eaf4c7935d66",
   "metadata": {},
   "outputs": [
    {
     "name": "stdin",
     "output_type": "stream",
     "text": [
      "Enter a URL:  https://www.winnersinstitute.in/\n"
     ]
    },
    {
     "name": "stdout",
     "output_type": "stream",
     "text": [
      "'https://www.winnersinstitute.in/' is a valid URL.\n"
     ]
    }
   ],
   "source": [
    "from urllib.parse import urlparse\n",
    "\n",
    "# Function to check if a string is a valid URL\n",
    "def is_valid_url(url):\n",
    "    try:\n",
    "        result = urlparse(url)\n",
    "        return all([result.scheme, result.netloc])\n",
    "    except ValueError:\n",
    "        return False\n",
    "\n",
    "# Input URL\n",
    "url = input(\"Enter a URL: \")\n",
    "\n",
    "# Check if the input is a valid URL\n",
    "if is_valid_url(url):\n",
    "    print(f\"'{url}' is a valid URL.\")\n",
    "else:\n",
    "    print(f\"'{url}' is not a valid URL.\")\n"
   ]
  },
  {
   "cell_type": "code",
   "execution_count": 47,
   "id": "09e42051-a64d-4418-b940-177b33fce708",
   "metadata": {},
   "outputs": [],
   "source": [
    "#35. Extract the protocol (http or https) from a URL string."
   ]
  },
  {
   "cell_type": "code",
   "execution_count": 48,
   "id": "c7fcf11f-cc23-4fa7-aca5-31533f203581",
   "metadata": {},
   "outputs": [
    {
     "name": "stdin",
     "output_type": "stream",
     "text": [
      "Enter a URL:  https://www.winnersinstitute.in/\n"
     ]
    },
    {
     "name": "stdout",
     "output_type": "stream",
     "text": [
      "The protocol in the URL is 'https'.\n"
     ]
    }
   ],
   "source": [
    "from urllib.parse import urlparse\n",
    "\n",
    "# Function to extract the protocol from a URL\n",
    "def extract_protocol(url):\n",
    "    parsed_url = urlparse(url)\n",
    "    if parsed_url.scheme:\n",
    "        return parsed_url.scheme\n",
    "    else:\n",
    "        return None\n",
    "\n",
    "# Input URL\n",
    "url = input(\"Enter a URL: \")\n",
    "\n",
    "# Extract the protocol from the URL\n",
    "protocol = extract_protocol(url)\n",
    "\n",
    "if protocol:\n",
    "    print(f\"The protocol in the URL is '{protocol}'.\")\n",
    "else:\n",
    "    print(\"No protocol found in the URL.\")\n"
   ]
  },
  {
   "cell_type": "code",
   "execution_count": 49,
   "id": "543a1c6f-7c0c-4cda-8968-f553b4299fcb",
   "metadata": {},
   "outputs": [],
   "source": [
    "#36. Find the frequency of each character in a string."
   ]
  },
  {
   "cell_type": "code",
   "execution_count": 50,
   "id": "50365817-9759-46aa-916e-3cfc21988914",
   "metadata": {},
   "outputs": [
    {
     "name": "stdin",
     "output_type": "stream",
     "text": [
      "Enter a string:  36. Find the frequency of each character in a string.\n"
     ]
    },
    {
     "name": "stdout",
     "output_type": "stream",
     "text": [
      "'3': 1\n",
      "'6': 1\n",
      "'.': 2\n",
      "'F': 1\n",
      "'i': 3\n",
      "'n': 4\n",
      "'d': 1\n",
      "'t': 3\n",
      "'h': 3\n",
      "'e': 5\n",
      "'f': 2\n",
      "'r': 4\n",
      "'q': 1\n",
      "'u': 1\n",
      "'c': 4\n",
      "'y': 1\n",
      "'o': 1\n",
      "'a': 4\n",
      "'s': 1\n",
      "'g': 1\n"
     ]
    }
   ],
   "source": [
    "# Input string\n",
    "input_str = input(\"Enter a string: \")\n",
    "\n",
    "# Initialize an empty dictionary to store character frequencies\n",
    "char_frequency = {}\n",
    "\n",
    "# Count the frequency of each character in the string\n",
    "for char in input_str:\n",
    "    # Check if the character is not a space (you can include other filters as needed)\n",
    "    if char != ' ':\n",
    "        # Use the get() method to increment the count or set it to 1 if not present\n",
    "        char_frequency[char] = char_frequency.get(char, 0) + 1\n",
    "\n",
    "# Print the character frequencies\n",
    "for char, count in char_frequency.items():\n",
    "    print(f\"'{char}': {count}\")\n"
   ]
  },
  {
   "cell_type": "code",
   "execution_count": 51,
   "id": "ca199627-99b1-4d7b-a7c8-353f7c5bf442",
   "metadata": {},
   "outputs": [],
   "source": [
    "#37. Remove all punctuation from a string."
   ]
  },
  {
   "cell_type": "code",
   "execution_count": 52,
   "id": "87a584c9-5055-4712-aebf-2955fa90b57c",
   "metadata": {},
   "outputs": [
    {
     "name": "stdin",
     "output_type": "stream",
     "text": [
      "Enter a string:  hello world!@#\n"
     ]
    },
    {
     "name": "stdout",
     "output_type": "stream",
     "text": [
      "String with punctuation removed: hello world\n"
     ]
    }
   ],
   "source": [
    "import string\n",
    "\n",
    "# Input string\n",
    "input_str = input(\"Enter a string: \")\n",
    "\n",
    "# Define a translation table to remove punctuation\n",
    "translator = str.maketrans('', '', string.punctuation)\n",
    "\n",
    "# Remove punctuation from the string\n",
    "cleaned_str = input_str.translate(translator)\n",
    "\n",
    "# Print the cleaned string\n",
    "print(\"String with punctuation removed:\", cleaned_str)\n"
   ]
  },
  {
   "cell_type": "code",
   "execution_count": 53,
   "id": "4299f0c6-9d4a-41c7-9dc8-45b67b1a9ab8",
   "metadata": {},
   "outputs": [],
   "source": [
    "#38. Check if a string contains only digits."
   ]
  },
  {
   "cell_type": "code",
   "execution_count": 54,
   "id": "88b0c7e3-11db-4073-a2e8-968db1b3b171",
   "metadata": {},
   "outputs": [
    {
     "name": "stdin",
     "output_type": "stream",
     "text": [
      "Enter a string:  12233455667\n"
     ]
    },
    {
     "name": "stdout",
     "output_type": "stream",
     "text": [
      "The string contains only digits.\n"
     ]
    }
   ],
   "source": [
    "# Input string\n",
    "input_str = input(\"Enter a string: \")\n",
    "\n",
    "# Check if the string contains only digits\n",
    "if input_str.isdigit():\n",
    "    print(\"The string contains only digits.\")\n",
    "else:\n",
    "    print(\"The string contains non-digit characters.\")\n"
   ]
  },
  {
   "cell_type": "code",
   "execution_count": 55,
   "id": "bf3be179-4eb4-4db7-8d82-e46d5344ceaf",
   "metadata": {},
   "outputs": [],
   "source": [
    "#39. Check if a string contains only alphabets."
   ]
  },
  {
   "cell_type": "code",
   "execution_count": 56,
   "id": "45ae10ef-f0b7-4f56-a2ef-348880bd4196",
   "metadata": {},
   "outputs": [
    {
     "name": "stdin",
     "output_type": "stream",
     "text": [
      "Enter a string:  my name is cali\n"
     ]
    },
    {
     "name": "stdout",
     "output_type": "stream",
     "text": [
      "The string contains non-alphabet characters.\n"
     ]
    }
   ],
   "source": [
    "# Input string\n",
    "input_str = input(\"Enter a string: \")\n",
    "\n",
    "# Check if the string contains only alphabets\n",
    "if input_str.isalpha():\n",
    "    print(\"The string contains only alphabets.\")\n",
    "else:\n",
    "    print(\"The string contains non-alphabet characters.\")\n"
   ]
  },
  {
   "cell_type": "code",
   "execution_count": 57,
   "id": "90deddcb-2d92-45a1-b70b-b5028aa9ca91",
   "metadata": {},
   "outputs": [],
   "source": [
    "#40. Convert a string to a list of characters."
   ]
  },
  {
   "cell_type": "code",
   "execution_count": 58,
   "id": "06a5be6d-ecfa-4738-be93-e464b4713a1e",
   "metadata": {},
   "outputs": [
    {
     "name": "stdin",
     "output_type": "stream",
     "text": [
      "Enter a string:  hello\n"
     ]
    },
    {
     "name": "stdout",
     "output_type": "stream",
     "text": [
      "List of characters: ['h', 'e', 'l', 'l', 'o']\n"
     ]
    }
   ],
   "source": [
    "# Input string\n",
    "input_str = input(\"Enter a string: \")\n",
    "\n",
    "# Convert the string to a list of characters using the list() constructor\n",
    "char_list = list(input_str)\n",
    "\n",
    "# Print the list of characters\n",
    "print(\"List of characters:\", char_list)\n"
   ]
  },
  {
   "cell_type": "code",
   "execution_count": 59,
   "id": "42aebec3-6b85-4f97-902b-4d16e93e78ce",
   "metadata": {},
   "outputs": [],
   "source": [
    "#41. Check if two strings are anagrams."
   ]
  },
  {
   "cell_type": "code",
   "execution_count": 60,
   "id": "1658a5e0-2953-47ae-8a8f-76deaa712584",
   "metadata": {},
   "outputs": [
    {
     "name": "stdin",
     "output_type": "stream",
     "text": [
      "Enter the first string:  listen \n",
      "Enter the second string:  silent\n"
     ]
    },
    {
     "name": "stdout",
     "output_type": "stream",
     "text": [
      "'listen ' and 'silent' are anagrams.\n"
     ]
    }
   ],
   "source": [
    "# Input two strings\n",
    "str1 = input(\"Enter the first string: \")\n",
    "str2 = input(\"Enter the second string: \")\n",
    "\n",
    "# Function to check if two strings are anagrams\n",
    "def are_anagrams(string1, string2):\n",
    "    # Remove spaces and convert to lowercase for case-insensitive comparison\n",
    "    string1 = string1.replace(\" \", \"\").lower()\n",
    "    string2 = string2.replace(\" \", \"\").lower()\n",
    "    \n",
    "    # Check if the sorted strings are the same\n",
    "    return sorted(string1) == sorted(string2)\n",
    "\n",
    "# Check if the input strings are anagrams\n",
    "if are_anagrams(str1, str2):\n",
    "    print(f\"'{str1}' and '{str2}' are anagrams.\")\n",
    "else:\n",
    "    print(f\"'{str1}' and '{str2}' are not anagrams.\")\n"
   ]
  },
  {
   "cell_type": "code",
   "execution_count": 61,
   "id": "d6144d89-33b8-4320-9023-4c31a7b29c95",
   "metadata": {},
   "outputs": [],
   "source": [
    "#42. Encode a string using a Caesar cipher."
   ]
  },
  {
   "cell_type": "code",
   "execution_count": 62,
   "id": "ee0cf9c5-9598-4c3e-8823-d06616ab3c6f",
   "metadata": {},
   "outputs": [
    {
     "name": "stdin",
     "output_type": "stream",
     "text": [
      "Enter a string to encode:  hello ,world!\n",
      "Enter the Caesar cipher shift value (e.g., 1 for one position shift):  4\n"
     ]
    },
    {
     "name": "stdout",
     "output_type": "stream",
     "text": [
      "Encoded text: lipps ,asvph!\n"
     ]
    }
   ],
   "source": [
    "# Function to encode a string using a Caesar cipher\n",
    "def caesar_cipher(text, shift):\n",
    "    encrypted_text = \"\"\n",
    "    \n",
    "    for char in text:\n",
    "        if char.isalpha():\n",
    "            is_upper = char.isupper()\n",
    "            char = char.lower()\n",
    "            shifted_char = chr(((ord(char) - ord('a') + shift) % 26) + ord('a'))\n",
    "            if is_upper:\n",
    "                shifted_char = shifted_char.upper()\n",
    "            encrypted_text += shifted_char\n",
    "        else:\n",
    "            encrypted_text += char\n",
    "    \n",
    "    return encrypted_text\n",
    "\n",
    "# Input string and shift value\n",
    "plaintext = input(\"Enter a string to encode: \")\n",
    "shift = int(input(\"Enter the Caesar cipher shift value (e.g., 1 for one position shift): \"))\n",
    "\n",
    "# Encode the string using the Caesar cipher\n",
    "encoded_text = caesar_cipher(plaintext, shift)\n",
    "\n",
    "# Print the encoded text\n",
    "print(\"Encoded text:\", encoded_text)\n"
   ]
  },
  {
   "cell_type": "code",
   "execution_count": 63,
   "id": "aba8619f-a447-4044-9beb-2def85ddfc8f",
   "metadata": {},
   "outputs": [],
   "source": [
    "#43. Decode a Caesar cipher encoded string."
   ]
  },
  {
   "cell_type": "code",
   "execution_count": 64,
   "id": "c6a27600-b68b-46f0-b23c-b9f9987a4dac",
   "metadata": {},
   "outputs": [
    {
     "name": "stdin",
     "output_type": "stream",
     "text": [
      "Enter the encoded text:  imli khatti\n",
      "Enter the Caesar cipher shift value used for encoding:  3\n"
     ]
    },
    {
     "name": "stdout",
     "output_type": "stream",
     "text": [
      "Decoded text: fjif hexqqf\n"
     ]
    }
   ],
   "source": [
    "# Function to decode a string encoded with a Caesar cipher\n",
    "def caesar_cipher_decode(encoded_text, shift):\n",
    "    decoded_text = \"\"\n",
    "    \n",
    "    for char in encoded_text:\n",
    "        if char.isalpha():\n",
    "            is_upper = char.isupper()\n",
    "            char = char.lower()\n",
    "            shifted_char = chr(((ord(char) - ord('a') - shift) % 26) + ord('a'))\n",
    "            if is_upper:\n",
    "                shifted_char = shifted_char.upper()\n",
    "            decoded_text += shifted_char\n",
    "        else:\n",
    "            decoded_text += char\n",
    "    \n",
    "    return decoded_text\n",
    "\n",
    "# Input encoded string and shift value\n",
    "encoded_text = input(\"Enter the encoded text: \")\n",
    "shift = int(input(\"Enter the Caesar cipher shift value used for encoding: \"))\n",
    "\n",
    "# Decode the encoded string using the Caesar cipher\n",
    "decoded_text = caesar_cipher_decode(encoded_text, shift)\n",
    "\n",
    "# Print the decoded text\n",
    "print(\"Decoded text:\", decoded_text)\n"
   ]
  },
  {
   "cell_type": "code",
   "execution_count": 65,
   "id": "8077d8bd-cc00-4c38-94da-0fc9dc09649e",
   "metadata": {},
   "outputs": [],
   "source": [
    "#44. Find the most frequent word in a string."
   ]
  },
  {
   "cell_type": "code",
   "execution_count": 66,
   "id": "50a8ca5e-6310-47cb-abb3-1ea0d49989c8",
   "metadata": {},
   "outputs": [
    {
     "name": "stdin",
     "output_type": "stream",
     "text": [
      "Enter a string:  44. Find the most frequent word in a string.\n"
     ]
    },
    {
     "name": "stdout",
     "output_type": "stream",
     "text": [
      "Most frequent word: 44\n",
      "Frequency: 1\n"
     ]
    }
   ],
   "source": [
    "# Input string\n",
    "input_str = input(\"Enter a string: \")\n",
    "\n",
    "# Split the string into words\n",
    "words = input_str.split()\n",
    "\n",
    "# Initialize an empty dictionary to store word frequencies\n",
    "word_frequency = {}\n",
    "\n",
    "# Count the frequency of each word in the string\n",
    "for word in words:\n",
    "    # Remove punctuation and convert to lowercase for case-insensitive comparison\n",
    "    word = word.strip('.,!?').lower()\n",
    "    \n",
    "    # Update the word frequency in the dictionary\n",
    "    if word:\n",
    "        word_frequency[word] = word_frequency.get(word, 0) + 1\n",
    "\n",
    "# Find the most frequent word\n",
    "most_frequent_word = max(word_frequency, key=word_frequency.get)\n",
    "\n",
    "# Print the most frequent word and its frequency\n",
    "print(\"Most frequent word:\", most_frequent_word)\n",
    "print(\"Frequency:\", word_frequency[most_frequent_word])\n"
   ]
  },
  {
   "cell_type": "code",
   "execution_count": 67,
   "id": "918542a0-8a79-4808-94bd-37227fcef4a5",
   "metadata": {},
   "outputs": [],
   "source": [
    "#45. Find all unique words in a string."
   ]
  },
  {
   "cell_type": "code",
   "execution_count": 68,
   "id": "0a482851-2979-4cb6-a110-df1c13179e8d",
   "metadata": {},
   "outputs": [
    {
     "name": "stdin",
     "output_type": "stream",
     "text": [
      "Enter a string:  The quick brown fox jumps over the lazy dog. The dog is quick.\n"
     ]
    },
    {
     "name": "stdout",
     "output_type": "stream",
     "text": [
      "Unique words in the string: ['brown', 'dog', 'fox', 'is', 'jumps', 'lazy', 'over', 'quick', 'the']\n"
     ]
    }
   ],
   "source": [
    "# Input string\n",
    "input_str = input(\"Enter a string: \")\n",
    "\n",
    "# Split the string into words\n",
    "words = input_str.split()\n",
    "\n",
    "# Initialize an empty set to store unique words\n",
    "unique_words = set()\n",
    "\n",
    "# Iterate through each word in the string and add it to the set\n",
    "for word in words:\n",
    "    # Remove punctuation and convert to lowercase for case-insensitive comparison\n",
    "    word = word.strip('.,!?').lower()\n",
    "    \n",
    "    # Add the word to the set if it's not empty\n",
    "    if word:\n",
    "        unique_words.add(word)\n",
    "\n",
    "# Convert the set of unique words back to a sorted list\n",
    "unique_word_list = sorted(list(unique_words))\n",
    "\n",
    "# Print the list of unique words\n",
    "print(\"Unique words in the string:\", unique_word_list)\n"
   ]
  },
  {
   "cell_type": "code",
   "execution_count": 69,
   "id": "04185f43-8955-400c-bc87-70284391c45e",
   "metadata": {},
   "outputs": [],
   "source": [
    "#46. Count the number of syllables in a string."
   ]
  },
  {
   "cell_type": "code",
   "execution_count": 70,
   "id": "32544f8d-43e8-4659-a51b-9373f51086be",
   "metadata": {},
   "outputs": [
    {
     "name": "stdin",
     "output_type": "stream",
     "text": [
      "Enter a string:  Check if a string contains only alphabets. 40. Convert a string to a list of characters. 41. Check if two strings are anagrams. 42. Encode a string using a Caesar cipher. 43. Decode a Caesar cipher encoded string. 44. Find the most frequent word in a string. 45. Find all unique words in a string. 46. Count the number of syllables in a string.\n"
     ]
    },
    {
     "name": "stdout",
     "output_type": "stream",
     "text": [
      "Total syllables in the string: 91\n"
     ]
    }
   ],
   "source": [
    "# Function to count the number of syllables in a word\n",
    "def count_syllables(word):\n",
    "    # Remove trailing \"e\" if it's not the only vowel (considered silent)\n",
    "    word = word.rstrip(\"eE\")\n",
    "    \n",
    "    # Count vowels (a, e, i, o, u) as syllables\n",
    "    vowels = \"aeiouAEIOU\"\n",
    "    syllable_count = sum(1 for char in word if char in vowels)\n",
    "    \n",
    "    # Adjust for words with no vowels (minimum 1 syllable)\n",
    "    if syllable_count == 0:\n",
    "        syllable_count = 1\n",
    "    \n",
    "    return syllable_count\n",
    "\n",
    "# Input string\n",
    "input_str = input(\"Enter a string: \")\n",
    "\n",
    "# Split the string into words\n",
    "words = input_str.split()\n",
    "\n",
    "# Initialize a count for total syllables\n",
    "total_syllables = 0\n",
    "\n",
    "# Count syllables in each word and sum them up\n",
    "for word in words:\n",
    "    total_syllables += count_syllables(word)\n",
    "\n",
    "# Print the total syllable count\n",
    "print(\"Total syllables in the string:\", total_syllables)\n"
   ]
  },
  {
   "cell_type": "code",
   "execution_count": 71,
   "id": "5dc0f4d8-4a13-4504-9b19-be3febc86f46",
   "metadata": {},
   "outputs": [],
   "source": [
    "#47. Check if a string contains any special characters."
   ]
  },
  {
   "cell_type": "code",
   "execution_count": 72,
   "id": "479d9a73-5eba-4f67-a8c9-5ff53c5f1bd9",
   "metadata": {},
   "outputs": [
    {
     "name": "stdin",
     "output_type": "stream",
     "text": [
      "Enter a string:  hello world!\n"
     ]
    },
    {
     "name": "stdout",
     "output_type": "stream",
     "text": [
      "The string contains special characters.\n"
     ]
    }
   ],
   "source": [
    "import re\n",
    "\n",
    "# Function to check if a string contains any special characters\n",
    "def contains_special_characters(input_str):\n",
    "    # Define a regular expression pattern to match non-alphanumeric characters\n",
    "    pattern = r'[^a-zA-Z0-9\\s]'\n",
    "    \n",
    "    # Use re.search() to find a match in the string\n",
    "    if re.search(pattern, input_str):\n",
    "        return True\n",
    "    else:\n",
    "        return False\n",
    "\n",
    "# Input string\n",
    "input_str = input(\"Enter a string: \")\n",
    "\n",
    "# Check if the string contains special characters\n",
    "if contains_special_characters(input_str):\n",
    "    print(\"The string contains special characters.\")\n",
    "else:\n",
    "    print(\"The string does not contain special characters.\")\n"
   ]
  },
  {
   "cell_type": "code",
   "execution_count": 73,
   "id": "19659ab4-1d3e-4bdb-b898-c2bfe89f923a",
   "metadata": {},
   "outputs": [],
   "source": [
    "#48. Remove the nth word from a string."
   ]
  },
  {
   "cell_type": "code",
   "execution_count": 74,
   "id": "7f2ef7ab-250a-4967-8745-9cb799d59a12",
   "metadata": {},
   "outputs": [
    {
     "name": "stdin",
     "output_type": "stream",
     "text": [
      "Enter a string:  The quick brown fox jumps over the lazy dog.\n",
      "Enter the position (1-based) of the word to remove:  3\n"
     ]
    },
    {
     "name": "stdout",
     "output_type": "stream",
     "text": [
      "Updated string: The quick fox jumps over the lazy dog.\n"
     ]
    }
   ],
   "source": [
    "# Function to remove the nth word from a string\n",
    "def remove_nth_word(input_str, n):\n",
    "    # Split the string into words\n",
    "    words = input_str.split()\n",
    "    \n",
    "    # Check if n is within a valid range\n",
    "    if 1 <= n <= len(words):\n",
    "        # Remove the nth word\n",
    "        del words[n - 1]\n",
    "        \n",
    "        # Join the remaining words back together\n",
    "        updated_str = ' '.join(words)\n",
    "        return updated_str\n",
    "    else:\n",
    "        # Return the original string if n is out of range\n",
    "        return input_str\n",
    "\n",
    "# Input string\n",
    "input_str = input(\"Enter a string: \")\n",
    "\n",
    "# Input the position (n) of the word to remove\n",
    "n = int(input(\"Enter the position (1-based) of the word to remove: \"))\n",
    "\n",
    "# Remove the nth word from the string\n",
    "result_str = remove_nth_word(input_str, n)\n",
    "\n",
    "# Print the updated string\n",
    "print(\"Updated string:\", result_str)\n"
   ]
  },
  {
   "cell_type": "code",
   "execution_count": 75,
   "id": "d36c858d-99c1-49f7-9f3c-57974021288e",
   "metadata": {},
   "outputs": [],
   "source": [
    "#49. Insert a word at the nth position in a string."
   ]
  },
  {
   "cell_type": "code",
   "execution_count": 76,
   "id": "acb641dd-0db3-4d60-b75a-5b23086e7e3b",
   "metadata": {},
   "outputs": [
    {
     "name": "stdin",
     "output_type": "stream",
     "text": [
      "Enter a string:  he quick brown jumps over the lazy dog.\n",
      "Enter the word to insert:  fox\n",
      "Enter the position (1-based) where you want to insert the word:  5\n"
     ]
    },
    {
     "name": "stdout",
     "output_type": "stream",
     "text": [
      "Updated string: he quick brown jumps fox over the lazy dog.\n"
     ]
    }
   ],
   "source": [
    "# Function to insert a word at the nth position in a string\n",
    "def insert_word_at_position(input_str, word_to_insert, n):\n",
    "    # Split the string into words\n",
    "    words = input_str.split()\n",
    "    \n",
    "    # Check if n is within a valid range\n",
    "    if 1 <= n <= len(words) + 1:\n",
    "        # Insert the word at the specified position\n",
    "        words.insert(n - 1, word_to_insert)\n",
    "        \n",
    "        # Join the words back together\n",
    "        updated_str = ' '.join(words)\n",
    "        return updated_str\n",
    "    else:\n",
    "        # Return the original string if n is out of range\n",
    "        return input_str\n",
    "\n",
    "# Input string\n",
    "input_str = input(\"Enter a string: \")\n",
    "\n",
    "# Input the word to insert\n",
    "word_to_insert = input(\"Enter the word to insert: \")\n",
    "\n",
    "# Input the position (n) where you want to insert the word\n",
    "n = int(input(\"Enter the position (1-based) where you want to insert the word: \"))\n",
    "\n",
    "# Insert the word at the nth position in the string\n",
    "result_str = insert_word_at_position(input_str, word_to_insert, n)\n",
    "\n",
    "# Print the updated string\n",
    "print(\"Updated string:\", result_str)\n"
   ]
  },
  {
   "cell_type": "code",
   "execution_count": 77,
   "id": "e0511316-6a0b-44ba-ab21-abf826f22e88",
   "metadata": {},
   "outputs": [],
   "source": [
    "#50. Convert a CSV string to a list of lists."
   ]
  },
  {
   "cell_type": "code",
   "execution_count": 78,
   "id": "6f6711ad-15cc-4891-90a4-69c75f1681bb",
   "metadata": {},
   "outputs": [
    {
     "name": "stdout",
     "output_type": "stream",
     "text": [
      "['Name', 'Age', 'Location']\n",
      "['Alice', '25', 'New York']\n",
      "['Bob', '30', 'Los Angeles']\n",
      "['Charlie', '22', 'Chicago']\n"
     ]
    }
   ],
   "source": [
    "import csv\n",
    "from io import StringIO\n",
    "\n",
    "# CSV string\n",
    "csv_string = \"\"\"Name,Age,Location\n",
    "Alice,25,New York\n",
    "Bob,30,Los Angeles\n",
    "Charlie,22,Chicago\n",
    "\"\"\"\n",
    "\n",
    "# Create a StringIO object to simulate a file\n",
    "csv_file = StringIO(csv_string)\n",
    "\n",
    "# Initialize a list to store the CSV data as a list of lists\n",
    "csv_data = []\n",
    "\n",
    "# Parse the CSV data using csv.reader\n",
    "csv_reader = csv.reader(csv_file)\n",
    "\n",
    "# Iterate through the rows and append each row as a list to csv_data\n",
    "for row in csv_reader:\n",
    "    csv_data.append(row)\n",
    "\n",
    "# Close the StringIO object\n",
    "csv_file.close()\n",
    "\n",
    "# Print the list of lists\n",
    "for row in csv_data:\n",
    "    print(row)\n"
   ]
  },
  {
   "cell_type": "code",
   "execution_count": null,
   "id": "1b579847-e48b-4cc3-b0b9-8c36e41f4a87",
   "metadata": {},
   "outputs": [],
   "source": []
  },
  {
   "cell_type": "code",
   "execution_count": null,
   "id": "84706784-d425-44d1-910b-3350be327133",
   "metadata": {},
   "outputs": [],
   "source": []
  },
  {
   "cell_type": "code",
   "execution_count": null,
   "id": "cb59c437-7324-4dd3-a1a6-a1640930e549",
   "metadata": {},
   "outputs": [],
   "source": []
  },
  {
   "cell_type": "markdown",
   "id": "08685057-70c3-4491-913a-0304a2416acd",
   "metadata": {},
   "source": [
    "list based practice problem\n"
   ]
  },
  {
   "cell_type": "code",
   "execution_count": 79,
   "id": "0ca5235e-f5f2-4389-80fd-6a9e6a45b57f",
   "metadata": {},
   "outputs": [],
   "source": [
    "#1. Create a list with integers from 1 to 10."
   ]
  },
  {
   "cell_type": "code",
   "execution_count": 80,
   "id": "d60cfb21-32b8-4302-b299-16f8fdc48dc6",
   "metadata": {},
   "outputs": [
    {
     "name": "stdout",
     "output_type": "stream",
     "text": [
      "[1, 2, 3, 4, 5, 6, 7, 8, 9, 10]\n"
     ]
    }
   ],
   "source": [
    "# Create a list with integers from 1 to 10 using a list comprehension\n",
    "my_list = [i for i in range(1, 11)]\n",
    "\n",
    "# Print the list\n",
    "print(my_list)\n"
   ]
  },
  {
   "cell_type": "code",
   "execution_count": 1,
   "id": "8ba03528-8453-494f-aa8c-b663c4ac01d3",
   "metadata": {},
   "outputs": [],
   "source": [
    "#2. Find the length of a list without using the `len()` function."
   ]
  },
  {
   "cell_type": "code",
   "execution_count": 1,
   "id": "0a9957dd-3074-4e69-a85a-eef8e0ca2669",
   "metadata": {},
   "outputs": [
    {
     "name": "stdout",
     "output_type": "stream",
     "text": [
      "Length of the list: 10\n"
     ]
    }
   ],
   "source": [
    "# Create a list\n",
    "my_list = [1, 2, 3, 4, 5, 6, 7, 8, 9, 10]\n",
    "\n",
    "# Initialize a counter\n",
    "length = 0\n",
    "\n",
    "# Iterate through the list and count the elements\n",
    "for _ in my_list:\n",
    "    length += 1\n",
    "\n",
    "# Print the length of the list\n",
    "print(\"Length of the list:\", length)\n"
   ]
  },
  {
   "cell_type": "code",
   "execution_count": 2,
   "id": "6d48a03d-b778-453b-9f75-7434df6bcc03",
   "metadata": {},
   "outputs": [],
   "source": [
    "#3. Append an element to the end of a list."
   ]
  },
  {
   "cell_type": "code",
   "execution_count": 3,
   "id": "5a89f0f3-5799-48e8-900a-663f840111ea",
   "metadata": {},
   "outputs": [
    {
     "name": "stdout",
     "output_type": "stream",
     "text": [
      "[1, 2, 3, 4, 5, 6]\n"
     ]
    }
   ],
   "source": [
    "# Create a list\n",
    "my_list = [1, 2, 3, 4, 5]\n",
    "\n",
    "# Element to append\n",
    "element_to_append = 6\n",
    "\n",
    "# Append the element to the end of the list\n",
    "my_list.append(element_to_append)\n",
    "\n",
    "# Print the updated list\n",
    "print(my_list)\n"
   ]
  },
  {
   "cell_type": "code",
   "execution_count": 4,
   "id": "6debb715-c824-4ac8-8e52-684e64f137c3",
   "metadata": {},
   "outputs": [],
   "source": [
    "#4. Insert an element at a specific index in a list."
   ]
  },
  {
   "cell_type": "code",
   "execution_count": 5,
   "id": "048ce218-3f6e-4d26-908f-e82cdbb81e77",
   "metadata": {},
   "outputs": [
    {
     "name": "stdout",
     "output_type": "stream",
     "text": [
      "[1, 2, 6, 3, 4, 5]\n"
     ]
    }
   ],
   "source": [
    "# Create a list\n",
    "my_list = [1, 2, 3, 4, 5]\n",
    "\n",
    "# Element to insert\n",
    "element_to_insert = 6\n",
    "\n",
    "# Index where you want to insert the element (0-based index)\n",
    "insert_index = 2\n",
    "\n",
    "# Insert the element at the specified index\n",
    "my_list.insert(insert_index, element_to_insert)\n",
    "\n",
    "# Print the updated list\n",
    "print(my_list)\n"
   ]
  },
  {
   "cell_type": "code",
   "execution_count": 6,
   "id": "267f654d-a4ee-45d6-9f5e-a13a0b03cd2b",
   "metadata": {},
   "outputs": [],
   "source": [
    "#5. Remove an element from a list by its value."
   ]
  },
  {
   "cell_type": "code",
   "execution_count": 7,
   "id": "608fdad2-07e3-4b5a-a1e2-c123fe37dd0f",
   "metadata": {},
   "outputs": [
    {
     "name": "stdout",
     "output_type": "stream",
     "text": [
      "[1, 2, 4, 5, 3]\n"
     ]
    }
   ],
   "source": [
    "# Create a list\n",
    "my_list = [1, 2, 3, 4, 5, 3]\n",
    "\n",
    "# Element to remove\n",
    "element_to_remove = 3\n",
    "\n",
    "# Remove the element by its value\n",
    "my_list.remove(element_to_remove)\n",
    "\n",
    "# Print the updated list\n",
    "print(my_list)\n"
   ]
  },
  {
   "cell_type": "code",
   "execution_count": 8,
   "id": "4f21c599-27d5-40ee-b014-82157a0206db",
   "metadata": {},
   "outputs": [],
   "source": [
    "#6. Remove an element from a list by its index."
   ]
  },
  {
   "cell_type": "code",
   "execution_count": 9,
   "id": "dfc79c7a-bd1f-4420-96f9-e93c6dcac974",
   "metadata": {},
   "outputs": [
    {
     "name": "stdout",
     "output_type": "stream",
     "text": [
      "Removed element: 3\n",
      "[1, 2, 4, 5]\n"
     ]
    }
   ],
   "source": [
    "# Create a list\n",
    "my_list = [1, 2, 3, 4, 5]\n",
    "\n",
    "# Index of the element to remove (0-based index)\n",
    "remove_index = 2\n",
    "\n",
    "# Remove the element at the specified index using pop()\n",
    "if remove_index >= 0 and remove_index < len(my_list):\n",
    "    removed_element = my_list.pop(remove_index)\n",
    "    print(\"Removed element:\", removed_element)\n",
    "else:\n",
    "    print(\"Index out of range.\")\n",
    "\n",
    "# Print the updated list\n",
    "print(my_list)\n"
   ]
  },
  {
   "cell_type": "code",
   "execution_count": 10,
   "id": "600002ff-4df0-4c7c-a3f1-906fa1caea54",
   "metadata": {},
   "outputs": [],
   "source": [
    "#7. Check if an element exists in a list."
   ]
  },
  {
   "cell_type": "code",
   "execution_count": 12,
   "id": "84bfbb94-56aa-4486-9252-f6916a01e757",
   "metadata": {},
   "outputs": [],
   "source": [
    "#8. Find the index of the first occurrence of an element in a list."
   ]
  },
  {
   "cell_type": "code",
   "execution_count": 14,
   "id": "a709860d-2a14-4024-a508-74c14435bc70",
   "metadata": {},
   "outputs": [
    {
     "name": "stdout",
     "output_type": "stream",
     "text": [
      "3 exists in the list.\n"
     ]
    }
   ],
   "source": [
    "# Create a list\n",
    "my_list = [1, 2, 3, 4, 5]\n",
    "\n",
    "# Element to check for\n",
    "element_to_check = 3\n",
    "\n",
    "# Check if the element exists in the list\n",
    "if element_to_check in my_list:\n",
    "    print(f\"{element_to_check} exists in the list.\")\n",
    "else:\n",
    "    print(f\"{element_to_check} does not exist in the list.\")\n"
   ]
  },
  {
   "cell_type": "code",
   "execution_count": 13,
   "id": "24eaff97-5641-4a54-ac9e-cdbca3d829aa",
   "metadata": {},
   "outputs": [
    {
     "name": "stdout",
     "output_type": "stream",
     "text": [
      "The first occurrence of 3 is at index 2.\n"
     ]
    }
   ],
   "source": [
    "# Create a list\n",
    "my_list = [1, 2, 3, 4, 5, 3]\n",
    "\n",
    "# Element to find\n",
    "element_to_find = 3\n",
    "\n",
    "try:\n",
    "    # Find the index of the first occurrence of the element\n",
    "    index = my_list.index(element_to_find)\n",
    "    print(f\"The first occurrence of {element_to_find} is at index {index}.\")\n",
    "except ValueError:\n",
    "    print(f\"{element_to_find} is not in the list.\")\n"
   ]
  },
  {
   "cell_type": "code",
   "execution_count": 15,
   "id": "b6a6ea68-ba28-45ad-a7fe-2c66af54950c",
   "metadata": {},
   "outputs": [],
   "source": [
    "#9. Count the occurrences of an element in a list."
   ]
  },
  {
   "cell_type": "code",
   "execution_count": 16,
   "id": "d7e2ee0c-3457-4801-bac9-6275121e2686",
   "metadata": {},
   "outputs": [
    {
     "name": "stdout",
     "output_type": "stream",
     "text": [
      "The element 3 appears 3 times in the list.\n"
     ]
    }
   ],
   "source": [
    "# Create a list\n",
    "my_list = [1, 2, 3, 4, 5, 3, 3]\n",
    "\n",
    "# Element to count\n",
    "element_to_count = 3\n",
    "\n",
    "# Count the occurrences of the element using count()\n",
    "count = my_list.count(element_to_count)\n",
    "\n",
    "print(f\"The element {element_to_count} appears {count} times in the list.\")\n"
   ]
  },
  {
   "cell_type": "code",
   "execution_count": 17,
   "id": "0a72b7de-5814-420d-8065-e2e352b09f7a",
   "metadata": {},
   "outputs": [],
   "source": [
    "#10. Reverse the order of elements in a list."
   ]
  },
  {
   "cell_type": "code",
   "execution_count": 18,
   "id": "e81aa002-9ed2-4c3d-839d-f81b1ed0d4bb",
   "metadata": {},
   "outputs": [
    {
     "name": "stdout",
     "output_type": "stream",
     "text": [
      "[5, 4, 3, 2, 1]\n"
     ]
    }
   ],
   "source": [
    "# Create a list\n",
    "my_list = [1, 2, 3, 4, 5]\n",
    "\n",
    "# Reverse the list using reverse()\n",
    "my_list.reverse()\n",
    "\n",
    "# Print the reversed list\n",
    "print(my_list)\n"
   ]
  },
  {
   "cell_type": "code",
   "execution_count": 19,
   "id": "5a2efa38-9eb0-4c41-89e1-34a0937555bf",
   "metadata": {},
   "outputs": [],
   "source": [
    "#11. Sort a list in ascending order."
   ]
  },
  {
   "cell_type": "code",
   "execution_count": 20,
   "id": "57666390-21ad-4fdc-89eb-2353eb578690",
   "metadata": {},
   "outputs": [
    {
     "name": "stdout",
     "output_type": "stream",
     "text": [
      "[1, 1, 2, 3, 3, 4, 5, 5, 5, 6, 9]\n"
     ]
    }
   ],
   "source": [
    "# Create an unsorted list\n",
    "my_list = [3, 1, 4, 1, 5, 9, 2, 6, 5, 3, 5]\n",
    "\n",
    "# Sort the list in ascending order using sort()\n",
    "my_list.sort()\n",
    "\n",
    "# Print the sorted list\n",
    "print(my_list)\n"
   ]
  },
  {
   "cell_type": "code",
   "execution_count": 21,
   "id": "76de5813-dce4-46ff-8fd4-50259f7e11d1",
   "metadata": {},
   "outputs": [],
   "source": [
    "#12. Sort a list in descending order."
   ]
  },
  {
   "cell_type": "code",
   "execution_count": 22,
   "id": "b34c2f14-7c62-4d6a-b764-b37eb897393f",
   "metadata": {},
   "outputs": [
    {
     "name": "stdout",
     "output_type": "stream",
     "text": [
      "[9, 6, 5, 5, 5, 4, 3, 3, 2, 1, 1]\n"
     ]
    }
   ],
   "source": [
    "# Create an unsorted list\n",
    "my_list = [3, 1, 4, 1, 5, 9, 2, 6, 5, 3, 5]\n",
    "\n",
    "# Sort the list in descending order using sort() with reverse=True\n",
    "my_list.sort(reverse=True)\n",
    "\n",
    "# Print the sorted list\n",
    "print(my_list)\n"
   ]
  },
  {
   "cell_type": "code",
   "execution_count": 23,
   "id": "76c7ad72-ad60-42d3-bacf-0c509fbf307c",
   "metadata": {},
   "outputs": [],
   "source": [
    "#13. Create a list of even numbers from 1 to 20."
   ]
  },
  {
   "cell_type": "code",
   "execution_count": 24,
   "id": "02137859-8012-4b4d-afe1-a18239beb0d4",
   "metadata": {},
   "outputs": [
    {
     "name": "stdout",
     "output_type": "stream",
     "text": [
      "[2, 4, 6, 8, 10, 12, 14, 16, 18, 20]\n"
     ]
    }
   ],
   "source": [
    "# Create an empty list to store even numbers\n",
    "even_numbers = []\n",
    "\n",
    "# Use a loop to add even numbers from 1 to 20 to the list\n",
    "for x in range(1, 21):\n",
    "    if x % 2 == 0:\n",
    "        even_numbers.append(x)\n",
    "\n",
    "# Print the list of even numbers\n",
    "print(even_numbers)\n"
   ]
  },
  {
   "cell_type": "code",
   "execution_count": 25,
   "id": "234393bc-58a7-4008-8ec9-166808a4df0f",
   "metadata": {},
   "outputs": [],
   "source": [
    "#14. Create a list of odd numbers from 1 to 20."
   ]
  },
  {
   "cell_type": "code",
   "execution_count": 26,
   "id": "d45f239f-f546-4228-b3fe-57356f2c3022",
   "metadata": {},
   "outputs": [
    {
     "name": "stdout",
     "output_type": "stream",
     "text": [
      "[1, 3, 5, 7, 9, 11, 13, 15, 17, 19]\n"
     ]
    }
   ],
   "source": [
    "# Create an empty list to store odd numbers\n",
    "odd_numbers = []\n",
    "\n",
    "# Use a loop to add odd numbers from 1 to 20 to the list\n",
    "for x in range(1, 21):\n",
    "    if x % 2 != 0:\n",
    "        odd_numbers.append(x)\n",
    "\n",
    "# Print the list of odd numbers\n",
    "print(odd_numbers)\n"
   ]
  },
  {
   "cell_type": "code",
   "execution_count": 27,
   "id": "070eeeb3-f4fd-40dd-bcb3-d5d73bb1aa98",
   "metadata": {},
   "outputs": [],
   "source": [
    "#15. Find the sum of all elements in a list."
   ]
  },
  {
   "cell_type": "code",
   "execution_count": 28,
   "id": "74af1100-7934-4b9a-852a-310d7976b339",
   "metadata": {},
   "outputs": [
    {
     "name": "stdout",
     "output_type": "stream",
     "text": [
      "Sum of elements: 15\n"
     ]
    }
   ],
   "source": [
    "# Create a list of numbers\n",
    "my_list = [1, 2, 3, 4, 5]\n",
    "\n",
    "# Use the sum() function to calculate the sum\n",
    "sum_of_elements = sum(my_list)\n",
    "\n",
    "# Print the sum\n",
    "print(\"Sum of elements:\", sum_of_elements)\n"
   ]
  },
  {
   "cell_type": "code",
   "execution_count": 29,
   "id": "64dedf0b-f33c-41f3-8daf-c707cf56a06e",
   "metadata": {},
   "outputs": [],
   "source": [
    "#16. Find the maximum value in a list."
   ]
  },
  {
   "cell_type": "code",
   "execution_count": 30,
   "id": "678eb72f-e4fa-427b-8fcc-e24b853f069e",
   "metadata": {},
   "outputs": [
    {
     "name": "stdout",
     "output_type": "stream",
     "text": [
      "Maximum value: 9\n"
     ]
    }
   ],
   "source": [
    "# Create a list of numbers\n",
    "my_list = [7, 2, 9, 4, 5]\n",
    "\n",
    "# Find the maximum value using the max() function\n",
    "max_value = max(my_list)\n",
    "\n",
    "# Print the maximum value\n",
    "print(\"Maximum value:\", max_value)\n"
   ]
  },
  {
   "cell_type": "code",
   "execution_count": 31,
   "id": "b6a5aca6-95fb-4c0b-8e69-6c23e6edca23",
   "metadata": {},
   "outputs": [],
   "source": [
    "#17. Find the minimum value in a list."
   ]
  },
  {
   "cell_type": "code",
   "execution_count": 32,
   "id": "f092b4a2-2891-4c1b-8e68-e990754806dd",
   "metadata": {},
   "outputs": [
    {
     "name": "stdout",
     "output_type": "stream",
     "text": [
      "Minimum value: 2\n"
     ]
    }
   ],
   "source": [
    "# Create a list of numbers\n",
    "my_list = [7, 2, 9, 4, 5]\n",
    "\n",
    "# Find the minimum value using the min() function\n",
    "min_value = min(my_list)\n",
    "\n",
    "# Print the minimum value\n",
    "print(\"Minimum value:\", min_value)\n"
   ]
  },
  {
   "cell_type": "code",
   "execution_count": 33,
   "id": "41e7d5e0-25e5-4fe7-8ff0-a97c140653ed",
   "metadata": {},
   "outputs": [],
   "source": [
    "#18. Create a list of squares of numbers from 1 to 10."
   ]
  },
  {
   "cell_type": "code",
   "execution_count": 34,
   "id": "e5b42f65-9b26-49a5-9d1d-fdfaec569655",
   "metadata": {},
   "outputs": [
    {
     "name": "stdout",
     "output_type": "stream",
     "text": [
      "[1, 4, 9, 16, 25, 36, 49, 64, 81, 100]\n"
     ]
    }
   ],
   "source": [
    "# Create a list of squares of numbers from 1 to 10 using a list comprehension\n",
    "squares = [x**2 for x in range(1, 11)]\n",
    "\n",
    "# Print the list of squares\n",
    "print(squares)\n"
   ]
  },
  {
   "cell_type": "code",
   "execution_count": 35,
   "id": "17a09442-d300-47b2-b938-0778f60ffe9a",
   "metadata": {},
   "outputs": [],
   "source": [
    "#19. Create a list of random numbers."
   ]
  },
  {
   "cell_type": "code",
   "execution_count": 36,
   "id": "ebce0738-6233-43e0-a83f-a351d46300b8",
   "metadata": {},
   "outputs": [
    {
     "name": "stdout",
     "output_type": "stream",
     "text": [
      "[61, 8, 66, 21, 26, 92, 82, 5, 52, 75]\n"
     ]
    }
   ],
   "source": [
    "import random\n",
    "\n",
    "# Create a list of 10 random integers between a specified range (e.g., 1 to 100)\n",
    "random_numbers = [random.randint(1, 100) for _ in range(10)]\n",
    "\n",
    "# Print the list of random numbers\n",
    "print(random_numbers)\n"
   ]
  },
  {
   "cell_type": "code",
   "execution_count": 37,
   "id": "3fc893d2-d5d7-4012-bcee-b0526199ca7a",
   "metadata": {},
   "outputs": [],
   "source": [
    "#20. Remove duplicates from a list."
   ]
  },
  {
   "cell_type": "code",
   "execution_count": 38,
   "id": "ce9c2988-7e0f-41ba-bfa7-23bfe2fdd97d",
   "metadata": {},
   "outputs": [
    {
     "name": "stdout",
     "output_type": "stream",
     "text": [
      "[1, 2, 3, 4, 5]\n"
     ]
    }
   ],
   "source": [
    "# Create a list with duplicates\n",
    "my_list = [1, 2, 2, 3, 4, 4, 5]\n",
    "\n",
    "# Create a new list to store unique elements\n",
    "unique_list = []\n",
    "\n",
    "# Use a loop to iterate through the original list\n",
    "for item in my_list:\n",
    "    if item not in unique_list:\n",
    "        unique_list.append(item)\n",
    "\n",
    "# Print the unique list\n",
    "print(unique_list)\n"
   ]
  },
  {
   "cell_type": "code",
   "execution_count": 39,
   "id": "e14fecc4-048f-42e1-b453-309d1de6e056",
   "metadata": {},
   "outputs": [],
   "source": [
    "#21. Find the common elements between two lists."
   ]
  },
  {
   "cell_type": "code",
   "execution_count": 40,
   "id": "6f811d40-19df-424a-bec9-bd51767a0aff",
   "metadata": {},
   "outputs": [
    {
     "name": "stdout",
     "output_type": "stream",
     "text": [
      "[3, 4, 5]\n"
     ]
    }
   ],
   "source": [
    "# Create two lists with some common elements (including duplicates)\n",
    "list1 = [1, 2, 2, 3, 4, 4, 5]\n",
    "list2 = [3, 4, 4, 5, 6, 7]\n",
    "\n",
    "# Find common elements using a loop\n",
    "common_elements = []\n",
    "for item in list1:\n",
    "    if item in list2 and item not in common_elements:\n",
    "        common_elements.append(item)\n",
    "\n",
    "# Print the common elements\n",
    "print(common_elements)\n"
   ]
  },
  {
   "cell_type": "code",
   "execution_count": 41,
   "id": "5c24634a-b6f7-49d6-9edc-eda3516398fd",
   "metadata": {},
   "outputs": [],
   "source": [
    "#22. Find the difference between two lists."
   ]
  },
  {
   "cell_type": "code",
   "execution_count": 42,
   "id": "d6f9c7ac-079b-4608-a493-118a89023e95",
   "metadata": {},
   "outputs": [
    {
     "name": "stdout",
     "output_type": "stream",
     "text": [
      "Difference from list1 to list2: [1, 2]\n",
      "Difference from list2 to list1: [6, 7]\n"
     ]
    }
   ],
   "source": [
    "# Create two lists\n",
    "list1 = [1, 2, 3, 4, 5]\n",
    "list2 = [3, 4, 5, 6, 7]\n",
    "\n",
    "# Convert the lists to sets and find the difference\n",
    "difference1 = list(set(list1).difference(set(list2)))\n",
    "difference2 = list(set(list2).difference(set(list1)))\n",
    "\n",
    "# Print the differences\n",
    "print(\"Difference from list1 to list2:\", difference1)\n",
    "print(\"Difference from list2 to list1:\", difference2)\n"
   ]
  },
  {
   "cell_type": "code",
   "execution_count": 43,
   "id": "339c0ef6-a4c9-425a-a2ae-088a8e30526c",
   "metadata": {},
   "outputs": [],
   "source": [
    "#23. Merge two lists."
   ]
  },
  {
   "cell_type": "code",
   "execution_count": 44,
   "id": "6052d70e-5fec-45f1-b4b7-98e8868726b5",
   "metadata": {},
   "outputs": [
    {
     "name": "stdout",
     "output_type": "stream",
     "text": [
      "[1, 2, 3, 4, 5, 6]\n"
     ]
    }
   ],
   "source": [
    "# Create two lists\n",
    "list1 = [1, 2, 3]\n",
    "list2 = [4, 5, 6]\n",
    "\n",
    "# Merge the two lists using the + operator\n",
    "merged_list = list1 + list2\n",
    "\n",
    "# Print the merged list\n",
    "print(merged_list)\n"
   ]
  },
  {
   "cell_type": "code",
   "execution_count": 45,
   "id": "ac2d56b8-e9da-4f1c-be4b-5fd06aa55ff7",
   "metadata": {},
   "outputs": [],
   "source": [
    "#24. Multiply all elements in a list by 2."
   ]
  },
  {
   "cell_type": "code",
   "execution_count": 46,
   "id": "60287af4-cbf1-493b-b84e-7bb50ba95539",
   "metadata": {},
   "outputs": [
    {
     "name": "stdout",
     "output_type": "stream",
     "text": [
      "[2, 4, 6, 8, 10]\n"
     ]
    }
   ],
   "source": [
    "# Create a list of numbers\n",
    "my_list = [1, 2, 3, 4, 5]\n",
    "\n",
    "# Multiply all elements by 2 using a loop\n",
    "for i in range(len(my_list)):\n",
    "    my_list[i] *= 2\n",
    "\n",
    "# Print the modified list\n",
    "print(my_list)\n"
   ]
  },
  {
   "cell_type": "code",
   "execution_count": 47,
   "id": "a233b1e3-3e9c-4f8b-8e94-d3757980e931",
   "metadata": {},
   "outputs": [],
   "source": [
    "#25. Filter out all even numbers from a list."
   ]
  },
  {
   "cell_type": "code",
   "execution_count": 48,
   "id": "07d6f90a-7830-4a67-8e87-7bffb7a8512d",
   "metadata": {},
   "outputs": [
    {
     "name": "stdout",
     "output_type": "stream",
     "text": [
      "[1, 3, 5, 7, 9]\n"
     ]
    }
   ],
   "source": [
    "# Create a list of numbers\n",
    "my_list = [1, 2, 3, 4, 5, 6, 7, 8, 9, 10]\n",
    "\n",
    "# Filter out even numbers using a list comprehension\n",
    "odd_numbers = [x for x in my_list if x % 2 != 0]\n",
    "\n",
    "# Print the new list with odd numbers\n",
    "print(odd_numbers)\n"
   ]
  },
  {
   "cell_type": "code",
   "execution_count": 1,
   "id": "5a815f54-180f-4e2b-b6d5-a5f294644ccf",
   "metadata": {},
   "outputs": [],
   "source": [
    "#26. Convert a list of strings to a list of integers."
   ]
  },
  {
   "cell_type": "code",
   "execution_count": 2,
   "id": "8acc7c05-2c55-4ff9-a521-501e72a130ae",
   "metadata": {},
   "outputs": [
    {
     "name": "stdout",
     "output_type": "stream",
     "text": [
      "[1, 2, 3, 4, 5]\n"
     ]
    }
   ],
   "source": [
    "# Create a list of strings\n",
    "string_list = [\"1\", \"2\", \"3\", \"4\", \"5\"]\n",
    "\n",
    "# Initialize an empty list to store integers\n",
    "int_list = []\n",
    "\n",
    "# Use a loop to convert strings to integers\n",
    "for s in string_list:\n",
    "    int_list.append(int(s))\n",
    "\n",
    "# Print the list of integers\n",
    "print(int_list)\n"
   ]
  },
  {
   "cell_type": "code",
   "execution_count": 5,
   "id": "83477e08-4872-4c4f-80a1-4da7d3ad58c8",
   "metadata": {},
   "outputs": [],
   "source": [
    "#28. Flatten a nested list."
   ]
  },
  {
   "cell_type": "code",
   "execution_count": 6,
   "id": "7b1367a9-20ac-404a-b02b-882790bc5f92",
   "metadata": {},
   "outputs": [
    {
     "name": "stdout",
     "output_type": "stream",
     "text": [
      "[1, 2, 3, 4, 5, 6, 7]\n"
     ]
    }
   ],
   "source": [
    "# Define a function to flatten a nested list\n",
    "def flatten_list(nested_list):\n",
    "    flat_list = []\n",
    "    for item in nested_list:\n",
    "        if isinstance(item, list):\n",
    "            flat_list.extend(flatten_list(item))\n",
    "        else:\n",
    "            flat_list.append(item)\n",
    "    return flat_list\n",
    "\n",
    "# Example nested list\n",
    "nested_list = [1, [2, 3], [4, [5, 6]], 7]\n",
    "\n",
    "# Flatten the nested list\n",
    "flat_list = flatten_list(nested_list)\n",
    "\n",
    "# Print the flattened list\n",
    "print(flat_list)\n"
   ]
  },
  {
   "cell_type": "code",
   "execution_count": 7,
   "id": "4a9516b5-4ae4-4557-becf-03a60c88d9c7",
   "metadata": {},
   "outputs": [],
   "source": [
    "#29. Create a list of the first 10 Fibonacci numbers."
   ]
  },
  {
   "cell_type": "code",
   "execution_count": 8,
   "id": "0e80d08a-a915-43c9-9bb9-eded8c2a6635",
   "metadata": {},
   "outputs": [
    {
     "name": "stdout",
     "output_type": "stream",
     "text": [
      "[0, 1, 1, 2, 3, 5, 8, 13, 21, 34]\n"
     ]
    }
   ],
   "source": [
    "# Initialize the list with the first two Fibonacci numbers\n",
    "fibonacci_numbers = [0, 1]\n",
    "\n",
    "# Use a loop to generate the next 8 Fibonacci numbers\n",
    "for i in range(2, 10):\n",
    "    next_fibonacci = fibonacci_numbers[i - 1] + fibonacci_numbers[i - 2]\n",
    "    fibonacci_numbers.append(next_fibonacci)\n",
    "\n",
    "# Print the list of the first 10 Fibonacci numbers\n",
    "print(fibonacci_numbers)\n"
   ]
  },
  {
   "cell_type": "code",
   "execution_count": 9,
   "id": "00f72ab6-56ec-49a7-8d57-a1e0d0a891cd",
   "metadata": {},
   "outputs": [],
   "source": [
    "#30. Check if a list is sorted."
   ]
  },
  {
   "cell_type": "code",
   "execution_count": 10,
   "id": "c045e2fa-edcc-4401-a96a-aa832a35edab",
   "metadata": {},
   "outputs": [
    {
     "name": "stdout",
     "output_type": "stream",
     "text": [
      "Is sorted_list sorted? True\n",
      "Is unsorted_list sorted? False\n"
     ]
    }
   ],
   "source": [
    "# Function to check if a list is sorted in ascending order\n",
    "def is_sorted(arr):\n",
    "    for i in range(len(arr) - 1):\n",
    "        if arr[i] > arr[i + 1]:\n",
    "            return False\n",
    "    return True\n",
    "\n",
    "# Example lists\n",
    "sorted_list = [1, 2, 3, 4, 5]\n",
    "unsorted_list = [3, 1, 4, 1, 5, 9, 2, 6, 5, 3, 5]\n",
    "\n",
    "# Check if the lists are sorted\n",
    "print(\"Is sorted_list sorted?\", is_sorted(sorted_list))\n",
    "print(\"Is unsorted_list sorted?\", is_sorted(unsorted_list))\n"
   ]
  },
  {
   "cell_type": "code",
   "execution_count": 11,
   "id": "6b7e7b4a-716c-4618-80ce-8a3849a1c0f0",
   "metadata": {},
   "outputs": [],
   "source": [
    "#31. Rotate a list to the left by `n` positions."
   ]
  },
  {
   "cell_type": "code",
   "execution_count": 12,
   "id": "f8c095c7-34a7-4874-9ad7-cd9720b49014",
   "metadata": {},
   "outputs": [
    {
     "name": "stdout",
     "output_type": "stream",
     "text": [
      "[3, 4, 5, 1, 2]\n"
     ]
    }
   ],
   "source": [
    "# Function to rotate a list to the left by n positions\n",
    "def rotate_left(arr, n):\n",
    "    # Check for empty list or no rotation needed\n",
    "    if not arr or n == 0:\n",
    "        return arr\n",
    "    \n",
    "    # Calculate the effective rotation index\n",
    "    n = n % len(arr)\n",
    "    \n",
    "    # Slice the list to rotate it\n",
    "    rotated_list = arr[n:] + arr[:n]\n",
    "    return rotated_list\n",
    "\n",
    "# Example list\n",
    "my_list = [1, 2, 3, 4, 5]\n",
    "\n",
    "# Rotate the list to the left by 2 positions\n",
    "rotated = rotate_left(my_list, 2)\n",
    "\n",
    "# Print the rotated list\n",
    "print(rotated)\n"
   ]
  },
  {
   "cell_type": "code",
   "execution_count": 13,
   "id": "5b55ad46-80e2-4523-8b14-c9ccb02f2569",
   "metadata": {},
   "outputs": [],
   "source": [
    "#32. Rotate a list to the right by `n` positions."
   ]
  },
  {
   "cell_type": "code",
   "execution_count": 14,
   "id": "4fb01a39-2d0d-4ad2-888e-371458329764",
   "metadata": {},
   "outputs": [
    {
     "name": "stdout",
     "output_type": "stream",
     "text": [
      "[4, 5, 1, 2, 3]\n"
     ]
    }
   ],
   "source": [
    "# Function to rotate a list to the right by n positions\n",
    "def rotate_right(arr, n):\n",
    "    # Check for empty list or no rotation needed\n",
    "    if not arr or n == 0:\n",
    "        return arr\n",
    "\n",
    "    # Calculate the effective rotation index\n",
    "    n = n % len(arr)\n",
    "\n",
    "    # Slice the list to rotate it\n",
    "    rotated_list = arr[-n:] + arr[:-n]\n",
    "    return rotated_list\n",
    "\n",
    "# Example list\n",
    "my_list = [1, 2, 3, 4, 5]\n",
    "\n",
    "# Rotate the list to the right by 2 positions\n",
    "rotated = rotate_right(my_list, 2)\n",
    "\n",
    "# Print the rotated list\n",
    "print(rotated)\n"
   ]
  },
  {
   "cell_type": "code",
   "execution_count": 15,
   "id": "5911e0ca-9ce8-4cce-aeb2-923f0702eb14",
   "metadata": {},
   "outputs": [],
   "source": [
    "#33. Create a list of prime numbers up to 50."
   ]
  },
  {
   "cell_type": "code",
   "execution_count": 16,
   "id": "064aee9f-0a9a-4eb6-a2cb-d4accd0c1877",
   "metadata": {},
   "outputs": [
    {
     "name": "stdout",
     "output_type": "stream",
     "text": [
      "[2, 3, 5, 7, 11, 13, 17, 19, 23, 29, 31, 37, 41, 43, 47]\n"
     ]
    }
   ],
   "source": [
    "# Function to check if a number is prime\n",
    "def is_prime(n):\n",
    "    if n <= 1:\n",
    "        return False\n",
    "    elif n == 2:\n",
    "        return True\n",
    "    elif n % 2 == 0:\n",
    "        return False\n",
    "    else:\n",
    "        # Check for divisibility by odd numbers from 3 to the square root of n\n",
    "        for i in range(3, int(n ** 0.5) + 1, 2):\n",
    "            if n % i == 0:\n",
    "                return False\n",
    "        return True\n",
    "\n",
    "# Create a list of prime numbers up to 50\n",
    "prime_numbers = [num for num in range(2, 51) if is_prime(num)]\n",
    "\n",
    "# Print the list of prime numbers\n",
    "print(prime_numbers)\n"
   ]
  },
  {
   "cell_type": "code",
   "execution_count": 17,
   "id": "6dfe263d-81bd-4eb0-aaeb-a4d396cc94bd",
   "metadata": {},
   "outputs": [],
   "source": [
    "#34. Split a list into chunks of size `n`."
   ]
  },
  {
   "cell_type": "code",
   "execution_count": 18,
   "id": "b4aef8fd-3612-48c9-b623-2e794d6da684",
   "metadata": {},
   "outputs": [
    {
     "name": "stdout",
     "output_type": "stream",
     "text": [
      "[[1, 2, 3], [4, 5, 6], [7, 8, 9], [10]]\n"
     ]
    }
   ],
   "source": [
    "# Function to split a list into chunks of size n\n",
    "def split_list(input_list, n):\n",
    "    result = []\n",
    "    for i in range(0, len(input_list), n):\n",
    "        chunk = input_list[i:i + n]\n",
    "        result.append(chunk)\n",
    "    return result\n",
    "\n",
    "# Example list\n",
    "my_list = [1, 2, 3, 4, 5, 6, 7, 8, 9, 10]\n",
    "\n",
    "# Split the list into chunks of size 3\n",
    "chunks = split_list(my_list, 3)\n",
    "\n",
    "# Print the list of chunks\n",
    "print(chunks)\n"
   ]
  },
  {
   "cell_type": "code",
   "execution_count": 19,
   "id": "71259e7d-905f-4325-81f3-08c2b766156b",
   "metadata": {},
   "outputs": [],
   "source": [
    "#35. Find the second largest number in a list."
   ]
  },
  {
   "cell_type": "code",
   "execution_count": 20,
   "id": "baae1753-b131-431d-a5c1-8898b923d6a1",
   "metadata": {},
   "outputs": [
    {
     "name": "stdout",
     "output_type": "stream",
     "text": [
      "The second largest number is: 41\n"
     ]
    }
   ],
   "source": [
    "# Function to find the second largest number in a list\n",
    "def second_largest(numbers):\n",
    "    if len(numbers) < 2:\n",
    "        return \"The list has less than two elements.\"\n",
    "\n",
    "    # Sort the list in ascending order\n",
    "    sorted_numbers = sorted(numbers)\n",
    "\n",
    "    # The second-to-last element is the second largest\n",
    "    return sorted_numbers[-2]\n",
    "\n",
    "# Example list\n",
    "my_list = [12, 45, 2, 41, 31, 10, 8, 6]\n",
    "\n",
    "# Find the second largest number\n",
    "result = second_largest(my_list)\n",
    "\n",
    "# Print the result\n",
    "print(\"The second largest number is:\", result)\n"
   ]
  },
  {
   "cell_type": "code",
   "execution_count": 21,
   "id": "aaf18688-7719-4bfb-a278-98fbf408c775",
   "metadata": {},
   "outputs": [],
   "source": [
    "#36. Replace every element in a list with its square."
   ]
  },
  {
   "cell_type": "code",
   "execution_count": 22,
   "id": "65aaa13d-68f2-403a-8995-bfa128719921",
   "metadata": {},
   "outputs": [
    {
     "name": "stdout",
     "output_type": "stream",
     "text": [
      "[1, 4, 9, 16, 25]\n"
     ]
    }
   ],
   "source": [
    "# Create a list of numbers\n",
    "my_list = [1, 2, 3, 4, 5]\n",
    "\n",
    "# Use a loop to replace each element with its square\n",
    "for i in range(len(my_list)):\n",
    "    my_list[i] = my_list[i] ** 2\n",
    "\n",
    "# Print the modified list\n",
    "print(my_list)\n"
   ]
  },
  {
   "cell_type": "code",
   "execution_count": 27,
   "id": "04af3f95-bfea-455c-9ed8-89e02f5586c6",
   "metadata": {},
   "outputs": [
    {
     "data": {
      "text/plain": [
       "'37. Convert a list to a dictionary where\\nlist elements become keys and their\\nindices become values.'"
      ]
     },
     "execution_count": 27,
     "metadata": {},
     "output_type": "execute_result"
    }
   ],
   "source": [
    "'''37. Convert a list to a dictionary where\n",
    "list elements become keys and their\n",
    "indices become values.'''"
   ]
  },
  {
   "cell_type": "code",
   "execution_count": 28,
   "id": "8a08590b-a62e-41b7-9c41-68832f8bd424",
   "metadata": {},
   "outputs": [
    {
     "name": "stdout",
     "output_type": "stream",
     "text": [
      "{'apple': 0, 'banana': 1, 'cherry': 2, 'date': 3}\n"
     ]
    }
   ],
   "source": [
    "# Create a list of elements\n",
    "my_list = ['apple', 'banana', 'cherry', 'date']\n",
    "\n",
    "# Convert the list to a dictionary\n",
    "my_dict = {element: index for index, element in enumerate(my_list)}\n",
    "\n",
    "# Print the resulting dictionary\n",
    "print(my_dict)\n"
   ]
  },
  {
   "cell_type": "code",
   "execution_count": 29,
   "id": "58668b47-65a5-4ca8-b679-336c0900e13d",
   "metadata": {},
   "outputs": [],
   "source": [
    "#38. Shuffle the elements of a list randomly."
   ]
  },
  {
   "cell_type": "code",
   "execution_count": 30,
   "id": "9aea4e5e-4cf3-4153-80b2-70b54cc8c2c9",
   "metadata": {},
   "outputs": [
    {
     "name": "stdout",
     "output_type": "stream",
     "text": [
      "[1, 2, 3, 4, 5]\n"
     ]
    }
   ],
   "source": [
    "import random\n",
    "\n",
    "# Create a list of elements\n",
    "my_list = [1, 2, 3, 4, 5]\n",
    "\n",
    "# Shuffle the list randomly\n",
    "random.shuffle(my_list)\n",
    "\n",
    "# Print the shuffled list\n",
    "print(my_list)\n"
   ]
  },
  {
   "cell_type": "code",
   "execution_count": 31,
   "id": "e9102eba-3edc-4836-a001-5107769ca12f",
   "metadata": {},
   "outputs": [],
   "source": [
    "#39. Create a list of the first 10 factorial numbers."
   ]
  },
  {
   "cell_type": "code",
   "execution_count": 33,
   "id": "d20a8cb7-a37c-4af5-970f-cbe3c4c32ff7",
   "metadata": {},
   "outputs": [
    {
     "name": "stdout",
     "output_type": "stream",
     "text": [
      "[1, 1, 2, 6, 24, 120, 720, 5040, 40320, 362880]\n"
     ]
    }
   ],
   "source": [
    "# Function to calculate factorial\n",
    "def factorial(n):\n",
    "    if n == 0:\n",
    "        return 1\n",
    "    else:\n",
    "        return n * factorial(n - 1)\n",
    "\n",
    "# Create a list of the first 10 factorial numbers\n",
    "factorial_list = [factorial(n) for n in range(10)]\n",
    "\n",
    "# Print the list of factorial numbers\n",
    "print(factorial_list)\n"
   ]
  },
  {
   "cell_type": "code",
   "execution_count": 34,
   "id": "b12b67a4-e999-4b49-a083-c8e84d7a02b7",
   "metadata": {},
   "outputs": [],
   "source": [
    "#40. Check if two lists have at least one element in common."
   ]
  },
  {
   "cell_type": "code",
   "execution_count": 35,
   "id": "419931a6-0896-4065-83c0-e7a25c6e13a6",
   "metadata": {},
   "outputs": [
    {
     "name": "stdout",
     "output_type": "stream",
     "text": [
      "The lists have at least one common element.\n"
     ]
    }
   ],
   "source": [
    "# Function to check if two lists have at least one element in common\n",
    "def have_common_element(list1, list2):\n",
    "    set1 = set(list1)\n",
    "    set2 = set(list2)\n",
    "    common_elements = set1.intersection(set2)\n",
    "    return len(common_elements) > 0\n",
    "\n",
    "# Example lists\n",
    "list1 = [1, 2, 3, 4, 5]\n",
    "list2 = [5, 6, 7, 8, 9]\n",
    "\n",
    "# Check if the lists have at least one common element\n",
    "result = have_common_element(list1, list2)\n",
    "\n",
    "# Print the result\n",
    "if result:\n",
    "    print(\"The lists have at least one common element.\")\n",
    "else:\n",
    "    print(\"The lists have no common elements.\")\n"
   ]
  },
  {
   "cell_type": "code",
   "execution_count": 36,
   "id": "2365b1fa-0816-4ffc-987a-fd0e41d13cee",
   "metadata": {},
   "outputs": [],
   "source": [
    "#41. Remove all elements from a list."
   ]
  },
  {
   "cell_type": "code",
   "execution_count": 37,
   "id": "e6c5ed3e-47ca-4878-ad48-9aa26b287d9b",
   "metadata": {},
   "outputs": [
    {
     "name": "stdout",
     "output_type": "stream",
     "text": [
      "[]\n"
     ]
    }
   ],
   "source": [
    "# Create a list\n",
    "my_list = [1, 2, 3, 4, 5]\n",
    "\n",
    "# Remove all elements from the list\n",
    "my_list.clear()\n",
    "\n",
    "# The list is now empty\n",
    "print(my_list)\n"
   ]
  },
  {
   "cell_type": "code",
   "execution_count": 38,
   "id": "9f4a18bb-5de4-4110-bb59-fc66813e931d",
   "metadata": {},
   "outputs": [],
   "source": [
    "#42. Replace negative numbers in a list with 0."
   ]
  },
  {
   "cell_type": "code",
   "execution_count": 39,
   "id": "7eb148ea-5827-45bd-b7a7-480ba04a7c2e",
   "metadata": {},
   "outputs": [
    {
     "name": "stdout",
     "output_type": "stream",
     "text": [
      "[1, 0, 3, 0, 5, 0]\n"
     ]
    }
   ],
   "source": [
    "# Create a list with both positive and negative numbers\n",
    "my_list = [1, -2, 3, -4, 5, -6]\n",
    "\n",
    "# Replace negative numbers with 0\n",
    "for i in range(len(my_list)):\n",
    "    if my_list[i] < 0:\n",
    "        my_list[i] = 0\n",
    "\n",
    "# Print the modified list\n",
    "print(my_list)\n"
   ]
  },
  {
   "cell_type": "code",
   "execution_count": 40,
   "id": "249c624d-3623-47ba-a702-dc350772e3d4",
   "metadata": {},
   "outputs": [],
   "source": [
    "#43. Convert a string into a list of words."
   ]
  },
  {
   "cell_type": "code",
   "execution_count": 41,
   "id": "7640f990-e7ff-4f25-9c83-90c123a827ad",
   "metadata": {},
   "outputs": [
    {
     "name": "stdout",
     "output_type": "stream",
     "text": [
      "['This', 'is', 'a', 'sample', 'sentence.']\n"
     ]
    }
   ],
   "source": [
    "# Input string\n",
    "input_string = \"This is a sample sentence.\"\n",
    "\n",
    "# Split the string into a list of words\n",
    "word_list = input_string.split()\n",
    "\n",
    "# Print the list of words\n",
    "print(word_list)\n"
   ]
  },
  {
   "cell_type": "code",
   "execution_count": 42,
   "id": "8571c77d-77c4-462b-b291-9ffeaf2dfda3",
   "metadata": {},
   "outputs": [],
   "source": [
    "#44. Convert a list of words into a string."
   ]
  },
  {
   "cell_type": "code",
   "execution_count": 43,
   "id": "af58c4cd-1681-4f8c-8e26-58d1361e72ec",
   "metadata": {},
   "outputs": [
    {
     "name": "stdout",
     "output_type": "stream",
     "text": [
      "This is a sample sentence.\n"
     ]
    }
   ],
   "source": [
    "# List of words\n",
    "word_list = ['This', 'is', 'a', 'sample', 'sentence.']\n",
    "\n",
    "# Convert the list of words into a string\n",
    "output_string = ' '.join(word_list)\n",
    "\n",
    "# Print the resulting string\n",
    "print(output_string)\n"
   ]
  },
  {
   "cell_type": "code",
   "execution_count": 44,
   "id": "65523cf1-74f7-4451-9860-5df4caf35946",
   "metadata": {},
   "outputs": [],
   "source": [
    "#45. Create a list of the first `n` powers of 2."
   ]
  },
  {
   "cell_type": "code",
   "execution_count": 45,
   "id": "f40b9ef2-11ef-4060-923c-eed4509076b5",
   "metadata": {},
   "outputs": [
    {
     "name": "stdout",
     "output_type": "stream",
     "text": [
      "[1, 2, 4, 8, 16]\n"
     ]
    }
   ],
   "source": [
    "# Function to generate the first n powers of 2\n",
    "def powers_of_2(n):\n",
    "    return [2**i for i in range(n)]\n",
    "\n",
    "# Example: Create a list of the first 5 powers of 2\n",
    "n = 5\n",
    "powers_list = powers_of_2(n)\n",
    "\n",
    "# Print the list of powers\n",
    "print(powers_list)\n"
   ]
  },
  {
   "cell_type": "code",
   "execution_count": 46,
   "id": "694d4adf-3832-443c-9ae4-086b05c7e427",
   "metadata": {},
   "outputs": [],
   "source": [
    "#46. Find the longest string in a list of strings."
   ]
  },
  {
   "cell_type": "code",
   "execution_count": 47,
   "id": "d9643d07-c2da-4c16-92ec-a37e6a7781dd",
   "metadata": {},
   "outputs": [
    {
     "name": "stdout",
     "output_type": "stream",
     "text": [
      "The longest string is: elderberry\n"
     ]
    }
   ],
   "source": [
    "# List of strings\n",
    "string_list = [\"apple\", \"banana\", \"cherry\", \"date\", \"elderberry\"]\n",
    "\n",
    "# Find the longest string in the list\n",
    "longest_string = max(string_list, key=len)\n",
    "\n",
    "# Print the longest string\n",
    "print(\"The longest string is:\", longest_string)\n"
   ]
  },
  {
   "cell_type": "code",
   "execution_count": 48,
   "id": "a1568686-98af-460e-a889-cab11d531c4b",
   "metadata": {},
   "outputs": [],
   "source": [
    "#47. Find the shortest string in a list of strings."
   ]
  },
  {
   "cell_type": "code",
   "execution_count": 49,
   "id": "9c428f4e-94a0-4691-b79c-7754e6df87cd",
   "metadata": {},
   "outputs": [
    {
     "name": "stdout",
     "output_type": "stream",
     "text": [
      "The shortest string is: date\n"
     ]
    }
   ],
   "source": [
    "# List of strings\n",
    "string_list = [\"apple\", \"banana\", \"cherry\", \"date\", \"elderberry\"]\n",
    "\n",
    "# Find the shortest string in the list\n",
    "shortest_string = min(string_list, key=len)\n",
    "\n",
    "# Print the shortest string\n",
    "print(\"The shortest string is:\", shortest_string)\n"
   ]
  },
  {
   "cell_type": "code",
   "execution_count": 50,
   "id": "763ef256-16ad-4dea-b019-d2f6253647b0",
   "metadata": {},
   "outputs": [],
   "source": [
    "#48. Create a list of the first `n` triangular numbers."
   ]
  },
  {
   "cell_type": "code",
   "execution_count": 51,
   "id": "af46cda6-89aa-4558-9cf5-5f3717e27f4a",
   "metadata": {},
   "outputs": [
    {
     "name": "stdout",
     "output_type": "stream",
     "text": [
      "[1, 3, 6, 10, 15]\n"
     ]
    }
   ],
   "source": [
    "# Function to generate the first n triangular numbers\n",
    "def generate_triangular_numbers(n):\n",
    "    triangular_numbers = []\n",
    "    sum = 0\n",
    "    for i in range(1, n + 1):\n",
    "        sum += i\n",
    "        triangular_numbers.append(sum)\n",
    "    return triangular_numbers\n",
    "\n",
    "# Example: Create a list of the first 5 triangular numbers\n",
    "n = 5\n",
    "triangular_list = generate_triangular_numbers(n)\n",
    "\n",
    "# Print the list of triangular numbers\n",
    "print(triangular_list)\n"
   ]
  },
  {
   "cell_type": "code",
   "execution_count": 52,
   "id": "4938c840-762f-4f63-8901-b3cecfefcc57",
   "metadata": {},
   "outputs": [],
   "source": [
    "#49. Check if a list contains another list as a subsequence."
   ]
  },
  {
   "cell_type": "code",
   "execution_count": 53,
   "id": "68dcd3b4-bd3c-4d34-8bba-e2cab222ce5e",
   "metadata": {},
   "outputs": [
    {
     "name": "stdout",
     "output_type": "stream",
     "text": [
      "list1 contains list2 as a subsequence.\n"
     ]
    }
   ],
   "source": [
    "# Function to check if list1 contains list2 as a subsequence\n",
    "def is_subsequence(list1, list2):\n",
    "    # Initialize indices for list1 and list2\n",
    "    i, j = 0, 0\n",
    "\n",
    "    # Iterate through list1 and list2\n",
    "    while i < len(list1) and j < len(list2):\n",
    "        # If the current elements match, move to the next element in list2\n",
    "        if list1[i] == list2[j]:\n",
    "            j += 1\n",
    "        # Move to the next element in list1\n",
    "        i += 1\n",
    "\n",
    "    # If j reaches the length of list2, all elements of list2 were found in list1\n",
    "    return j == len(list2)\n",
    "\n",
    "# Example lists\n",
    "list1 = [1, 2, 3, 4, 5, 6]\n",
    "list2 = [2, 4, 6]\n",
    "\n",
    "# Check if list1 contains list2 as a subsequence\n",
    "result = is_subsequence(list1, list2)\n",
    "\n",
    "# Print the result\n",
    "if result:\n",
    "    print(\"list1 contains list2 as a subsequence.\")\n",
    "else:\n",
    "    print(\"list1 does not contain list2 as a subsequence.\")\n"
   ]
  },
  {
   "cell_type": "code",
   "execution_count": 54,
   "id": "0d4231ee-5bf0-45f8-99e6-63d80b8def0c",
   "metadata": {},
   "outputs": [],
   "source": [
    "#50. Swap two elements in a list by their indices."
   ]
  },
  {
   "cell_type": "code",
   "execution_count": 55,
   "id": "64558ffb-ffb1-473c-aa0a-6d5e1cc777aa",
   "metadata": {},
   "outputs": [
    {
     "name": "stdout",
     "output_type": "stream",
     "text": [
      "[1, 4, 3, 2, 5]\n"
     ]
    }
   ],
   "source": [
    "# Create a list\n",
    "my_list = [1, 2, 3, 4, 5]\n",
    "\n",
    "# Define the indices of the elements to swap\n",
    "index1 = 1  # Index of the first element to swap\n",
    "index2 = 3  # Index of the second element to swap\n",
    "\n",
    "# Perform the swap\n",
    "my_list[index1], my_list[index2] = my_list[index2], my_list[index1]\n",
    "\n",
    "# Print the modified list\n",
    "print(my_list)\n"
   ]
  },
  {
   "cell_type": "markdown",
   "id": "e02c0600-6968-43a8-a2ce-4f88aff0b72c",
   "metadata": {},
   "source": [
    "Tuple Based Problem"
   ]
  },
  {
   "cell_type": "code",
   "execution_count": 56,
   "id": "cbd02c30-faaa-49ed-af22-cd50a44371d5",
   "metadata": {},
   "outputs": [],
   "source": [
    "#1. Create a tuple with integers from 1 to 5."
   ]
  },
  {
   "cell_type": "code",
   "execution_count": 57,
   "id": "0179b154-226c-4d12-8a43-10367cf5be5a",
   "metadata": {},
   "outputs": [
    {
     "name": "stdout",
     "output_type": "stream",
     "text": [
      "(1, 2, 3, 4, 5)\n"
     ]
    }
   ],
   "source": [
    "# Create a tuple with integers from 1 to 5\n",
    "my_tuple = (1, 2, 3, 4, 5)\n",
    "\n",
    "# Print the tuple\n",
    "print(my_tuple)\n"
   ]
  },
  {
   "cell_type": "code",
   "execution_count": 58,
   "id": "0d6684f3-99d8-43f1-8cf1-3418f5df3d56",
   "metadata": {},
   "outputs": [],
   "source": [
    "#2. Access the third element of a tuple."
   ]
  },
  {
   "cell_type": "code",
   "execution_count": 59,
   "id": "da664136-c726-49c9-8f7e-d87b40b00836",
   "metadata": {},
   "outputs": [
    {
     "name": "stdout",
     "output_type": "stream",
     "text": [
      "The third element is: 3\n"
     ]
    }
   ],
   "source": [
    "# Create a tuple\n",
    "my_tuple = (1, 2, 3, 4, 5)\n",
    "\n",
    "# Access the third element (index 2)\n",
    "third_element = my_tuple[2]\n",
    "\n",
    "# Print the third element\n",
    "print(\"The third element is:\", third_element)\n"
   ]
  },
  {
   "cell_type": "code",
   "execution_count": 60,
   "id": "63bc9e13-c89d-431d-868e-0cd552e978a7",
   "metadata": {},
   "outputs": [],
   "source": [
    "#3. Find the length of a tuple without using the `len()` function."
   ]
  },
  {
   "cell_type": "code",
   "execution_count": 61,
   "id": "069f6bd1-19b2-4a42-a2e6-845287da21e8",
   "metadata": {},
   "outputs": [
    {
     "name": "stdout",
     "output_type": "stream",
     "text": [
      "The length of the tuple is: 5\n"
     ]
    }
   ],
   "source": [
    "# Create a tuple\n",
    "my_tuple = (1, 2, 3, 4, 5)\n",
    "\n",
    "# Initialize a count variable\n",
    "count = 0\n",
    "\n",
    "# Iterate through the tuple and count elements\n",
    "for _ in my_tuple:\n",
    "    count += 1\n",
    "\n",
    "# Print the length of the tuple\n",
    "print(\"The length of the tuple is:\", count)\n"
   ]
  },
  {
   "cell_type": "code",
   "execution_count": 62,
   "id": "bf5371ea-0ddf-47d6-8f6a-2a48532afc9b",
   "metadata": {},
   "outputs": [],
   "source": [
    "#4. Count the occurrences of an element in a tuple."
   ]
  },
  {
   "cell_type": "code",
   "execution_count": 63,
   "id": "a72c43f3-c4ea-4522-9d68-e6227560e333",
   "metadata": {},
   "outputs": [
    {
     "name": "stdout",
     "output_type": "stream",
     "text": [
      "The element 2 appears 4 times in the tuple.\n"
     ]
    }
   ],
   "source": [
    "# Create a tuple\n",
    "my_tuple = (1, 2, 2, 3, 4, 2, 5, 2)\n",
    "\n",
    "# Count the occurrences of a specific element (e.g., 2)\n",
    "element_to_count = 2\n",
    "count = my_tuple.count(element_to_count)\n",
    "\n",
    "# Print the count\n",
    "print(f\"The element {element_to_count} appears {count} times in the tuple.\")\n"
   ]
  },
  {
   "cell_type": "code",
   "execution_count": 64,
   "id": "7d41b9ba-ebf1-4c4c-8e77-b167c4c0ee0d",
   "metadata": {},
   "outputs": [],
   "source": [
    "#5. Find the index of the first occurrence of an element in a tuple."
   ]
  },
  {
   "cell_type": "code",
   "execution_count": 65,
   "id": "13758d2c-39a4-4dfe-9ace-3eb62e067f37",
   "metadata": {},
   "outputs": [
    {
     "name": "stdout",
     "output_type": "stream",
     "text": [
      "The first occurrence of 2 is at index 1.\n"
     ]
    }
   ],
   "source": [
    "# Create a tuple\n",
    "my_tuple = (1, 2, 3, 4, 2, 5)\n",
    "\n",
    "# Find the index of the first occurrence of an element (e.g., 2)\n",
    "element_to_find = 2\n",
    "\n",
    "try:\n",
    "    index = my_tuple.index(element_to_find)\n",
    "    print(f\"The first occurrence of {element_to_find} is at index {index}.\")\n",
    "except ValueError:\n",
    "    print(f\"{element_to_find} is not in the tuple.\")\n"
   ]
  },
  {
   "cell_type": "code",
   "execution_count": 66,
   "id": "ea40191b-9a5f-4f6c-a549-b5a4dd3ba601",
   "metadata": {},
   "outputs": [],
   "source": [
    "#6. Check if an element exists in a tuple."
   ]
  },
  {
   "cell_type": "code",
   "execution_count": 67,
   "id": "7119e69f-7099-4d81-b7bb-1db5d2ba0b79",
   "metadata": {},
   "outputs": [
    {
     "name": "stdout",
     "output_type": "stream",
     "text": [
      "3 exists in the tuple.\n"
     ]
    }
   ],
   "source": [
    "# Create a tuple\n",
    "my_tuple = (1, 2, 3, 4, 5)\n",
    "\n",
    "# Element to check for existence\n",
    "element_to_check = 3\n",
    "\n",
    "# Check if the element exists in the tuple\n",
    "if element_to_check in my_tuple:\n",
    "    print(f\"{element_to_check} exists in the tuple.\")\n",
    "else:\n",
    "    print(f\"{element_to_check} does not exist in the tuple.\")\n"
   ]
  },
  {
   "cell_type": "code",
   "execution_count": 68,
   "id": "926c4fd9-43d7-45c6-865a-6c92adc27e7e",
   "metadata": {},
   "outputs": [],
   "source": [
    "#7. Convert a tuple to a list."
   ]
  },
  {
   "cell_type": "code",
   "execution_count": 69,
   "id": "d7a24280-82cd-4f3c-adbc-7dd4dfe87def",
   "metadata": {},
   "outputs": [
    {
     "name": "stdout",
     "output_type": "stream",
     "text": [
      "[1, 2, 3, 4, 5]\n"
     ]
    }
   ],
   "source": [
    "# Create a tuple\n",
    "my_tuple = (1, 2, 3, 4, 5)\n",
    "\n",
    "# Convert the tuple to a list\n",
    "my_list = list(my_tuple)\n",
    "\n",
    "# Print the resulting list\n",
    "print(my_list)\n"
   ]
  },
  {
   "cell_type": "code",
   "execution_count": 70,
   "id": "90d930a6-7733-4bde-b532-cef47307d373",
   "metadata": {},
   "outputs": [],
   "source": [
    "#8. Convert a list to a tuple."
   ]
  },
  {
   "cell_type": "code",
   "execution_count": 71,
   "id": "13eaa694-1689-4c44-ab29-ea0f49ae263e",
   "metadata": {},
   "outputs": [
    {
     "name": "stdout",
     "output_type": "stream",
     "text": [
      "(1, 2, 3, 4, 5)\n"
     ]
    }
   ],
   "source": [
    "# Create a list\n",
    "my_list = [1, 2, 3, 4, 5]\n",
    "\n",
    "# Convert the list to a tuple\n",
    "my_tuple = tuple(my_list)\n",
    "\n",
    "# Print the resulting tuple\n",
    "print(my_tuple)\n"
   ]
  },
  {
   "cell_type": "code",
   "execution_count": 72,
   "id": "dabca4be-3965-4907-9942-0e3f61614fcc",
   "metadata": {},
   "outputs": [],
   "source": [
    "#9. Unpack the elements of a tuple into variables."
   ]
  },
  {
   "cell_type": "code",
   "execution_count": 73,
   "id": "133eeaf1-c6e8-4864-996d-9912c4904fca",
   "metadata": {},
   "outputs": [
    {
     "name": "stdout",
     "output_type": "stream",
     "text": [
      "x: 1\n",
      "y: 2\n",
      "z: 3\n"
     ]
    }
   ],
   "source": [
    "# Create a tuple\n",
    "my_tuple = (1, 2, 3)\n",
    "\n",
    "# Unpack the elements into variables\n",
    "x, y, z = my_tuple\n",
    "\n",
    "# Print the variables\n",
    "print(\"x:\", x)\n",
    "print(\"y:\", y)\n",
    "print(\"z:\", z)\n"
   ]
  },
  {
   "cell_type": "code",
   "execution_count": 74,
   "id": "e8155989-7b92-4c97-8dd5-fc2d727b2094",
   "metadata": {},
   "outputs": [],
   "source": [
    "#10. Create a tuple of even numbers from 1 to 10."
   ]
  },
  {
   "cell_type": "code",
   "execution_count": 75,
   "id": "ec53bb3a-d405-4f81-b8cc-e2a3329ca726",
   "metadata": {},
   "outputs": [
    {
     "name": "stdout",
     "output_type": "stream",
     "text": [
      "(2, 4, 6, 8, 10)\n"
     ]
    }
   ],
   "source": [
    "# Create a tuple of even numbers from 1 to 10\n",
    "even_numbers_tuple = tuple(x for x in range(2, 11, 2))\n",
    "\n",
    "# Print the tuple\n",
    "print(even_numbers_tuple)\n"
   ]
  },
  {
   "cell_type": "code",
   "execution_count": 76,
   "id": "5d2eb49d-a726-44a1-be58-c31ec1b16e4c",
   "metadata": {},
   "outputs": [],
   "source": [
    "#11. Create a tuple of odd numbers from 1 to 10."
   ]
  },
  {
   "cell_type": "code",
   "execution_count": 77,
   "id": "de9e2996-1244-476b-b9e5-85b28329a1a5",
   "metadata": {},
   "outputs": [
    {
     "name": "stdout",
     "output_type": "stream",
     "text": [
      "(1, 3, 5, 7, 9)\n"
     ]
    }
   ],
   "source": [
    "# Create a tuple of odd numbers from 1 to 10\n",
    "odd_numbers_tuple = tuple(x for x in range(1, 11) if x % 2 != 0)\n",
    "\n",
    "# Print the tuple\n",
    "print(odd_numbers_tuple)\n"
   ]
  },
  {
   "cell_type": "code",
   "execution_count": 78,
   "id": "f5940c4d-a125-4b62-8ee2-d32aad9dc302",
   "metadata": {},
   "outputs": [],
   "source": [
    "#12. Concatenate two tuples."
   ]
  },
  {
   "cell_type": "code",
   "execution_count": 79,
   "id": "0e76e772-e35b-40a7-bd8e-7063428120e9",
   "metadata": {},
   "outputs": [
    {
     "name": "stdout",
     "output_type": "stream",
     "text": [
      "(1, 2, 3, 4, 5, 6)\n"
     ]
    }
   ],
   "source": [
    "# Create two tuples\n",
    "tuple1 = (1, 2, 3)\n",
    "tuple2 = (4, 5, 6)\n",
    "\n",
    "# Concatenate the two tuples\n",
    "concatenated_tuple = tuple1 + tuple2\n",
    "\n",
    "# Print the concatenated tuple\n",
    "print(concatenated_tuple)\n"
   ]
  },
  {
   "cell_type": "code",
   "execution_count": 80,
   "id": "2fc52c21-e760-430b-97b7-3ed86bf4f90f",
   "metadata": {},
   "outputs": [],
   "source": [
    "#13. Repeat a tuple three times."
   ]
  },
  {
   "cell_type": "code",
   "execution_count": 81,
   "id": "8be20f51-d61f-4bdb-ad93-4430578937f1",
   "metadata": {},
   "outputs": [
    {
     "name": "stdout",
     "output_type": "stream",
     "text": [
      "(1, 2, 3, 1, 2, 3, 1, 2, 3)\n"
     ]
    }
   ],
   "source": [
    "# Create a tuple\n",
    "my_tuple = (1, 2, 3)\n",
    "\n",
    "# Repeat the tuple three times\n",
    "repeated_tuple = my_tuple * 3\n",
    "\n",
    "# Print the repeated tuple\n",
    "print(repeated_tuple)\n"
   ]
  },
  {
   "cell_type": "code",
   "execution_count": 82,
   "id": "c3a9acd4-4279-48f3-9366-810e5fd383e3",
   "metadata": {},
   "outputs": [],
   "source": [
    "#14. Check if a tuple is empty."
   ]
  },
  {
   "cell_type": "code",
   "execution_count": 83,
   "id": "89c92097-a1a1-48b8-ba4a-0f5db794618a",
   "metadata": {},
   "outputs": [
    {
     "name": "stdout",
     "output_type": "stream",
     "text": [
      "The tuple is empty.\n"
     ]
    }
   ],
   "source": [
    "# Create an empty tuple\n",
    "empty_tuple = ()\n",
    "\n",
    "# Check if the tuple is empty\n",
    "if not empty_tuple:\n",
    "    print(\"The tuple is empty.\")\n",
    "else:\n",
    "    print(\"The tuple is not empty.\")\n"
   ]
  },
  {
   "cell_type": "code",
   "execution_count": 84,
   "id": "2b922971-d0ae-4b11-98ac-82c97c3aa6d4",
   "metadata": {},
   "outputs": [],
   "source": [
    "#15. Create a nested tuple."
   ]
  },
  {
   "cell_type": "code",
   "execution_count": 85,
   "id": "84a182ca-2431-4351-9854-98681cdfcd98",
   "metadata": {},
   "outputs": [
    {
     "name": "stdout",
     "output_type": "stream",
     "text": [
      "((1, 2, 3), ('a', 'b', 'c'))\n"
     ]
    }
   ],
   "source": [
    "# Create a nested tuple\n",
    "nested_tuple = ((1, 2, 3), (\"a\", \"b\", \"c\"))\n",
    "\n",
    "# Print the nested tuple\n",
    "print(nested_tuple)\n"
   ]
  },
  {
   "cell_type": "code",
   "execution_count": 86,
   "id": "a9715936-715c-4a04-b342-dfc5856a9314",
   "metadata": {},
   "outputs": [],
   "source": [
    "#16. Access the first element of a nested tuple."
   ]
  },
  {
   "cell_type": "code",
   "execution_count": 87,
   "id": "1324cda5-98fb-407d-9c92-8ab92d15e530",
   "metadata": {},
   "outputs": [
    {
     "name": "stdout",
     "output_type": "stream",
     "text": [
      "The first element is: (1, 2, 3)\n"
     ]
    }
   ],
   "source": [
    "# Create a nested tuple\n",
    "nested_tuple = ((1, 2, 3), (\"a\", \"b\", \"c\"))\n",
    "\n",
    "# Access the first element of the nested tuple\n",
    "first_element = nested_tuple[0]\n",
    "\n",
    "# Print the first element\n",
    "print(\"The first element is:\", first_element)\n"
   ]
  },
  {
   "cell_type": "code",
   "execution_count": 88,
   "id": "b9d03dcf-4bad-4247-8a12-af5d697e5f31",
   "metadata": {},
   "outputs": [],
   "source": [
    "#17. Create a tuple with a single element."
   ]
  },
  {
   "cell_type": "code",
   "execution_count": 89,
   "id": "931601a6-e245-46a6-83d0-1f4b1e9ee3d5",
   "metadata": {},
   "outputs": [
    {
     "name": "stdout",
     "output_type": "stream",
     "text": [
      "(42,)\n"
     ]
    }
   ],
   "source": [
    "# Create a tuple with a single element\n",
    "single_element_tuple = (42,)\n",
    "\n",
    "# Print the tuple\n",
    "print(single_element_tuple)\n"
   ]
  },
  {
   "cell_type": "code",
   "execution_count": 90,
   "id": "ae57c45b-ced4-453f-8699-dbc8ea3a449e",
   "metadata": {},
   "outputs": [],
   "source": [
    "#18. Compare two tuples."
   ]
  },
  {
   "cell_type": "code",
   "execution_count": 91,
   "id": "4bfd19a0-d544-4c97-80f3-6e4b5385faaa",
   "metadata": {},
   "outputs": [
    {
     "name": "stdout",
     "output_type": "stream",
     "text": [
      "tuple1 and tuple2 are equal\n",
      "tuple1 and (4, 5, 6) are not equal\n",
      "tuple1 is greater than (0, 1, 2)\n",
      "tuple1 is less than or equal to (1, 2, 3)\n"
     ]
    }
   ],
   "source": [
    "# Define two tuples\n",
    "tuple1 = (1, 2, 3)\n",
    "tuple2 = (1, 2, 3)\n",
    "\n",
    "# Compare for equality\n",
    "if tuple1 == tuple2:\n",
    "    print(\"tuple1 and tuple2 are equal\")\n",
    "\n",
    "# Compare for inequality\n",
    "if tuple1 != (4, 5, 6):\n",
    "    print(\"tuple1 and (4, 5, 6) are not equal\")\n",
    "\n",
    "# Compare for greater than\n",
    "if tuple1 > (0, 1, 2):\n",
    "    print(\"tuple1 is greater than (0, 1, 2)\")\n",
    "\n",
    "# Compare for less than or equal to\n",
    "if tuple1 <= (1, 2, 3):\n",
    "    print(\"tuple1 is less than or equal to (1, 2, 3)\")\n"
   ]
  },
  {
   "cell_type": "code",
   "execution_count": 92,
   "id": "64150c57-e71b-40c3-a5a0-36a22e681a03",
   "metadata": {},
   "outputs": [],
   "source": [
    "#19. Delete a tuple."
   ]
  },
  {
   "cell_type": "code",
   "execution_count": 94,
   "id": "30c1f875-dbf8-49eb-b7be-1256d8887146",
   "metadata": {},
   "outputs": [
    {
     "ename": "NameError",
     "evalue": "name 'my_tuple' is not defined",
     "output_type": "error",
     "traceback": [
      "\u001b[0;31m---------------------------------------------------------------------------\u001b[0m",
      "\u001b[0;31mNameError\u001b[0m                                 Traceback (most recent call last)",
      "Cell \u001b[0;32mIn[94], line 8\u001b[0m\n\u001b[1;32m      5\u001b[0m \u001b[38;5;28;01mdel\u001b[39;00m my_tuple\n\u001b[1;32m      7\u001b[0m \u001b[38;5;66;03m# Attempt to print the tuple (will result in an error)\u001b[39;00m\n\u001b[0;32m----> 8\u001b[0m \u001b[38;5;28mprint\u001b[39m(\u001b[43mmy_tuple\u001b[49m)\n",
      "\u001b[0;31mNameError\u001b[0m: name 'my_tuple' is not defined"
     ]
    }
   ],
   "source": [
    "# Create a tuple\n",
    "my_tuple = (1, 2, 3, 4, 5)\n",
    "\n",
    "# Delete the tuple\n",
    "del my_tuple\n",
    "\n",
    "# Attempt to print the tuple (will result in an error)\n",
    "print(my_tuple)\n"
   ]
  },
  {
   "cell_type": "code",
   "execution_count": 95,
   "id": "86ebe8e2-3065-44ca-b565-75ab2dcf8507",
   "metadata": {},
   "outputs": [],
   "source": [
    "#20. Slice a tuple."
   ]
  },
  {
   "cell_type": "code",
   "execution_count": 96,
   "id": "6019af00-2974-45f9-8e44-4d70a66c7bc1",
   "metadata": {},
   "outputs": [
    {
     "name": "stdout",
     "output_type": "stream",
     "text": [
      "(2, 3)\n"
     ]
    }
   ],
   "source": [
    "# Create a tuple\n",
    "my_tuple = (1, 2, 3, 4, 5)\n",
    "\n",
    "# Slice the tuple to get a portion of it\n",
    "# Syntax: tuple[start:stop:step]\n",
    "\n",
    "# Get elements from index 1 to 3 (exclusive)\n",
    "slice_result = my_tuple[1:3]\n",
    "\n",
    "# Print the sliced portion\n",
    "print(slice_result)\n"
   ]
  },
  {
   "cell_type": "code",
   "execution_count": 97,
   "id": "3f16023f-ef56-4a85-a915-e7757e05e3f1",
   "metadata": {},
   "outputs": [],
   "source": [
    "#21. Find the maximum value in a tuple."
   ]
  },
  {
   "cell_type": "code",
   "execution_count": 98,
   "id": "518539cc-9b41-43a5-9d33-13e0077e65dc",
   "metadata": {},
   "outputs": [
    {
     "name": "stdout",
     "output_type": "stream",
     "text": [
      "The maximum value in the tuple is: 17\n"
     ]
    }
   ],
   "source": [
    "# Create a tuple\n",
    "my_tuple = (5, 12, 9, 3, 17, 8)\n",
    "\n",
    "# Find the maximum value in the tuple\n",
    "max_value = max(my_tuple)\n",
    "\n",
    "# Print the maximum value\n",
    "print(\"The maximum value in the tuple is:\", max_value)\n"
   ]
  },
  {
   "cell_type": "code",
   "execution_count": 99,
   "id": "fb16ef92-ffba-4199-9850-c2df5bbd3926",
   "metadata": {},
   "outputs": [],
   "source": [
    "#22. Find the minimum value in a tuple."
   ]
  },
  {
   "cell_type": "code",
   "execution_count": 100,
   "id": "38ed4250-8de1-44d3-8988-c722a15cc42a",
   "metadata": {},
   "outputs": [
    {
     "name": "stdout",
     "output_type": "stream",
     "text": [
      "The minimum value in the tuple is: 3\n"
     ]
    }
   ],
   "source": [
    "# Create a tuple\n",
    "my_tuple = (5, 12, 9, 3, 17, 8)\n",
    "\n",
    "# Find the minimum value in the tuple\n",
    "min_value = min(my_tuple)\n",
    "\n",
    "# Print the minimum value\n",
    "print(\"The minimum value in the tuple is:\", min_value)\n"
   ]
  },
  {
   "cell_type": "code",
   "execution_count": 101,
   "id": "bf628039-a68c-4360-ad98-521f84e96465",
   "metadata": {},
   "outputs": [],
   "source": [
    "#23. Convert a string to a tuple of characters."
   ]
  },
  {
   "cell_type": "code",
   "execution_count": 102,
   "id": "eaa3c0ec-32d8-44da-a36b-5e4d767e215b",
   "metadata": {},
   "outputs": [
    {
     "name": "stdout",
     "output_type": "stream",
     "text": [
      "('H', 'e', 'l', 'l', 'o', ',', ' ', 'W', 'o', 'r', 'l', 'd', '!')\n"
     ]
    }
   ],
   "source": [
    "# Input string\n",
    "input_string = \"Hello, World!\"\n",
    "\n",
    "# Using a loop to convert the string to a tuple of characters\n",
    "char_tuple = tuple(char for char in input_string)\n",
    "\n",
    "# Print the tuple of characters\n",
    "print(char_tuple)\n"
   ]
  },
  {
   "cell_type": "code",
   "execution_count": 103,
   "id": "5f2a1894-6d3c-4553-a169-e695f2c997a0",
   "metadata": {},
   "outputs": [],
   "source": [
    "#24. Convert a tuple of characters to a string."
   ]
  },
  {
   "cell_type": "code",
   "execution_count": 104,
   "id": "94c43090-56b5-479b-b432-d03b5925dba4",
   "metadata": {},
   "outputs": [
    {
     "name": "stdout",
     "output_type": "stream",
     "text": [
      "Hello, World!\n"
     ]
    }
   ],
   "source": [
    "# Create a tuple of characters\n",
    "char_tuple = ('H', 'e', 'l', 'l', 'o', ',', ' ', 'W', 'o', 'r', 'l', 'd', '!')\n",
    "\n",
    "# Convert the tuple of characters to a string\n",
    "result_string = ''.join(char_tuple)\n",
    "\n",
    "# Print the resulting string\n",
    "print(result_string)\n"
   ]
  },
  {
   "cell_type": "code",
   "execution_count": 105,
   "id": "2a1e1369-2b80-412c-b45a-8d8165b49195",
   "metadata": {},
   "outputs": [],
   "source": [
    "#25. Create a tuple from multiple data types."
   ]
  },
  {
   "cell_type": "code",
   "execution_count": 106,
   "id": "bd3e4d36-6231-4701-a4bc-1a67549c88c4",
   "metadata": {},
   "outputs": [
    {
     "name": "stdout",
     "output_type": "stream",
     "text": [
      "(1, 'Hello', 3.14, True)\n"
     ]
    }
   ],
   "source": [
    "# Create a tuple with elements of different data types\n",
    "mixed_tuple = (1, \"Hello\", 3.14, True)\n",
    "\n",
    "# Print the mixed tuple\n",
    "print(mixed_tuple)\n"
   ]
  },
  {
   "cell_type": "code",
   "execution_count": 107,
   "id": "e9a40e82-c7a3-4281-a2de-590b736ac232",
   "metadata": {},
   "outputs": [],
   "source": [
    "#26. Check if two tuples are identical."
   ]
  },
  {
   "cell_type": "code",
   "execution_count": 108,
   "id": "6e66a41b-3cf9-49dc-88ba-be3d4651eea6",
   "metadata": {},
   "outputs": [
    {
     "name": "stdout",
     "output_type": "stream",
     "text": [
      "The two tuples are identical.\n"
     ]
    }
   ],
   "source": [
    "# Define two tuples\n",
    "tuple1 = (1, 2, 3)\n",
    "tuple2 = (1, 2, 3)\n",
    "\n",
    "# Check if the two tuples are identical\n",
    "if tuple1 == tuple2:\n",
    "    print(\"The two tuples are identical.\")\n",
    "else:\n",
    "    print(\"The two tuples are not identical.\")\n"
   ]
  },
  {
   "cell_type": "code",
   "execution_count": 109,
   "id": "62f4e1db-e3bc-4397-9c08-c630f3842baf",
   "metadata": {},
   "outputs": [],
   "source": [
    "#27. Sort the elements of a tuple."
   ]
  },
  {
   "cell_type": "code",
   "execution_count": 110,
   "id": "11695e26-c444-4370-b4ee-2b539368e1b4",
   "metadata": {},
   "outputs": [
    {
     "name": "stdout",
     "output_type": "stream",
     "text": [
      "(1, 2, 5, 8, 9)\n"
     ]
    }
   ],
   "source": [
    "# Create a tuple\n",
    "my_tuple = (5, 2, 9, 1, 8)\n",
    "\n",
    "# Convert the tuple to a list\n",
    "my_list = list(my_tuple)\n",
    "\n",
    "# Sort the list\n",
    "my_list.sort()\n",
    "\n",
    "# Convert the sorted list back to a tuple (if needed)\n",
    "sorted_tuple = tuple(my_list)\n",
    "\n",
    "# Print the sorted tuple\n",
    "print(sorted_tuple)\n"
   ]
  },
  {
   "cell_type": "code",
   "execution_count": 111,
   "id": "34972a65-4e76-4b64-90cf-866c28d4165c",
   "metadata": {},
   "outputs": [],
   "source": [
    "#28. Convert a tuple of integers to a tuple of strings."
   ]
  },
  {
   "cell_type": "code",
   "execution_count": 112,
   "id": "b0977812-ecd1-4977-b520-26ff39b9de69",
   "metadata": {},
   "outputs": [
    {
     "name": "stdout",
     "output_type": "stream",
     "text": [
      "('1', '2', '3', '4', '5')\n"
     ]
    }
   ],
   "source": [
    "# Create a tuple of integers\n",
    "int_tuple = (1, 2, 3, 4, 5)\n",
    "\n",
    "# Convert the tuple of integers to a tuple of strings\n",
    "str_tuple = tuple(str(num) for num in int_tuple)\n",
    "\n",
    "# Print the tuple of strings\n",
    "print(str_tuple)\n"
   ]
  },
  {
   "cell_type": "code",
   "execution_count": 113,
   "id": "93ede652-038e-48de-8c0a-8e3b929b91ee",
   "metadata": {},
   "outputs": [],
   "source": [
    "#29. Convert a tuple of strings to a tuple of integers."
   ]
  },
  {
   "cell_type": "code",
   "execution_count": 114,
   "id": "8395b606-3fbd-4706-87ea-5f933b6cef4a",
   "metadata": {},
   "outputs": [
    {
     "name": "stdout",
     "output_type": "stream",
     "text": [
      "(1, 2, 3, 4, 5)\n"
     ]
    }
   ],
   "source": [
    "# Create a tuple of strings\n",
    "str_tuple = ('1', '2', '3', '4', '5')\n",
    "\n",
    "# Convert the tuple of strings to a tuple of integers\n",
    "int_tuple = tuple(int(s) for s in str_tuple)\n",
    "\n",
    "# Print the tuple of integers\n",
    "print(int_tuple)\n"
   ]
  },
  {
   "cell_type": "code",
   "execution_count": 115,
   "id": "9a94940a-273e-4ccb-93b5-3b19f2d15125",
   "metadata": {},
   "outputs": [],
   "source": [
    "#30. Merge two tuples."
   ]
  },
  {
   "cell_type": "code",
   "execution_count": 116,
   "id": "d47f7e72-f5db-44a5-b80a-09c230ada7df",
   "metadata": {},
   "outputs": [
    {
     "name": "stdout",
     "output_type": "stream",
     "text": [
      "(1, 2, 3, 4, 5, 6)\n"
     ]
    }
   ],
   "source": [
    "# Define two tuples\n",
    "tuple1 = (1, 2, 3)\n",
    "tuple2 = (4, 5, 6)\n",
    "\n",
    "# Merge (concatenate) the two tuples\n",
    "merged_tuple = tuple1 + tuple2\n",
    "\n",
    "# Print the merged tuple\n",
    "print(merged_tuple)\n"
   ]
  },
  {
   "cell_type": "code",
   "execution_count": 117,
   "id": "ce401c69-f08d-495e-9f18-128f38a8a1f8",
   "metadata": {},
   "outputs": [],
   "source": [
    "#31. Flatten a nested tuple."
   ]
  },
  {
   "cell_type": "code",
   "execution_count": 118,
   "id": "c178f3c5-d32f-459a-88fd-2b7a22ddacac",
   "metadata": {},
   "outputs": [
    {
     "name": "stdout",
     "output_type": "stream",
     "text": [
      "(1, 2, 3, 4, 5, 6, 7, 8)\n"
     ]
    }
   ],
   "source": [
    "# Create a nested tuple\n",
    "nested_tuple = ((1, 2, 3), (4, 5), (6, 7, 8))\n",
    "\n",
    "# Flatten the nested tuple into a single-level tuple\n",
    "flattened_tuple = tuple(item for sublist in nested_tuple for item in sublist)\n",
    "\n",
    "# Print the flattened tuple\n",
    "print(flattened_tuple)\n"
   ]
  },
  {
   "cell_type": "code",
   "execution_count": 119,
   "id": "988b88ce-dcc2-4d3e-b1b0-9d957a169356",
   "metadata": {},
   "outputs": [],
   "source": [
    "#32. Create a tuple of the first 5 prime numbers."
   ]
  },
  {
   "cell_type": "code",
   "execution_count": 120,
   "id": "fa9c76f9-01df-4f56-88c3-7bb1516bcae1",
   "metadata": {},
   "outputs": [
    {
     "name": "stdout",
     "output_type": "stream",
     "text": [
      "(2, 3, 5, 7, 11)\n"
     ]
    }
   ],
   "source": [
    "# Create a tuple of the first 5 prime numbers\n",
    "prime_numbers = (2, 3, 5, 7, 11)\n",
    "\n",
    "# Print the tuple of prime numbers\n",
    "print(prime_numbers)\n"
   ]
  },
  {
   "cell_type": "code",
   "execution_count": 121,
   "id": "b08f0d08-ee55-4aef-8cc2-488e173d6b0e",
   "metadata": {},
   "outputs": [],
   "source": [
    "#33. Check if a tuple is a palindrome."
   ]
  },
  {
   "cell_type": "code",
   "execution_count": 122,
   "id": "0b91edd5-a314-4de8-b21b-300935c146a3",
   "metadata": {},
   "outputs": [
    {
     "name": "stdout",
     "output_type": "stream",
     "text": [
      "The tuple is a palindrome.\n"
     ]
    }
   ],
   "source": [
    "# Define a tuple\n",
    "my_tuple = (1, 2, 3, 2, 1)\n",
    "\n",
    "# Check if the tuple is a palindrome\n",
    "is_palindrome = my_tuple == my_tuple[::-1]\n",
    "\n",
    "# Print the result\n",
    "if is_palindrome:\n",
    "    print(\"The tuple is a palindrome.\")\n",
    "else:\n",
    "    print(\"The tuple is not a palindrome.\")\n"
   ]
  },
  {
   "cell_type": "code",
   "execution_count": 123,
   "id": "a88e9323-5d1a-4294-a1e0-6d2e69e8cf6d",
   "metadata": {},
   "outputs": [],
   "source": [
    "#34. Create a tuple of squares of numbers from 1 to 5."
   ]
  },
  {
   "cell_type": "code",
   "execution_count": 124,
   "id": "442622a6-7b23-4f12-b58a-5bd21ba22578",
   "metadata": {},
   "outputs": [
    {
     "name": "stdout",
     "output_type": "stream",
     "text": [
      "(1, 4, 9, 16, 25)\n"
     ]
    }
   ],
   "source": [
    "# Create a tuple of squares of numbers from 1 to 5\n",
    "squares_tuple = tuple(x ** 2 for x in range(1, 6))\n",
    "\n",
    "# Print the tuple of squares\n",
    "print(squares_tuple)\n"
   ]
  },
  {
   "cell_type": "code",
   "execution_count": 125,
   "id": "81047f1f-2328-4f85-9c31-ddc66053f4ac",
   "metadata": {},
   "outputs": [],
   "source": [
    "#35. Filter out all even numbers from a tuple."
   ]
  },
  {
   "cell_type": "code",
   "execution_count": 126,
   "id": "139c534b-11a2-4dfc-ae1c-cd9689fb8391",
   "metadata": {},
   "outputs": [
    {
     "name": "stdout",
     "output_type": "stream",
     "text": [
      "(1, 3, 5, 7, 9)\n"
     ]
    }
   ],
   "source": [
    "# Create a tuple with a mix of even and odd numbers\n",
    "mixed_tuple = (1, 2, 3, 4, 5, 6, 7, 8, 9)\n",
    "\n",
    "# Filter out even numbers to create a new tuple of odd numbers\n",
    "odd_numbers_tuple = tuple(x for x in mixed_tuple if x % 2 != 0)\n",
    "\n",
    "# Print the tuple of odd numbers\n",
    "print(odd_numbers_tuple)\n"
   ]
  },
  {
   "cell_type": "code",
   "execution_count": 127,
   "id": "f7189700-14af-4c4a-86ef-ff974073ffe7",
   "metadata": {},
   "outputs": [],
   "source": [
    "#36. Multiply all elements in a tuple by 2."
   ]
  },
  {
   "cell_type": "code",
   "execution_count": 128,
   "id": "15a8516e-9949-4b44-9f01-189cbb4b5b59",
   "metadata": {},
   "outputs": [
    {
     "name": "stdout",
     "output_type": "stream",
     "text": [
      "(2, 4, 6, 8, 10)\n"
     ]
    }
   ],
   "source": [
    "# Create a tuple\n",
    "my_tuple = (1, 2, 3, 4, 5)\n",
    "\n",
    "# Multiply all elements in the tuple by 2\n",
    "doubled_tuple = tuple(x * 2 for x in my_tuple)\n",
    "\n",
    "# Print the doubled tuple\n",
    "print(doubled_tuple)\n"
   ]
  },
  {
   "cell_type": "code",
   "execution_count": 129,
   "id": "137e1c8d-b712-4169-8378-a0acc0dcb6f7",
   "metadata": {},
   "outputs": [],
   "source": [
    "#37. Create a tuple of random numbers."
   ]
  },
  {
   "cell_type": "code",
   "execution_count": 130,
   "id": "581ed948-91f7-4efc-8d40-ca2c6b41e69e",
   "metadata": {},
   "outputs": [
    {
     "name": "stdout",
     "output_type": "stream",
     "text": [
      "(2, 24, 66, 62, 92)\n"
     ]
    }
   ],
   "source": [
    "import random\n",
    "\n",
    "# Create an empty tuple to store random numbers\n",
    "random_numbers_tuple = ()\n",
    "\n",
    "# Generate 5 random integers and add them to the tuple\n",
    "for _ in range(5):\n",
    "    random_number = random.randint(1, 100)\n",
    "    random_numbers_tuple += (random_number,)\n",
    "\n",
    "# Print the tuple of random numbers\n",
    "print(random_numbers_tuple)\n"
   ]
  },
  {
   "cell_type": "code",
   "execution_count": 131,
   "id": "d6d266ce-52a5-409b-8f0d-a32bb5c47663",
   "metadata": {},
   "outputs": [],
   "source": [
    "#38. Check if a tuple is sorted."
   ]
  },
  {
   "cell_type": "code",
   "execution_count": 132,
   "id": "6c8bcd5f-bfe2-4096-a3c5-963f7254ec23",
   "metadata": {},
   "outputs": [
    {
     "name": "stdout",
     "output_type": "stream",
     "text": [
      "The tuple is sorted in ascending order.\n"
     ]
    }
   ],
   "source": [
    "# Define a tuple\n",
    "my_tuple = (1, 2, 3, 4, 5)\n",
    "\n",
    "# Check if the tuple is sorted in ascending order\n",
    "is_sorted = all(my_tuple[i] <= my_tuple[i + 1] for i in range(len(my_tuple) - 1))\n",
    "\n",
    "# Print the result\n",
    "if is_sorted:\n",
    "    print(\"The tuple is sorted in ascending order.\")\n",
    "else:\n",
    "    print(\"The tuple is not sorted in ascending order.\")\n"
   ]
  },
  {
   "cell_type": "code",
   "execution_count": 133,
   "id": "3c757a68-215c-4faf-b563-e2fe35b13320",
   "metadata": {},
   "outputs": [],
   "source": [
    "#39. Rotate a tuple to the left by `n` positions."
   ]
  },
  {
   "cell_type": "code",
   "execution_count": 134,
   "id": "8f77278b-74f1-459c-80a3-15dec0b00ef5",
   "metadata": {},
   "outputs": [
    {
     "name": "stdout",
     "output_type": "stream",
     "text": [
      "(3, 4, 5, 1, 2)\n"
     ]
    }
   ],
   "source": [
    "# Define a tuple\n",
    "my_tuple = (1, 2, 3, 4, 5)\n",
    "\n",
    "# Specify the number of positions to rotate\n",
    "n = 2  # You can change this value to rotate by a different number of positions\n",
    "\n",
    "# Rotate the tuple to the left by n positions\n",
    "rotated_tuple = my_tuple[n:] + my_tuple[:n]\n",
    "\n",
    "# Print the rotated tuple\n",
    "print(rotated_tuple)\n"
   ]
  },
  {
   "cell_type": "code",
   "execution_count": 135,
   "id": "fb43d355-98e5-4b09-99cf-eb33564bdaaf",
   "metadata": {},
   "outputs": [],
   "source": [
    "#40. Rotate a tuple to the right by `n` positions."
   ]
  },
  {
   "cell_type": "code",
   "execution_count": 136,
   "id": "8ed1028d-2fa5-488d-ad07-e20860614956",
   "metadata": {},
   "outputs": [
    {
     "name": "stdout",
     "output_type": "stream",
     "text": [
      "(4, 5, 1, 2, 3)\n"
     ]
    }
   ],
   "source": [
    "# Define a tuple\n",
    "my_tuple = (1, 2, 3, 4, 5)\n",
    "\n",
    "# Specify the number of positions to rotate\n",
    "n = 2  # You can change this value to rotate by a different number of positions\n",
    "\n",
    "# Calculate the rotation index\n",
    "rotation_index = len(my_tuple) - n\n",
    "\n",
    "# Rotate the tuple to the right by n positions\n",
    "rotated_tuple = my_tuple[rotation_index:] + my_tuple[:rotation_index]\n",
    "\n",
    "# Print the rotated tuple\n",
    "print(rotated_tuple)\n"
   ]
  },
  {
   "cell_type": "code",
   "execution_count": 137,
   "id": "cd6d8e10-bae1-4eed-9036-605bd2db4474",
   "metadata": {},
   "outputs": [],
   "source": [
    "#41. Create a tuple of the first 5 Fibonacci numbers."
   ]
  },
  {
   "cell_type": "code",
   "execution_count": 138,
   "id": "e63f741f-a4da-4857-820f-9bb32955e61a",
   "metadata": {},
   "outputs": [
    {
     "name": "stdout",
     "output_type": "stream",
     "text": [
      "(0, 1, 1, 2, 3)\n"
     ]
    }
   ],
   "source": [
    "# Initialize a tuple with the first two Fibonacci numbers\n",
    "fibonacci_tuple = (0, 1)\n",
    "\n",
    "# Generate the next 3 Fibonacci numbers and add them to the tuple\n",
    "while len(fibonacci_tuple) < 5:\n",
    "    next_fibonacci = fibonacci_tuple[-1] + fibonacci_tuple[-2]\n",
    "    fibonacci_tuple += (next_fibonacci,)\n",
    "\n",
    "# Print the tuple of the first 5 Fibonacci numbers\n",
    "print(fibonacci_tuple)\n"
   ]
  },
  {
   "cell_type": "code",
   "execution_count": 139,
   "id": "15f9e3b0-2984-4db7-8b56-8fb577f0a37f",
   "metadata": {},
   "outputs": [],
   "source": [
    "#42. Create a tuple from user input."
   ]
  },
  {
   "cell_type": "code",
   "execution_count": 140,
   "id": "afe76e25-fdf6-4718-8562-263dc4dd39cd",
   "metadata": {},
   "outputs": [
    {
     "name": "stdin",
     "output_type": "stream",
     "text": [
      "Enter elements separated by commas:  mansuri,nabasyerrtgb,hghyh,\n"
     ]
    },
    {
     "name": "stdout",
     "output_type": "stream",
     "text": [
      "User-created tuple: ('mansuri', 'nabasyerrtgb', 'hghyh', '')\n"
     ]
    }
   ],
   "source": [
    "# Get user input as a comma-separated string\n",
    "user_input = input(\"Enter elements separated by commas: \")\n",
    "\n",
    "# Split the input string into a list of elements\n",
    "input_elements = user_input.split(',')\n",
    "\n",
    "# Remove leading and trailing whitespace from each element\n",
    "input_elements = [element.strip() for element in input_elements]\n",
    "\n",
    "# Create a tuple from the list of elements\n",
    "user_tuple = tuple(input_elements)\n",
    "\n",
    "# Print the user-created tuple\n",
    "print(\"User-created tuple:\", user_tuple)\n"
   ]
  },
  {
   "cell_type": "code",
   "execution_count": 141,
   "id": "ef69f553-1ef1-489c-87a0-b999e9779fd6",
   "metadata": {},
   "outputs": [],
   "source": [
    "#43. Swap two elements in a tuple."
   ]
  },
  {
   "cell_type": "code",
   "execution_count": 142,
   "id": "8f1f731c-9302-4d87-8e58-15ac35af5d0b",
   "metadata": {},
   "outputs": [
    {
     "name": "stdout",
     "output_type": "stream",
     "text": [
      "(1, 2, 5, 4, 3)\n"
     ]
    }
   ],
   "source": [
    "# Define a tuple\n",
    "my_tuple = (1, 2, 3, 4, 5)\n",
    "\n",
    "# Specify the indices of the elements to swap\n",
    "index1 = 2  # Index of the first element to swap (3)\n",
    "index2 = 4  # Index of the second element to swap (5)\n",
    "\n",
    "# Convert the tuple to a list to facilitate swapping\n",
    "tuple_list = list(my_tuple)\n",
    "\n",
    "# Swap the elements in the list\n",
    "tuple_list[index1], tuple_list[index2] = tuple_list[index2], tuple_list[index1]\n",
    "\n",
    "# Convert the list back to a tuple\n",
    "swapped_tuple = tuple(tuple_list)\n",
    "\n",
    "# Print the tuple with swapped elements\n",
    "print(swapped_tuple)\n"
   ]
  },
  {
   "cell_type": "code",
   "execution_count": 143,
   "id": "c966aacd-2d54-4d20-b84c-aba6e4e2bb65",
   "metadata": {},
   "outputs": [],
   "source": [
    "#44. Reverse the elements of a tuple."
   ]
  },
  {
   "cell_type": "code",
   "execution_count": 144,
   "id": "4fff384b-0cc5-4936-9ea4-6513b1fc0d4c",
   "metadata": {},
   "outputs": [
    {
     "name": "stdout",
     "output_type": "stream",
     "text": [
      "(5, 4, 3, 2, 1)\n"
     ]
    }
   ],
   "source": [
    "# Define a tuple\n",
    "my_tuple = (1, 2, 3, 4, 5)\n",
    "\n",
    "# Reverse the elements and create a new tuple\n",
    "reversed_tuple = tuple(reversed(my_tuple))\n",
    "\n",
    "# Print the reversed tuple\n",
    "print(reversed_tuple)\n"
   ]
  },
  {
   "cell_type": "code",
   "execution_count": 146,
   "id": "fe531ed4-3608-46f8-b17c-1e98e34831e4",
   "metadata": {},
   "outputs": [],
   "source": [
    "#45. Create a tuple of the first `n` powers of 2."
   ]
  },
  {
   "cell_type": "code",
   "execution_count": 147,
   "id": "a708cd57-7381-4955-b99d-9c95f4a772d4",
   "metadata": {},
   "outputs": [
    {
     "name": "stdout",
     "output_type": "stream",
     "text": [
      "(1, 2, 4, 8, 16)\n"
     ]
    }
   ],
   "source": [
    "# Specify the value of n (number of powers of 2)\n",
    "n = 5  # You can change this value to generate a different number of powers\n",
    "\n",
    "# Create a tuple of the first n powers of 2\n",
    "powers_of_2_tuple = tuple(2 ** i for i in range(n))\n",
    "\n",
    "# Print the tuple of powers of 2\n",
    "print(powers_of_2_tuple)\n"
   ]
  },
  {
   "cell_type": "code",
   "execution_count": 148,
   "id": "34569a98-030a-412b-8fee-38e43327f2d2",
   "metadata": {},
   "outputs": [],
   "source": [
    "#46. Find the longest string in a tuple of strings."
   ]
  },
  {
   "cell_type": "code",
   "execution_count": 149,
   "id": "84f2fa58-587b-442f-885a-464db93521a7",
   "metadata": {},
   "outputs": [
    {
     "name": "stdout",
     "output_type": "stream",
     "text": [
      "The longest string is: banana\n"
     ]
    }
   ],
   "source": [
    "# Define a tuple of strings\n",
    "my_tuple = (\"apple\", \"banana\", \"cherry\", \"date\", \"fig\")\n",
    "\n",
    "# Find the longest string in the tuple\n",
    "longest_string = max(my_tuple, key=len)\n",
    "\n",
    "# Print the longest string\n",
    "print(\"The longest string is:\", longest_string)\n"
   ]
  },
  {
   "cell_type": "code",
   "execution_count": 150,
   "id": "24995220-1259-48a2-8dd6-1edd86859bb2",
   "metadata": {},
   "outputs": [],
   "source": [
    "#47. Find the shortest string in a tuple of strings."
   ]
  },
  {
   "cell_type": "code",
   "execution_count": 151,
   "id": "64e02d18-3cc7-4294-9cf0-7e0a10c6454e",
   "metadata": {},
   "outputs": [
    {
     "name": "stdout",
     "output_type": "stream",
     "text": [
      "The shortest string is: fig\n"
     ]
    }
   ],
   "source": [
    "# Define a tuple of strings\n",
    "my_tuple = (\"apple\", \"banana\", \"cherry\", \"date\", \"fig\")\n",
    "\n",
    "# Find the shortest string in the tuple\n",
    "shortest_string = min(my_tuple, key=len)\n",
    "\n",
    "# Print the shortest string\n",
    "print(\"The shortest string is:\", shortest_string)\n"
   ]
  },
  {
   "cell_type": "code",
   "execution_count": 152,
   "id": "615a6318-e691-49c0-a9ad-ef883af1d2a8",
   "metadata": {},
   "outputs": [],
   "source": [
    "#48. Create a tuple of the first `n` triangular numbers."
   ]
  },
  {
   "cell_type": "code",
   "execution_count": 153,
   "id": "4ae04e63-8f87-4891-86b7-5407d696aca2",
   "metadata": {},
   "outputs": [
    {
     "name": "stdout",
     "output_type": "stream",
     "text": [
      "(1, 3, 6, 10, 15)\n"
     ]
    }
   ],
   "source": [
    "# Specify the value of n (number of triangular numbers)\n",
    "n = 5  # You can change this value to generate a different number of triangular numbers\n",
    "\n",
    "# Create a tuple of the first n triangular numbers\n",
    "triangular_numbers_tuple = ()\n",
    "sum_so_far = 0\n",
    "\n",
    "for i in range(1, n + 1):\n",
    "    sum_so_far += i\n",
    "    triangular_numbers_tuple += (sum_so_far,)\n",
    "\n",
    "# Print the tuple of triangular numbers\n",
    "print(triangular_numbers_tuple)\n"
   ]
  },
  {
   "cell_type": "code",
   "execution_count": 154,
   "id": "77c9ea13-2ab6-48eb-a31e-4bf89097b48b",
   "metadata": {},
   "outputs": [],
   "source": [
    "#49. Check if a tuple contains another tuple as a subsequence."
   ]
  },
  {
   "cell_type": "code",
   "execution_count": 155,
   "id": "b54dfe0d-0631-4e10-9a97-05f002fdd074",
   "metadata": {},
   "outputs": [
    {
     "name": "stdout",
     "output_type": "stream",
     "text": [
      "The subsequence tuple is found in the main tuple.\n"
     ]
    }
   ],
   "source": [
    "# Define the main tuple\n",
    "main_tuple = (1, 2, 3, 4, 5, 6, 7, 8)\n",
    "\n",
    "# Define the subsequence tuple to check for\n",
    "subsequence_tuple = (3, 4, 5)\n",
    "\n",
    "# Initialize variables for tracking the subsequence match\n",
    "subsequence_index = 0\n",
    "match_count = 0\n",
    "\n",
    "# Iterate through the main tuple\n",
    "for item in main_tuple:\n",
    "    if item == subsequence_tuple[subsequence_index]:\n",
    "        subsequence_index += 1\n",
    "        match_count += 1\n",
    "    else:\n",
    "        subsequence_index = 0\n",
    "\n",
    "    # Check if the entire subsequence has been found\n",
    "    if match_count == len(subsequence_tuple):\n",
    "        break\n",
    "\n",
    "# Check if the subsequence was found\n",
    "if match_count == len(subsequence_tuple):\n",
    "    print(\"The subsequence tuple is found in the main tuple.\")\n",
    "else:\n",
    "    print(\"The subsequence tuple is not found in the main tuple.\")\n"
   ]
  },
  {
   "cell_type": "code",
   "execution_count": 156,
   "id": "4416b299-4d39-49cb-b814-d3ae5df29440",
   "metadata": {},
   "outputs": [],
   "source": [
    "#50. Create a tuple of alternating 1s and 0s of length `n`."
   ]
  },
  {
   "cell_type": "code",
   "execution_count": 157,
   "id": "cab204da-701d-4a5d-a1a7-9b05f6307f2d",
   "metadata": {},
   "outputs": [
    {
     "name": "stdout",
     "output_type": "stream",
     "text": [
      "(1, 0, 1, 0, 1, 0, 1, 0, 1, 0)\n"
     ]
    }
   ],
   "source": [
    "# Specify the length of the tuple\n",
    "n = 10  # You can change this value to create a tuple of a different length\n",
    "\n",
    "# Create a tuple of alternating 1s and 0s\n",
    "alternating_tuple = tuple(1 if i % 2 == 0 else 0 for i in range(n))\n",
    "\n",
    "# Print the alternating tuple\n",
    "print(alternating_tuple)\n"
   ]
  },
  {
   "cell_type": "markdown",
   "id": "7695d620-005f-4a80-be9b-8c766dca96ce",
   "metadata": {},
   "source": [
    "Set Based Practice Problem"
   ]
  },
  {
   "cell_type": "code",
   "execution_count": null,
   "id": "662a15cb-2a9a-46e0-a08c-c98ae0c028af",
   "metadata": {},
   "outputs": [],
   "source": [
    "#1. Create a set with integers from 1 to 5."
   ]
  },
  {
   "cell_type": "code",
   "execution_count": null,
   "id": "30e34e2b-cf50-4c7b-9056-59fdf22cc278",
   "metadata": {},
   "outputs": [],
   "source": [
    "my_set = {1, 2, 3, 4, 5}\n"
   ]
  },
  {
   "cell_type": "code",
   "execution_count": 160,
   "id": "0e455bfc-13b3-4c92-bad4-873d62e8ab83",
   "metadata": {},
   "outputs": [],
   "source": [
    "#2. Add an element to a set."
   ]
  },
  {
   "cell_type": "code",
   "execution_count": 161,
   "id": "546f9ec3-c775-42b3-90b7-37d61b2622f3",
   "metadata": {},
   "outputs": [],
   "source": [
    "my_set = {1, 2, 3, 4, 5}\n",
    "my_set.add(6)  # Adds the element 6 to the set\n"
   ]
  },
  {
   "cell_type": "code",
   "execution_count": 162,
   "id": "5398bafc-3028-42f6-91d3-1333ead359c5",
   "metadata": {},
   "outputs": [],
   "source": [
    "#3. Remove an element from a set."
   ]
  },
  {
   "cell_type": "code",
   "execution_count": 163,
   "id": "71d4bff8-54a1-4bd6-b984-a3808e2466d4",
   "metadata": {},
   "outputs": [],
   "source": [
    "my_set = {1, 2, 3, 4, 5}\n",
    "element_to_remove = 3\n",
    "my_set.remove(element_to_remove)  # Removes the element 3 from the set\n"
   ]
  },
  {
   "cell_type": "code",
   "execution_count": 164,
   "id": "7fab8aea-4ec1-4dc5-91e0-946f5776e9dc",
   "metadata": {},
   "outputs": [],
   "source": [
    "#4. Check if an element exists in a set."
   ]
  },
  {
   "cell_type": "code",
   "execution_count": 165,
   "id": "887cfef5-3739-4905-974d-db1265d730dc",
   "metadata": {},
   "outputs": [
    {
     "name": "stdout",
     "output_type": "stream",
     "text": [
      "3 exists in the set.\n"
     ]
    }
   ],
   "source": [
    "my_set = {1, 2, 3, 4, 5}\n",
    "element_to_check = 3\n",
    "\n",
    "if element_to_check in my_set:\n",
    "    print(f\"{element_to_check} exists in the set.\")\n",
    "else:\n",
    "    print(f\"{element_to_check} does not exist in the set.\")\n"
   ]
  },
  {
   "cell_type": "code",
   "execution_count": 166,
   "id": "46c53710-5218-4476-abd8-dbff0e673005",
   "metadata": {},
   "outputs": [],
   "source": [
    "#5. Find the length of a set without using the `len()` function."
   ]
  },
  {
   "cell_type": "code",
   "execution_count": 167,
   "id": "ca1e9235-b636-4e8a-a46c-b611c8b89f42",
   "metadata": {},
   "outputs": [
    {
     "name": "stdout",
     "output_type": "stream",
     "text": [
      "The length of the set is: 5\n"
     ]
    }
   ],
   "source": [
    "my_set = {1, 2, 3, 4, 5}\n",
    "\n",
    "# Initialize a count variable\n",
    "count = 0\n",
    "\n",
    "# Iterate through the set and increment count for each element\n",
    "for _ in my_set:\n",
    "    count += 1\n",
    "\n",
    "# Print the length of the set\n",
    "print(\"The length of the set is:\", count)\n"
   ]
  },
  {
   "cell_type": "code",
   "execution_count": 168,
   "id": "18a72a83-7291-43f7-b4f5-772f221ab2fe",
   "metadata": {},
   "outputs": [],
   "source": [
    "#6. Clear all elements from a set."
   ]
  },
  {
   "cell_type": "code",
   "execution_count": 169,
   "id": "abf30b2b-0dd1-40ff-9dfc-141fbaad64b9",
   "metadata": {},
   "outputs": [
    {
     "name": "stdout",
     "output_type": "stream",
     "text": [
      "The set after clearing: set()\n"
     ]
    }
   ],
   "source": [
    "my_set = {1, 2, 3, 4, 5}\n",
    "\n",
    "# Clear all elements from the set\n",
    "my_set.clear()\n",
    "\n",
    "# Print the empty set\n",
    "print(\"The set after clearing:\", my_set)\n"
   ]
  },
  {
   "cell_type": "code",
   "execution_count": 170,
   "id": "2cd8d51e-f010-4494-95a7-792ad3e69a6a",
   "metadata": {},
   "outputs": [],
   "source": [
    "#7. Create a set of even numbers from 1 to 10."
   ]
  },
  {
   "cell_type": "code",
   "execution_count": 171,
   "id": "032bb772-9879-4f2c-b18e-aba11bf5b7a6",
   "metadata": {},
   "outputs": [],
   "source": [
    "even_set = set(range(2, 11, 2))\n"
   ]
  },
  {
   "cell_type": "code",
   "execution_count": 172,
   "id": "7263c49d-e96a-401e-b37c-6ea8b715315c",
   "metadata": {},
   "outputs": [],
   "source": [
    "#8. Create a set of odd numbers from 1 to 10."
   ]
  },
  {
   "cell_type": "code",
   "execution_count": 173,
   "id": "f2540f25-2fd3-467c-be13-d21e8c1440b3",
   "metadata": {},
   "outputs": [],
   "source": [
    "odd_set = set(range(1, 11, 2))\n"
   ]
  },
  {
   "cell_type": "code",
   "execution_count": 174,
   "id": "23616b9a-eb01-47f4-ab02-ce8202ad99e1",
   "metadata": {},
   "outputs": [],
   "source": [
    "#9. Find the union of two sets."
   ]
  },
  {
   "cell_type": "code",
   "execution_count": 175,
   "id": "48949906-5f3d-40ed-a9d2-d8f1f909b3ad",
   "metadata": {},
   "outputs": [
    {
     "name": "stdout",
     "output_type": "stream",
     "text": [
      "Union of set1 and set2: {1, 2, 3, 4, 5, 6, 7, 8}\n"
     ]
    }
   ],
   "source": [
    "set1 = {1, 2, 3, 4, 5}\n",
    "set2 = {4, 5, 6, 7, 8}\n",
    "\n",
    "# Find the union of set1 and set2 using the union() method\n",
    "union_result = set1.union(set2)\n",
    "\n",
    "# Print the union\n",
    "print(\"Union of set1 and set2:\", union_result)\n"
   ]
  },
  {
   "cell_type": "code",
   "execution_count": 176,
   "id": "73bb1aa3-7fd2-4dac-895e-5cdf9ca590d2",
   "metadata": {},
   "outputs": [],
   "source": [
    "#10. Find the intersection of two sets."
   ]
  },
  {
   "cell_type": "code",
   "execution_count": 177,
   "id": "384d6256-4d3c-46a5-995a-094a74368a2d",
   "metadata": {},
   "outputs": [
    {
     "name": "stdout",
     "output_type": "stream",
     "text": [
      "Intersection of set1 and set2: {4, 5}\n"
     ]
    }
   ],
   "source": [
    "set1 = {1, 2, 3, 4, 5}\n",
    "set2 = {4, 5, 6, 7, 8}\n",
    "\n",
    "# Find the intersection of set1 and set2 using the & operator\n",
    "intersection_result = set1 & set2\n",
    "\n",
    "# Print the intersection\n",
    "print(\"Intersection of set1 and set2:\", intersection_result)\n"
   ]
  },
  {
   "cell_type": "code",
   "execution_count": 178,
   "id": "13e4c598-6bf5-499e-9f40-81ed358c1590",
   "metadata": {},
   "outputs": [],
   "source": [
    "#11. Find the difference between two sets."
   ]
  },
  {
   "cell_type": "code",
   "execution_count": 179,
   "id": "c8a4b01d-aee1-45c3-ad29-166bd8f67334",
   "metadata": {},
   "outputs": [
    {
     "name": "stdout",
     "output_type": "stream",
     "text": [
      "Difference between set1 and set2: {1, 2, 3}\n"
     ]
    }
   ],
   "source": [
    "set1 = {1, 2, 3, 4, 5}\n",
    "set2 = {4, 5, 6, 7, 8}\n",
    "\n",
    "# Find the difference between set1 and set2 using the difference() method\n",
    "difference_result = set1.difference(set2)\n",
    "\n",
    "# Print the difference\n",
    "print(\"Difference between set1 and set2:\", difference_result)\n"
   ]
  },
  {
   "cell_type": "code",
   "execution_count": 180,
   "id": "7b2488c5-5ccf-4291-a300-62161958fae7",
   "metadata": {},
   "outputs": [],
   "source": [
    "#12. Check if a set is a subset of another set."
   ]
  },
  {
   "cell_type": "code",
   "execution_count": 181,
   "id": "eb526100-b527-4154-900c-c0d9eacba14f",
   "metadata": {},
   "outputs": [
    {
     "name": "stdout",
     "output_type": "stream",
     "text": [
      "set1 is a subset of set2.\n"
     ]
    }
   ],
   "source": [
    "set1 = {1, 2, 3}\n",
    "set2 = {1, 2, 3, 4, 5}\n",
    "\n",
    "# Check if set1 is a subset of set2 using the <= operator\n",
    "is_subset = set1 <= set2\n",
    "\n",
    "# Print the result\n",
    "if is_subset:\n",
    "    print(\"set1 is a subset of set2.\")\n",
    "else:\n",
    "    print(\"set1 is not a subset of set2.\")\n"
   ]
  },
  {
   "cell_type": "code",
   "execution_count": 182,
   "id": "7083d13c-2a21-4f62-8dbe-cd0b288065c1",
   "metadata": {},
   "outputs": [],
   "source": [
    "#13. Check if a set is a superset of another set."
   ]
  },
  {
   "cell_type": "code",
   "execution_count": 183,
   "id": "6b44473e-b673-4a05-b9e5-927ce1d8a33c",
   "metadata": {},
   "outputs": [
    {
     "name": "stdout",
     "output_type": "stream",
     "text": [
      "set1 is a superset of set2.\n"
     ]
    }
   ],
   "source": [
    "set1 = {1, 2, 3, 4, 5}\n",
    "set2 = {1, 2, 3}\n",
    "\n",
    "# Check if set1 is a superset of set2 using the >= operator\n",
    "is_superset = set1 >= set2\n",
    "\n",
    "# Print the result\n",
    "if is_superset:\n",
    "    print(\"set1 is a superset of set2.\")\n",
    "else:\n",
    "    print(\"set1 is not a superset of set2.\")\n"
   ]
  },
  {
   "cell_type": "code",
   "execution_count": 184,
   "id": "9845aafd-8c65-4c8a-bb9d-56d87df6cca6",
   "metadata": {},
   "outputs": [],
   "source": [
    "#14. Create a set from a list."
   ]
  },
  {
   "cell_type": "code",
   "execution_count": 185,
   "id": "db356478-37b6-4d83-85ed-03ea5e45d7d1",
   "metadata": {},
   "outputs": [
    {
     "name": "stdout",
     "output_type": "stream",
     "text": [
      "Set from list: {1, 2, 3, 4, 5}\n"
     ]
    }
   ],
   "source": [
    "my_list = [1, 2, 3, 4, 5]\n",
    "\n",
    "# Create a set from the list\n",
    "my_set = set(my_list)\n",
    "\n",
    "# Print the set\n",
    "print(\"Set from list:\", my_set)\n"
   ]
  },
  {
   "cell_type": "code",
   "execution_count": 186,
   "id": "f05b737c-61df-4bab-a0ec-d3d75bf6779d",
   "metadata": {},
   "outputs": [],
   "source": [
    "#15. Convert a set to a list."
   ]
  },
  {
   "cell_type": "code",
   "execution_count": 187,
   "id": "7b42a2a9-b017-4f95-8b11-0a4d06b97878",
   "metadata": {},
   "outputs": [
    {
     "name": "stdout",
     "output_type": "stream",
     "text": [
      "List from set: [1, 2, 3, 4, 5]\n"
     ]
    }
   ],
   "source": [
    "my_set = {1, 2, 3, 4, 5}\n",
    "\n",
    "# Convert the set to a list\n",
    "my_list = list(my_set)\n",
    "\n",
    "# Print the list\n",
    "print(\"List from set:\", my_list)\n"
   ]
  },
  {
   "cell_type": "code",
   "execution_count": 188,
   "id": "a8cf7eb8-7d51-463c-9279-db1e14e1b4e2",
   "metadata": {},
   "outputs": [],
   "source": [
    "#16. Remove a random element from a set."
   ]
  },
  {
   "cell_type": "code",
   "execution_count": 189,
   "id": "32035a20-29c4-4eda-9259-0f6aff65c3bf",
   "metadata": {},
   "outputs": [
    {
     "name": "stdout",
     "output_type": "stream",
     "text": [
      "Removed element: 1\n",
      "Updated set: {2, 3, 4, 5}\n"
     ]
    }
   ],
   "source": [
    "my_set = {1, 2, 3, 4, 5}\n",
    "\n",
    "# Remove a random element from the set using pop()\n",
    "removed_element = my_set.pop()\n",
    "\n",
    "# Print the removed element and the updated set\n",
    "print(\"Removed element:\", removed_element)\n",
    "print(\"Updated set:\", my_set)\n"
   ]
  },
  {
   "cell_type": "code",
   "execution_count": 190,
   "id": "2971165c-2471-4385-952c-aad5c25869ab",
   "metadata": {},
   "outputs": [],
   "source": [
    "#17. Pop an element from a set."
   ]
  },
  {
   "cell_type": "code",
   "execution_count": 191,
   "id": "1e619f94-165c-49d3-b6a8-52053453e08a",
   "metadata": {},
   "outputs": [
    {
     "name": "stdout",
     "output_type": "stream",
     "text": [
      "Popped element: 1\n",
      "Updated set: {2, 3, 4, 5}\n"
     ]
    }
   ],
   "source": [
    "my_set = {1, 2, 3, 4, 5}\n",
    "\n",
    "# Pop an element from the set using pop()\n",
    "popped_element = my_set.pop()\n",
    "\n",
    "# Print the popped element and the updated set\n",
    "print(\"Popped element:\", popped_element)\n",
    "print(\"Updated set:\", my_set)\n"
   ]
  },
  {
   "cell_type": "code",
   "execution_count": 192,
   "id": "20d0ac20-498d-437e-9ded-296d6981d9b1",
   "metadata": {},
   "outputs": [],
   "source": [
    "#18. Check if two sets have no elements in common."
   ]
  },
  {
   "cell_type": "code",
   "execution_count": 193,
   "id": "a9cad9df-af29-48b0-bdef-f86b2b9e9289",
   "metadata": {},
   "outputs": [
    {
     "name": "stdout",
     "output_type": "stream",
     "text": [
      "set1 and set2 have no elements in common.\n"
     ]
    }
   ],
   "source": [
    "set1 = {1, 2, 3}\n",
    "set2 = {4, 5, 6}\n",
    "\n",
    "# Check if set1 and set2 have no elements in common using isdisjoint()\n",
    "no_common_elements = set1.isdisjoint(set2)\n",
    "\n",
    "# Print the result\n",
    "if no_common_elements:\n",
    "    print(\"set1 and set2 have no elements in common.\")\n",
    "else:\n",
    "    print(\"set1 and set2 have common elements.\")\n"
   ]
  },
  {
   "cell_type": "code",
   "execution_count": 195,
   "id": "e0727c7d-6c85-43ed-90f1-44f89a342035",
   "metadata": {},
   "outputs": [],
   "source": [
    "#19. Find the symmetric difference between two sets."
   ]
  },
  {
   "cell_type": "code",
   "execution_count": 196,
   "id": "077947a1-b516-4cd0-b27f-196bf4220187",
   "metadata": {},
   "outputs": [
    {
     "name": "stdout",
     "output_type": "stream",
     "text": [
      "Symmetric difference between set1 and set2: {1, 2, 3, 6, 7, 8}\n"
     ]
    }
   ],
   "source": [
    "set1 = {1, 2, 3, 4, 5}\n",
    "set2 = {4, 5, 6, 7, 8}\n",
    "\n",
    "# Find the symmetric difference between set1 and set2 using the symmetric_difference() method\n",
    "symmetric_difference_result = set1.symmetric_difference(set2)\n",
    "\n",
    "# Print the symmetric difference\n",
    "print(\"Symmetric difference between set1 and set2:\", symmetric_difference_result)\n"
   ]
  },
  {
   "cell_type": "code",
   "execution_count": 197,
   "id": "79ddf4df-1b7f-4557-81b2-1ee13c215ad1",
   "metadata": {},
   "outputs": [],
   "source": [
    "#20. Update a set with elements from another set."
   ]
  },
  {
   "cell_type": "code",
   "execution_count": 198,
   "id": "368cfcd1-19b5-430f-9ad7-2d6d150cc4c1",
   "metadata": {},
   "outputs": [
    {
     "name": "stdout",
     "output_type": "stream",
     "text": [
      "Updated set1: {1, 2, 3, 4, 5}\n"
     ]
    }
   ],
   "source": [
    "set1 = {1, 2, 3}\n",
    "set2 = {3, 4, 5}\n",
    "\n",
    "# Update set1 with elements from set2 using the update() method\n",
    "set1.update(set2)\n",
    "\n",
    "# Print the updated set1\n",
    "print(\"Updated set1:\", set1)\n"
   ]
  },
  {
   "cell_type": "code",
   "execution_count": 199,
   "id": "86b4c730-443b-4ade-92ab-9752e82f4f5e",
   "metadata": {},
   "outputs": [],
   "source": [
    "#21. Create a set of the first 5 prime numbers."
   ]
  },
  {
   "cell_type": "code",
   "execution_count": 201,
   "id": "480ecab9-0e9b-488d-b4ae-0ea0291c61d6",
   "metadata": {},
   "outputs": [
    {
     "name": "stdout",
     "output_type": "stream",
     "text": [
      "Set of the first 5 prime numbers: {2, 3, 5, 7, 11}\n"
     ]
    }
   ],
   "source": [
    "prime_numbers = {2, 3, 5, 7, 11}\n",
    "\n",
    "# Print the set of the first 5 prime numbers\n",
    "print(\"Set of the first 5 prime numbers:\", prime_numbers)\n"
   ]
  },
  {
   "cell_type": "code",
   "execution_count": 202,
   "id": "7a173fc9-6d74-4460-a93b-6f0e38751d82",
   "metadata": {},
   "outputs": [],
   "source": [
    "#22. Check if two sets are identical."
   ]
  },
  {
   "cell_type": "code",
   "execution_count": 203,
   "id": "bc4a1e3c-be48-44ac-89d5-74f69c0cefe4",
   "metadata": {},
   "outputs": [
    {
     "name": "stdout",
     "output_type": "stream",
     "text": [
      "set1 and set2 are identical.\n"
     ]
    }
   ],
   "source": [
    "set1 = {1, 2, 3, 4, 5}\n",
    "set2 = {5, 4, 3, 2, 1}\n",
    "\n",
    "# Check if set1 and set2 are identical using the == operator\n",
    "are_identical = set1 == set2\n",
    "\n",
    "# Print the result\n",
    "if are_identical:\n",
    "    print(\"set1 and set2 are identical.\")\n",
    "else:\n",
    "    print(\"set1 and set2 are not identical.\")\n"
   ]
  },
  {
   "cell_type": "code",
   "execution_count": 204,
   "id": "63dee559-d989-41d6-b66b-95c30cf5d2e0",
   "metadata": {},
   "outputs": [],
   "source": [
    "#23. Create a frozen set."
   ]
  },
  {
   "cell_type": "code",
   "execution_count": 205,
   "id": "16f41f8d-4b56-4cd3-8247-3339bfcd7962",
   "metadata": {},
   "outputs": [
    {
     "name": "stdout",
     "output_type": "stream",
     "text": [
      "Frozen set: frozenset({1, 2, 3, 4, 5})\n"
     ]
    }
   ],
   "source": [
    "my_set = {1, 2, 3, 4, 5}\n",
    "\n",
    "# Create a frozen set from the original set\n",
    "my_frozen_set = frozenset(my_set)\n",
    "\n",
    "# Print the frozen set\n",
    "print(\"Frozen set:\", my_frozen_set)\n"
   ]
  },
  {
   "cell_type": "code",
   "execution_count": 206,
   "id": "e353bc07-fd41-43ee-8150-b8f8ed540658",
   "metadata": {},
   "outputs": [],
   "source": [
    "#24. Check if a set is disjoint with another set."
   ]
  },
  {
   "cell_type": "code",
   "execution_count": 207,
   "id": "3695748f-0b34-40c8-8404-19dbff9bee74",
   "metadata": {},
   "outputs": [
    {
     "name": "stdout",
     "output_type": "stream",
     "text": [
      "set1 and set2 are disjoint.\n"
     ]
    }
   ],
   "source": [
    "set1 = {1, 2, 3}\n",
    "set2 = {4, 5, 6}\n",
    "\n",
    "# Check if set1 and set2 are disjoint using isdisjoint()\n",
    "are_disjoint = set1.isdisjoint(set2)\n",
    "\n",
    "# Print the result\n",
    "if are_disjoint:\n",
    "    print(\"set1 and set2 are disjoint.\")\n",
    "else:\n",
    "    print(\"set1 and set2 are not disjoint and have common elements.\")\n"
   ]
  },
  {
   "cell_type": "code",
   "execution_count": 208,
   "id": "b71dfd11-2bd9-465e-af5e-de493a3bb5ca",
   "metadata": {},
   "outputs": [],
   "source": [
    "#25. Create a set of squares of numbers from 1 to 5."
   ]
  },
  {
   "cell_type": "code",
   "execution_count": 209,
   "id": "b845de12-3b67-431f-8f81-5e1b56624854",
   "metadata": {},
   "outputs": [
    {
     "name": "stdout",
     "output_type": "stream",
     "text": [
      "Set of squares: {1, 4, 9, 16, 25}\n"
     ]
    }
   ],
   "source": [
    "# Using a set comprehension to create a set of squares\n",
    "squares_set = {x ** 2 for x in range(1, 6)}\n",
    "\n",
    "# Print the set of squares\n",
    "print(\"Set of squares:\", squares_set)\n"
   ]
  },
  {
   "cell_type": "code",
   "execution_count": 215,
   "id": "db8c0225-3b22-43d4-8666-c7ec3731e09d",
   "metadata": {},
   "outputs": [],
   "source": [
    "#26. Filter out all even numbers from a set."
   ]
  },
  {
   "cell_type": "code",
   "execution_count": 214,
   "id": "c4b8cea6-aeda-4ca4-9140-6d1cefd11992",
   "metadata": {},
   "outputs": [
    {
     "name": "stdout",
     "output_type": "stream",
     "text": [
      "Filtered set (odd numbers only): {1, 3, 5, 7, 9}\n"
     ]
    }
   ],
   "source": [
    "original_set = {1, 2, 3, 4, 5, 6, 7, 8, 9, 10}\n",
    "\n",
    "# Use a set comprehension to filter out even numbers\n",
    "filtered_set = {x for x in original_set if x % 2 != 0}\n",
    "\n",
    "# Print the filtered set\n",
    "print(\"Filtered set (odd numbers only):\", filtered_set)\n"
   ]
  },
  {
   "cell_type": "code",
   "execution_count": 212,
   "id": "adc1242f-a02f-463b-9134-2953378f8438",
   "metadata": {},
   "outputs": [],
   "source": [
    "#27. Multiply all elements in a set by 2."
   ]
  },
  {
   "cell_type": "code",
   "execution_count": 213,
   "id": "5645c7f9-93e7-44c5-a93f-2ca8721f8751",
   "metadata": {},
   "outputs": [
    {
     "name": "stdout",
     "output_type": "stream",
     "text": [
      "New set (elements multiplied by 2): {2, 4, 6, 8, 10}\n"
     ]
    }
   ],
   "source": [
    "original_set = {1, 2, 3, 4, 5}\n",
    "\n",
    "# Create a new set with elements multiplied by 2\n",
    "new_set = {x * 2 for x in original_set}\n",
    "\n",
    "# Print the new set\n",
    "print(\"New set (elements multiplied by 2):\", new_set)\n"
   ]
  },
  {
   "cell_type": "code",
   "execution_count": 216,
   "id": "ae35889c-58ed-4388-89b4-f4cee9dc9662",
   "metadata": {},
   "outputs": [],
   "source": [
    "#28. Create a set of random numbers."
   ]
  },
  {
   "cell_type": "code",
   "execution_count": 217,
   "id": "979f8a8f-c139-442f-a577-6770ddc65154",
   "metadata": {},
   "outputs": [
    {
     "name": "stdout",
     "output_type": "stream",
     "text": [
      "Set of random numbers: {65, 33, 79, 83, 95}\n"
     ]
    }
   ],
   "source": [
    "import random\n",
    "\n",
    "# Create an empty set to store random numbers\n",
    "random_set = set()\n",
    "\n",
    "# Generate and add 5 random integers to the set\n",
    "for _ in range(5):\n",
    "    random_number = random.randint(1, 100)  # Change the range as needed\n",
    "    random_set.add(random_number)\n",
    "\n",
    "# Print the set of random numbers\n",
    "print(\"Set of random numbers:\", random_set)\n"
   ]
  },
  {
   "cell_type": "code",
   "execution_count": 218,
   "id": "75e2540f-2c48-4f56-ab4f-ea2c31de593b",
   "metadata": {},
   "outputs": [],
   "source": [
    "#29. Check if a set is empty."
   ]
  },
  {
   "cell_type": "code",
   "execution_count": 219,
   "id": "be7161d0-818a-4e8d-ace1-95bf72884892",
   "metadata": {},
   "outputs": [
    {
     "name": "stdout",
     "output_type": "stream",
     "text": [
      "The set is empty.\n"
     ]
    }
   ],
   "source": [
    "my_set = set()\n",
    "\n",
    "if not my_set:\n",
    "    print(\"The set is empty.\")\n",
    "else:\n",
    "    print(\"The set is not empty.\")\n"
   ]
  },
  {
   "cell_type": "code",
   "execution_count": 220,
   "id": "1e5089b9-b34c-44ae-a137-005fa8859e11",
   "metadata": {},
   "outputs": [],
   "source": [
    "#30. Create a nested set (hint: use frozenset)."
   ]
  },
  {
   "cell_type": "code",
   "execution_count": 221,
   "id": "156af534-6370-430d-b08b-b633dd6e63ac",
   "metadata": {},
   "outputs": [
    {
     "name": "stdout",
     "output_type": "stream",
     "text": [
      "Nested set: {frozenset({1, 2, 3}), frozenset({4, 5, 6})}\n"
     ]
    }
   ],
   "source": [
    "# Create frozensets for inner sets\n",
    "inner_set1 = frozenset({1, 2, 3})\n",
    "inner_set2 = frozenset({4, 5, 6})\n",
    "\n",
    "# Create a set that contains the frozensets (nested set)\n",
    "nested_set = {inner_set1, inner_set2}\n",
    "\n",
    "# Print the nested set\n",
    "print(\"Nested set:\", nested_set)\n"
   ]
  },
  {
   "cell_type": "code",
   "execution_count": 222,
   "id": "edca8f2b-071d-4ae9-9d42-8080e7dbd575",
   "metadata": {},
   "outputs": [],
   "source": [
    "#31. Remove an element from a set using the discard method."
   ]
  },
  {
   "cell_type": "code",
   "execution_count": 223,
   "id": "063d9094-5151-453b-8767-fec8d63314d5",
   "metadata": {},
   "outputs": [
    {
     "name": "stdout",
     "output_type": "stream",
     "text": [
      "Updated set after removing 3: {1, 2, 4, 5}\n",
      "Set after attempting to remove 7: {1, 2, 4, 5}\n"
     ]
    }
   ],
   "source": [
    "my_set = {1, 2, 3, 4, 5}\n",
    "\n",
    "# Remove an element using the discard() method\n",
    "my_set.discard(3)\n",
    "\n",
    "# Print the updated set\n",
    "print(\"Updated set after removing 3:\", my_set)\n",
    "\n",
    "# Attempt to remove an element that does not exist\n",
    "my_set.discard(7)  # No error will be raised, as discard() handles this case gracefully\n",
    "\n",
    "# Print the set after attempting to remove 7 (no change)\n",
    "print(\"Set after attempting to remove 7:\", my_set)\n"
   ]
  },
  {
   "cell_type": "code",
   "execution_count": 224,
   "id": "2883e94e-9e07-44f9-96f9-cd84e003172b",
   "metadata": {},
   "outputs": [],
   "source": [
    "#32. Compare two sets."
   ]
  },
  {
   "cell_type": "code",
   "execution_count": 225,
   "id": "2c8e132f-b6cf-4da4-8f95-b11da1a3e949",
   "metadata": {},
   "outputs": [
    {
     "name": "stdout",
     "output_type": "stream",
     "text": [
      "set1 == set2: False\n",
      "set1 == set3: False\n",
      "set2 <= set1: True\n",
      "set3 <= set1: False\n",
      "set2 < set1: True\n",
      "set1 < set1: False\n",
      "set1 >= set2: True\n",
      "set1 >= set3: False\n",
      "set1 > set2: True\n",
      "set1 > set1: False\n"
     ]
    }
   ],
   "source": [
    "set1 = {1, 2, 3, 4, 5}\n",
    "set2 = {3, 4, 5}\n",
    "set3 = {1, 2, 3, 4, 5, 6}\n",
    "\n",
    "# Equality check\n",
    "print(\"set1 == set2:\", set1 == set2)  # False\n",
    "print(\"set1 == set3:\", set1 == set3)  # True\n",
    "\n",
    "# Subset check\n",
    "print(\"set2 <= set1:\", set2 <= set1)  # True\n",
    "print(\"set3 <= set1:\", set3 <= set1)  # True\n",
    "\n",
    "# Proper subset check\n",
    "print(\"set2 < set1:\", set2 < set1)  # True\n",
    "print(\"set1 < set1:\", set1 < set1)  # False\n",
    "\n",
    "# Superset check\n",
    "print(\"set1 >= set2:\", set1 >= set2)  # True\n",
    "print(\"set1 >= set3:\", set1 >= set3)  # False\n",
    "\n",
    "# Proper superset check\n",
    "print(\"set1 > set2:\", set1 > set2)  # True\n",
    "print(\"set1 > set1:\", set1 > set1)  # False\n"
   ]
  },
  {
   "cell_type": "code",
   "execution_count": 226,
   "id": "3fe4d8f5-e7d8-4d16-bab7-d6555b046a66",
   "metadata": {},
   "outputs": [],
   "source": [
    "#33. Create a set from a string."
   ]
  },
  {
   "cell_type": "code",
   "execution_count": 227,
   "id": "2cd8650f-e7b8-44f3-b5fc-c642681ae1ce",
   "metadata": {},
   "outputs": [
    {
     "name": "stdout",
     "output_type": "stream",
     "text": [
      "Set from string using a loop: {'h', 'e', 'o', 'l'}\n"
     ]
    }
   ],
   "source": [
    "my_string = \"hello\"\n",
    "\n",
    "# Create an empty set\n",
    "my_set = set()\n",
    "\n",
    "# Iterate through the string and add characters to the set\n",
    "for char in my_string:\n",
    "    my_set.add(char)\n",
    "\n",
    "# Print the set\n",
    "print(\"Set from string using a loop:\", my_set)\n"
   ]
  },
  {
   "cell_type": "code",
   "execution_count": 228,
   "id": "28f1cc7a-57ce-4077-bd72-cab8423de035",
   "metadata": {},
   "outputs": [],
   "source": [
    "#34. Convert a set of strings to a set of integers."
   ]
  },
  {
   "cell_type": "code",
   "execution_count": 229,
   "id": "3d68dcb4-cdc9-4fc9-a11a-806337109b86",
   "metadata": {},
   "outputs": [
    {
     "name": "stdout",
     "output_type": "stream",
     "text": [
      "Set of integers: {1, 2, 3, 4, 5}\n"
     ]
    }
   ],
   "source": [
    "# Set of strings\n",
    "string_set = {\"1\", \"2\", \"3\", \"4\", \"5\"}\n",
    "\n",
    "# Convert the set of strings to a set of integers using a set comprehension\n",
    "integer_set = {int(x) for x in string_set}\n",
    "\n",
    "# Print the set of integers\n",
    "print(\"Set of integers:\", integer_set)\n"
   ]
  },
  {
   "cell_type": "code",
   "execution_count": 230,
   "id": "dd2f8398-ffa5-4e44-b950-a7a3fc93db90",
   "metadata": {},
   "outputs": [],
   "source": [
    "#35. Convert a set of integers to a set of strings."
   ]
  },
  {
   "cell_type": "code",
   "execution_count": 231,
   "id": "a3f01a8d-d8df-482f-bac8-2cda219b0bfa",
   "metadata": {},
   "outputs": [
    {
     "name": "stdout",
     "output_type": "stream",
     "text": [
      "Set of strings: {'2', '1', '4', '5', '3'}\n"
     ]
    }
   ],
   "source": [
    "# Set of integers\n",
    "integer_set = {1, 2, 3, 4, 5}\n",
    "\n",
    "# Convert the set of integers to a set of strings using a set comprehension\n",
    "string_set = {str(x) for x in integer_set}\n",
    "\n",
    "# Print the set of strings\n",
    "print(\"Set of strings:\", string_set)\n"
   ]
  },
  {
   "cell_type": "code",
   "execution_count": 232,
   "id": "ef36b7ca-e439-47df-8bc3-a0faf9e453bc",
   "metadata": {},
   "outputs": [],
   "source": [
    "#36. Create a set from a tuple."
   ]
  },
  {
   "cell_type": "code",
   "execution_count": 233,
   "id": "2abf76a5-59be-4b0d-9cfc-655c264ebce7",
   "metadata": {},
   "outputs": [
    {
     "name": "stdout",
     "output_type": "stream",
     "text": [
      "Set from tuple: {1, 2, 3, 4, 5}\n"
     ]
    }
   ],
   "source": [
    "# Tuple containing elements\n",
    "my_tuple = (1, 2, 3, 4, 5)\n",
    "\n",
    "# Create a set from the tuple\n",
    "my_set = set(my_tuple)\n",
    "\n",
    "# Print the set\n",
    "print(\"Set from tuple:\", my_set)\n"
   ]
  },
  {
   "cell_type": "code",
   "execution_count": 234,
   "id": "3132d7d1-688d-4fa5-9288-a57fa7297e57",
   "metadata": {},
   "outputs": [],
   "source": [
    "#37. Convert a set to a tuple."
   ]
  },
  {
   "cell_type": "code",
   "execution_count": 235,
   "id": "01be9fdc-7fda-42c6-a657-a272be868d49",
   "metadata": {},
   "outputs": [
    {
     "name": "stdout",
     "output_type": "stream",
     "text": [
      "Tuple from set: (1, 2, 3, 4, 5)\n"
     ]
    }
   ],
   "source": [
    "# Set containing elements\n",
    "my_set = {1, 2, 3, 4, 5}\n",
    "\n",
    "# Convert the set to a tuple\n",
    "my_tuple = tuple(my_set)\n",
    "\n",
    "# Print the tuple\n",
    "print(\"Tuple from set:\", my_tuple)\n"
   ]
  },
  {
   "cell_type": "code",
   "execution_count": 236,
   "id": "2a95040f-4764-4e1e-866b-7e8787b3cb61",
   "metadata": {},
   "outputs": [],
   "source": [
    "#38. Find the maximum value in a set."
   ]
  },
  {
   "cell_type": "code",
   "execution_count": 237,
   "id": "65b8c601-7ff9-44ab-82a2-f89c39044a5f",
   "metadata": {},
   "outputs": [
    {
     "name": "stdout",
     "output_type": "stream",
     "text": [
      "Maximum value in the set: 20\n"
     ]
    }
   ],
   "source": [
    "# Set containing elements\n",
    "my_set = {10, 5, 20, 8, 15}\n",
    "\n",
    "# Find the maximum value in the set using the max() function\n",
    "maximum_value = max(my_set)\n",
    "\n",
    "# Print the maximum value\n",
    "print(\"Maximum value in the set:\", maximum_value)\n"
   ]
  },
  {
   "cell_type": "code",
   "execution_count": 238,
   "id": "c54d9d33-5692-4b99-8877-bc08172cf149",
   "metadata": {},
   "outputs": [],
   "source": [
    "#39. Find the minimum value in a set."
   ]
  },
  {
   "cell_type": "code",
   "execution_count": 239,
   "id": "73303a30-9b19-4e14-b1d7-585b18525432",
   "metadata": {},
   "outputs": [
    {
     "name": "stdout",
     "output_type": "stream",
     "text": [
      "Minimum value in the set: 5\n"
     ]
    }
   ],
   "source": [
    "# Set containing elements\n",
    "my_set = {10, 5, 20, 8, 15}\n",
    "\n",
    "# Find the minimum value in the set using the min() function\n",
    "minimum_value = min(my_set)\n",
    "\n",
    "# Print the minimum value\n",
    "print(\"Minimum value in the set:\", minimum_value)\n"
   ]
  },
  {
   "cell_type": "code",
   "execution_count": 240,
   "id": "d0f4fdee-613b-4950-8e06-41cb8b8d16a5",
   "metadata": {},
   "outputs": [],
   "source": [
    "#40. Create a set from user input."
   ]
  },
  {
   "cell_type": "code",
   "execution_count": 241,
   "id": "2fdb9b36-ce16-4a0a-a125-91701b6a70ba",
   "metadata": {},
   "outputs": [
    {
     "name": "stdin",
     "output_type": "stream",
     "text": [
      "Enter an element (or press Enter to finish):  my name is mehboob mansuri, i am 29 year old.\n",
      "Enter an element (or press Enter to finish):  \n"
     ]
    },
    {
     "name": "stdout",
     "output_type": "stream",
     "text": [
      "Set from user input: {'my name is mehboob mansuri, i am 29 year old.'}\n"
     ]
    }
   ],
   "source": [
    "# Initialize an empty set\n",
    "my_set = set()\n",
    "\n",
    "# Prompt the user to enter elements (terminate by entering an empty string)\n",
    "while True:\n",
    "    user_input = input(\"Enter an element (or press Enter to finish): \")\n",
    "    \n",
    "    # Check if the user wants to finish entering elements\n",
    "    if user_input == \"\":\n",
    "        break\n",
    "    \n",
    "    # Add the input to the set (convert to the appropriate data type if needed)\n",
    "    my_set.add(user_input)\n",
    "\n",
    "# Print the resulting set\n",
    "print(\"Set from user input:\", my_set)\n"
   ]
  },
  {
   "cell_type": "code",
   "execution_count": 242,
   "id": "e49269aa-8672-40a5-933f-a795db5b969e",
   "metadata": {},
   "outputs": [],
   "source": [
    "#41. Check if the intersection of two sets is empty."
   ]
  },
  {
   "cell_type": "code",
   "execution_count": 243,
   "id": "d4fe52de-60f6-4a30-b53a-202c4a0b4c46",
   "metadata": {},
   "outputs": [
    {
     "name": "stdout",
     "output_type": "stream",
     "text": [
      "The intersection of set1 and set2 is empty.\n"
     ]
    }
   ],
   "source": [
    "# Define two sets\n",
    "set1 = {1, 2, 3}\n",
    "set2 = {4, 5, 6}\n",
    "\n",
    "# Check if the intersection is empty using isdisjoint()\n",
    "is_empty_intersection = set1.isdisjoint(set2)\n",
    "\n",
    "# Print the result\n",
    "if is_empty_intersection:\n",
    "    print(\"The intersection of set1 and set2 is empty.\")\n",
    "else:\n",
    "    print(\"The intersection of set1 and set2 is not empty.\")\n"
   ]
  },
  {
   "cell_type": "code",
   "execution_count": 244,
   "id": "f92d85a1-5288-465b-aa62-7c87c7a7d2ff",
   "metadata": {},
   "outputs": [],
   "source": [
    "#42. Create a set of the first 5 Fibonacci numbers."
   ]
  },
  {
   "cell_type": "code",
   "execution_count": 245,
   "id": "02226155-3c14-4807-9f8d-3c3e591d58ca",
   "metadata": {},
   "outputs": [
    {
     "name": "stdout",
     "output_type": "stream",
     "text": [
      "Set of the first 5 Fibonacci numbers: {0, 1, 2, 3}\n"
     ]
    }
   ],
   "source": [
    "# Initialize an empty set to store the Fibonacci numbers\n",
    "fibonacci_set = set()\n",
    "\n",
    "# Define the first two Fibonacci numbers\n",
    "a, b = 0, 1\n",
    "\n",
    "# Generate the first 5 Fibonacci numbers and add them to the set\n",
    "for _ in range(5):\n",
    "    fibonacci_set.add(a)\n",
    "    a, b = b, a + b\n",
    "\n",
    "# Print the set of Fibonacci numbers\n",
    "print(\"Set of the first 5 Fibonacci numbers:\", fibonacci_set)\n"
   ]
  },
  {
   "cell_type": "code",
   "execution_count": 246,
   "id": "bb5649a0-d588-4c47-b376-f77bf9898fb6",
   "metadata": {},
   "outputs": [],
   "source": [
    "#43. Remove duplicates from a list using sets."
   ]
  },
  {
   "cell_type": "code",
   "execution_count": 247,
   "id": "a2cc7db5-f117-4340-8a12-493c95ca7096",
   "metadata": {},
   "outputs": [
    {
     "name": "stdout",
     "output_type": "stream",
     "text": [
      "List without duplicates: [1, 2, 3, 4, 5]\n"
     ]
    }
   ],
   "source": [
    "# List with duplicates\n",
    "my_list = [1, 2, 2, 3, 4, 4, 5, 5]\n",
    "\n",
    "# Remove duplicates by converting the list to a set and back to a list\n",
    "my_list = list(set(my_list))\n",
    "\n",
    "# Print the list without duplicates\n",
    "print(\"List without duplicates:\", my_list)\n"
   ]
  },
  {
   "cell_type": "code",
   "execution_count": 248,
   "id": "35e83aa1-036a-4d7b-bab0-8e66eef13248",
   "metadata": {},
   "outputs": [],
   "source": [
    "#44. Check if two sets have the same elements, regardless of their count."
   ]
  },
  {
   "cell_type": "code",
   "execution_count": 249,
   "id": "5d8d0cc8-aca8-48a6-9be1-a23b5bc5dcb3",
   "metadata": {},
   "outputs": [
    {
     "name": "stdout",
     "output_type": "stream",
     "text": [
      "The sets have the same elements, regardless of count.\n"
     ]
    }
   ],
   "source": [
    "# Define two sets with the same elements but different counts\n",
    "set1 = {1, 2, 3, 4, 5}\n",
    "set2 = {5, 4, 3, 2, 1, 1, 2, 3}\n",
    "\n",
    "# Check if the sets have the same elements regardless of count\n",
    "are_equal = set1 == set2\n",
    "\n",
    "# Print the result\n",
    "if are_equal:\n",
    "    print(\"The sets have the same elements, regardless of count.\")\n",
    "else:\n",
    "    print(\"The sets do not have the same elements.\")\n"
   ]
  },
  {
   "cell_type": "code",
   "execution_count": 250,
   "id": "edba08cd-3c55-4f70-9ff0-794846cea747",
   "metadata": {},
   "outputs": [],
   "source": [
    "#45. Create a set of the first `n` powers of 2."
   ]
  },
  {
   "cell_type": "code",
   "execution_count": 251,
   "id": "5dfe600f-0f08-4b42-a127-d186953e78d9",
   "metadata": {},
   "outputs": [
    {
     "name": "stdout",
     "output_type": "stream",
     "text": [
      "Set of the first 5 powers of 2: {1, 2, 4, 8, 16}\n"
     ]
    }
   ],
   "source": [
    "# Function to generate the first n powers of 2 and return them as a set\n",
    "def powers_of_2(n):\n",
    "    power_set = set()\n",
    "    power = 1\n",
    "    for _ in range(n):\n",
    "        power_set.add(power)\n",
    "        power *= 2\n",
    "    return power_set\n",
    "\n",
    "# Define the value of n (the number of powers of 2 you want)\n",
    "n = 5\n",
    "\n",
    "# Create a set of the first n powers of 2\n",
    "power_set = powers_of_2(n)\n",
    "\n",
    "# Print the set\n",
    "print(f\"Set of the first {n} powers of 2:\", power_set)\n"
   ]
  },
  {
   "cell_type": "code",
   "execution_count": 252,
   "id": "32b22817-4dc1-451c-b4d2-ca68879798e4",
   "metadata": {},
   "outputs": [],
   "source": [
    "#46. Find the common elements between a set and a list."
   ]
  },
  {
   "cell_type": "code",
   "execution_count": 253,
   "id": "01dc6de8-3ac0-4879-83e8-74371c7d72f6",
   "metadata": {},
   "outputs": [
    {
     "name": "stdout",
     "output_type": "stream",
     "text": [
      "Common elements: [3, 4, 5]\n"
     ]
    }
   ],
   "source": [
    "# Define a set\n",
    "my_set = {1, 2, 3, 4, 5}\n",
    "\n",
    "# Define a list\n",
    "my_list = [3, 4, 5, 6, 7]\n",
    "\n",
    "# Find the common elements using the intersection() method\n",
    "common_elements = my_set.intersection(my_list)\n",
    "\n",
    "# Convert the result to a list if needed\n",
    "common_elements_list = list(common_elements)\n",
    "\n",
    "# Print the common elements\n",
    "print(\"Common elements:\", common_elements_list)\n"
   ]
  },
  {
   "cell_type": "code",
   "execution_count": 254,
   "id": "c4900d87-408d-4d4f-ad3b-4d4b57b064ad",
   "metadata": {},
   "outputs": [],
   "source": [
    "#47. Create a set of the first `n` triangular numbers."
   ]
  },
  {
   "cell_type": "code",
   "execution_count": 255,
   "id": "4af6c517-5767-479e-902d-13454978412d",
   "metadata": {},
   "outputs": [
    {
     "name": "stdout",
     "output_type": "stream",
     "text": [
      "Set of the first 5 triangular numbers: {1, 3, 6, 10, 15}\n"
     ]
    }
   ],
   "source": [
    "# Function to generate the first n triangular numbers and return them as a set\n",
    "def triangular_numbers(n):\n",
    "    triangular_set = set()\n",
    "    total = 0\n",
    "    for i in range(1, n + 1):\n",
    "        total += i\n",
    "        triangular_set.add(total)\n",
    "    return triangular_set\n",
    "\n",
    "# Define the value of n (the number of triangular numbers you want)\n",
    "n = 5\n",
    "\n",
    "# Create a set of the first n triangular numbers\n",
    "triangular_set = triangular_numbers(n)\n",
    "\n",
    "# Print the set\n",
    "print(f\"Set of the first {n} triangular numbers:\", triangular_set)\n"
   ]
  },
  {
   "cell_type": "code",
   "execution_count": 256,
   "id": "4278d5fb-af80-4788-b958-baad19c7a67c",
   "metadata": {},
   "outputs": [],
   "source": [
    "#48. Check if a set contains another set as a subset."
   ]
  },
  {
   "cell_type": "code",
   "execution_count": 257,
   "id": "bdeada9f-506c-4cb8-9d73-0c6f1cd04610",
   "metadata": {},
   "outputs": [
    {
     "name": "stdout",
     "output_type": "stream",
     "text": [
      "set2 is a subset of set1.\n"
     ]
    }
   ],
   "source": [
    "# Define two sets\n",
    "set1 = {1, 2, 3, 4, 5}\n",
    "set2 = {2, 3}\n",
    "\n",
    "# Check if set2 is a subset of set1 using issubset()\n",
    "is_subset = set2.issubset(set1)\n",
    "\n",
    "# Print the result\n",
    "if is_subset:\n",
    "    print(\"set2 is a subset of set1.\")\n",
    "else:\n",
    "    print(\"set2 is not a subset of set1.\")\n"
   ]
  },
  {
   "cell_type": "code",
   "execution_count": 258,
   "id": "a1b6aa41-b25a-4f0d-9b52-b25d076637fd",
   "metadata": {},
   "outputs": [],
   "source": [
    "#49. Create a set of alternating 1s and 0s of length `n`."
   ]
  },
  {
   "cell_type": "code",
   "execution_count": 259,
   "id": "c29f63ac-d5ab-419c-89cd-cbbfd68b6c0c",
   "metadata": {},
   "outputs": [
    {
     "name": "stdout",
     "output_type": "stream",
     "text": [
      "Set of alternating 1s and 0s: {0, 1}\n"
     ]
    }
   ],
   "source": [
    "# Function to create a set of alternating 1s and 0s of length n\n",
    "def alternating_set(n):\n",
    "    alt_set = set()\n",
    "    for i in range(n):\n",
    "        alt_set.add(i % 2)  # Add 0 or 1 alternately\n",
    "    return alt_set\n",
    "\n",
    "# Define the length n\n",
    "n = 10  # You can change this to the desired length\n",
    "\n",
    "# Create a set of alternating 1s and 0s\n",
    "alt_set = alternating_set(n)\n",
    "\n",
    "# Print the set\n",
    "print(\"Set of alternating 1s and 0s:\", alt_set)\n"
   ]
  },
  {
   "cell_type": "code",
   "execution_count": 260,
   "id": "a593e97c-2c54-41df-8d9e-7bac1d61d623",
   "metadata": {},
   "outputs": [],
   "source": [
    "#50. Merge multiple sets into one."
   ]
  },
  {
   "cell_type": "code",
   "execution_count": 261,
   "id": "cf5a48b9-ed3a-4aa6-a351-e01a5953725f",
   "metadata": {},
   "outputs": [
    {
     "name": "stdout",
     "output_type": "stream",
     "text": [
      "Merged set: {1, 2, 3, 4, 5, 6, 7}\n"
     ]
    }
   ],
   "source": [
    "# Define multiple sets\n",
    "set1 = {1, 2, 3}\n",
    "set2 = {3, 4, 5}\n",
    "set3 = {5, 6, 7}\n",
    "\n",
    "# Merge (union) the sets using the union() method\n",
    "merged_set = set1.union(set2, set3)\n",
    "\n",
    "# Print the merged set\n",
    "print(\"Merged set:\", merged_set)\n"
   ]
  },
  {
   "cell_type": "code",
   "execution_count": null,
   "id": "f86efd8f-04e4-4124-b77c-a09fbe984efa",
   "metadata": {},
   "outputs": [],
   "source": []
  }
 ],
 "metadata": {
  "kernelspec": {
   "display_name": "Python 3 (ipykernel)",
   "language": "python",
   "name": "python3"
  },
  "language_info": {
   "codemirror_mode": {
    "name": "ipython",
    "version": 3
   },
   "file_extension": ".py",
   "mimetype": "text/x-python",
   "name": "python",
   "nbconvert_exporter": "python",
   "pygments_lexer": "ipython3",
   "version": "3.10.8"
  }
 },
 "nbformat": 4,
 "nbformat_minor": 5
}
